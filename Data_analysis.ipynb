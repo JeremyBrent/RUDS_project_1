{
 "cells": [
  {
   "cell_type": "code",
   "execution_count": 2,
   "metadata": {
    "ExecuteTime": {
     "end_time": "2020-04-10T01:21:36.262218Z",
     "start_time": "2020-04-10T01:21:35.534697Z"
    }
   },
   "outputs": [],
   "source": [
    "import pandas as pd\n",
    "import os \n",
    "import matplotlib.pyplot as plt\n"
   ]
  },
  {
   "cell_type": "code",
   "execution_count": 3,
   "metadata": {
    "ExecuteTime": {
     "end_time": "2020-04-10T01:21:36.266351Z",
     "start_time": "2020-04-10T01:21:36.264008Z"
    }
   },
   "outputs": [],
   "source": [
    "# Countries we will analyze\n",
    "countries_list = [\"United States\",\"Mexico\",\"Venezuela\",\"Brazil\",\"South Africa\",\"Nigeria\",\"Poland\",\"Sweden\",\"China\",\"South Korea\"]\n",
    "\n",
    "\n"
   ]
  },
  {
   "cell_type": "code",
   "execution_count": 6,
   "metadata": {
    "ExecuteTime": {
     "end_time": "2020-04-10T01:21:58.343564Z",
     "start_time": "2020-04-10T01:21:58.323258Z"
    }
   },
   "outputs": [
    {
     "ename": "FileNotFoundError",
     "evalue": "[Errno 2] File Data/annual_working_hours.csv does not exist: 'Data/annual_working_hours.csv'",
     "output_type": "error",
     "traceback": [
      "\u001b[0;31m---------------------------------------------------------------------------\u001b[0m",
      "\u001b[0;31mFileNotFoundError\u001b[0m                         Traceback (most recent call last)",
      "\u001b[0;32m<ipython-input-6-a8baa0e6fbe8>\u001b[0m in \u001b[0;36m<module>\u001b[0;34m\u001b[0m\n\u001b[1;32m      1\u001b[0m \u001b[0mfilepath\u001b[0m \u001b[0;34m=\u001b[0m \u001b[0mos\u001b[0m\u001b[0;34m.\u001b[0m\u001b[0mpath\u001b[0m\u001b[0;34m.\u001b[0m\u001b[0mjoin\u001b[0m\u001b[0;34m(\u001b[0m\u001b[0;34m\"Data\"\u001b[0m\u001b[0;34m,\u001b[0m\u001b[0;34m\"annual_working_hours.csv\"\u001b[0m\u001b[0;34m)\u001b[0m\u001b[0;34m\u001b[0m\u001b[0;34m\u001b[0m\u001b[0m\n\u001b[0;32m----> 2\u001b[0;31m \u001b[0mdata_df\u001b[0m \u001b[0;34m=\u001b[0m \u001b[0mpd\u001b[0m\u001b[0;34m.\u001b[0m\u001b[0mread_csv\u001b[0m\u001b[0;34m(\u001b[0m\u001b[0mfilepath\u001b[0m\u001b[0;34m)\u001b[0m\u001b[0;34m\u001b[0m\u001b[0;34m\u001b[0m\u001b[0m\n\u001b[0m",
      "\u001b[0;32m/opt/anaconda3/envs/PythonData2020_1/lib/python3.6/site-packages/pandas/io/parsers.py\u001b[0m in \u001b[0;36mparser_f\u001b[0;34m(filepath_or_buffer, sep, delimiter, header, names, index_col, usecols, squeeze, prefix, mangle_dupe_cols, dtype, engine, converters, true_values, false_values, skipinitialspace, skiprows, skipfooter, nrows, na_values, keep_default_na, na_filter, verbose, skip_blank_lines, parse_dates, infer_datetime_format, keep_date_col, date_parser, dayfirst, cache_dates, iterator, chunksize, compression, thousands, decimal, lineterminator, quotechar, quoting, doublequote, escapechar, comment, encoding, dialect, error_bad_lines, warn_bad_lines, delim_whitespace, low_memory, memory_map, float_precision)\u001b[0m\n\u001b[1;32m    674\u001b[0m         )\n\u001b[1;32m    675\u001b[0m \u001b[0;34m\u001b[0m\u001b[0m\n\u001b[0;32m--> 676\u001b[0;31m         \u001b[0;32mreturn\u001b[0m \u001b[0m_read\u001b[0m\u001b[0;34m(\u001b[0m\u001b[0mfilepath_or_buffer\u001b[0m\u001b[0;34m,\u001b[0m \u001b[0mkwds\u001b[0m\u001b[0;34m)\u001b[0m\u001b[0;34m\u001b[0m\u001b[0;34m\u001b[0m\u001b[0m\n\u001b[0m\u001b[1;32m    677\u001b[0m \u001b[0;34m\u001b[0m\u001b[0m\n\u001b[1;32m    678\u001b[0m     \u001b[0mparser_f\u001b[0m\u001b[0;34m.\u001b[0m\u001b[0m__name__\u001b[0m \u001b[0;34m=\u001b[0m \u001b[0mname\u001b[0m\u001b[0;34m\u001b[0m\u001b[0;34m\u001b[0m\u001b[0m\n",
      "\u001b[0;32m/opt/anaconda3/envs/PythonData2020_1/lib/python3.6/site-packages/pandas/io/parsers.py\u001b[0m in \u001b[0;36m_read\u001b[0;34m(filepath_or_buffer, kwds)\u001b[0m\n\u001b[1;32m    446\u001b[0m \u001b[0;34m\u001b[0m\u001b[0m\n\u001b[1;32m    447\u001b[0m     \u001b[0;31m# Create the parser.\u001b[0m\u001b[0;34m\u001b[0m\u001b[0;34m\u001b[0m\u001b[0;34m\u001b[0m\u001b[0m\n\u001b[0;32m--> 448\u001b[0;31m     \u001b[0mparser\u001b[0m \u001b[0;34m=\u001b[0m \u001b[0mTextFileReader\u001b[0m\u001b[0;34m(\u001b[0m\u001b[0mfp_or_buf\u001b[0m\u001b[0;34m,\u001b[0m \u001b[0;34m**\u001b[0m\u001b[0mkwds\u001b[0m\u001b[0;34m)\u001b[0m\u001b[0;34m\u001b[0m\u001b[0;34m\u001b[0m\u001b[0m\n\u001b[0m\u001b[1;32m    449\u001b[0m \u001b[0;34m\u001b[0m\u001b[0m\n\u001b[1;32m    450\u001b[0m     \u001b[0;32mif\u001b[0m \u001b[0mchunksize\u001b[0m \u001b[0;32mor\u001b[0m \u001b[0miterator\u001b[0m\u001b[0;34m:\u001b[0m\u001b[0;34m\u001b[0m\u001b[0;34m\u001b[0m\u001b[0m\n",
      "\u001b[0;32m/opt/anaconda3/envs/PythonData2020_1/lib/python3.6/site-packages/pandas/io/parsers.py\u001b[0m in \u001b[0;36m__init__\u001b[0;34m(self, f, engine, **kwds)\u001b[0m\n\u001b[1;32m    878\u001b[0m             \u001b[0mself\u001b[0m\u001b[0;34m.\u001b[0m\u001b[0moptions\u001b[0m\u001b[0;34m[\u001b[0m\u001b[0;34m\"has_index_names\"\u001b[0m\u001b[0;34m]\u001b[0m \u001b[0;34m=\u001b[0m \u001b[0mkwds\u001b[0m\u001b[0;34m[\u001b[0m\u001b[0;34m\"has_index_names\"\u001b[0m\u001b[0;34m]\u001b[0m\u001b[0;34m\u001b[0m\u001b[0;34m\u001b[0m\u001b[0m\n\u001b[1;32m    879\u001b[0m \u001b[0;34m\u001b[0m\u001b[0m\n\u001b[0;32m--> 880\u001b[0;31m         \u001b[0mself\u001b[0m\u001b[0;34m.\u001b[0m\u001b[0m_make_engine\u001b[0m\u001b[0;34m(\u001b[0m\u001b[0mself\u001b[0m\u001b[0;34m.\u001b[0m\u001b[0mengine\u001b[0m\u001b[0;34m)\u001b[0m\u001b[0;34m\u001b[0m\u001b[0;34m\u001b[0m\u001b[0m\n\u001b[0m\u001b[1;32m    881\u001b[0m \u001b[0;34m\u001b[0m\u001b[0m\n\u001b[1;32m    882\u001b[0m     \u001b[0;32mdef\u001b[0m \u001b[0mclose\u001b[0m\u001b[0;34m(\u001b[0m\u001b[0mself\u001b[0m\u001b[0;34m)\u001b[0m\u001b[0;34m:\u001b[0m\u001b[0;34m\u001b[0m\u001b[0;34m\u001b[0m\u001b[0m\n",
      "\u001b[0;32m/opt/anaconda3/envs/PythonData2020_1/lib/python3.6/site-packages/pandas/io/parsers.py\u001b[0m in \u001b[0;36m_make_engine\u001b[0;34m(self, engine)\u001b[0m\n\u001b[1;32m   1112\u001b[0m     \u001b[0;32mdef\u001b[0m \u001b[0m_make_engine\u001b[0m\u001b[0;34m(\u001b[0m\u001b[0mself\u001b[0m\u001b[0;34m,\u001b[0m \u001b[0mengine\u001b[0m\u001b[0;34m=\u001b[0m\u001b[0;34m\"c\"\u001b[0m\u001b[0;34m)\u001b[0m\u001b[0;34m:\u001b[0m\u001b[0;34m\u001b[0m\u001b[0;34m\u001b[0m\u001b[0m\n\u001b[1;32m   1113\u001b[0m         \u001b[0;32mif\u001b[0m \u001b[0mengine\u001b[0m \u001b[0;34m==\u001b[0m \u001b[0;34m\"c\"\u001b[0m\u001b[0;34m:\u001b[0m\u001b[0;34m\u001b[0m\u001b[0;34m\u001b[0m\u001b[0m\n\u001b[0;32m-> 1114\u001b[0;31m             \u001b[0mself\u001b[0m\u001b[0;34m.\u001b[0m\u001b[0m_engine\u001b[0m \u001b[0;34m=\u001b[0m \u001b[0mCParserWrapper\u001b[0m\u001b[0;34m(\u001b[0m\u001b[0mself\u001b[0m\u001b[0;34m.\u001b[0m\u001b[0mf\u001b[0m\u001b[0;34m,\u001b[0m \u001b[0;34m**\u001b[0m\u001b[0mself\u001b[0m\u001b[0;34m.\u001b[0m\u001b[0moptions\u001b[0m\u001b[0;34m)\u001b[0m\u001b[0;34m\u001b[0m\u001b[0;34m\u001b[0m\u001b[0m\n\u001b[0m\u001b[1;32m   1115\u001b[0m         \u001b[0;32melse\u001b[0m\u001b[0;34m:\u001b[0m\u001b[0;34m\u001b[0m\u001b[0;34m\u001b[0m\u001b[0m\n\u001b[1;32m   1116\u001b[0m             \u001b[0;32mif\u001b[0m \u001b[0mengine\u001b[0m \u001b[0;34m==\u001b[0m \u001b[0;34m\"python\"\u001b[0m\u001b[0;34m:\u001b[0m\u001b[0;34m\u001b[0m\u001b[0;34m\u001b[0m\u001b[0m\n",
      "\u001b[0;32m/opt/anaconda3/envs/PythonData2020_1/lib/python3.6/site-packages/pandas/io/parsers.py\u001b[0m in \u001b[0;36m__init__\u001b[0;34m(self, src, **kwds)\u001b[0m\n\u001b[1;32m   1889\u001b[0m         \u001b[0mkwds\u001b[0m\u001b[0;34m[\u001b[0m\u001b[0;34m\"usecols\"\u001b[0m\u001b[0;34m]\u001b[0m \u001b[0;34m=\u001b[0m \u001b[0mself\u001b[0m\u001b[0;34m.\u001b[0m\u001b[0musecols\u001b[0m\u001b[0;34m\u001b[0m\u001b[0;34m\u001b[0m\u001b[0m\n\u001b[1;32m   1890\u001b[0m \u001b[0;34m\u001b[0m\u001b[0m\n\u001b[0;32m-> 1891\u001b[0;31m         \u001b[0mself\u001b[0m\u001b[0;34m.\u001b[0m\u001b[0m_reader\u001b[0m \u001b[0;34m=\u001b[0m \u001b[0mparsers\u001b[0m\u001b[0;34m.\u001b[0m\u001b[0mTextReader\u001b[0m\u001b[0;34m(\u001b[0m\u001b[0msrc\u001b[0m\u001b[0;34m,\u001b[0m \u001b[0;34m**\u001b[0m\u001b[0mkwds\u001b[0m\u001b[0;34m)\u001b[0m\u001b[0;34m\u001b[0m\u001b[0;34m\u001b[0m\u001b[0m\n\u001b[0m\u001b[1;32m   1892\u001b[0m         \u001b[0mself\u001b[0m\u001b[0;34m.\u001b[0m\u001b[0munnamed_cols\u001b[0m \u001b[0;34m=\u001b[0m \u001b[0mself\u001b[0m\u001b[0;34m.\u001b[0m\u001b[0m_reader\u001b[0m\u001b[0;34m.\u001b[0m\u001b[0munnamed_cols\u001b[0m\u001b[0;34m\u001b[0m\u001b[0;34m\u001b[0m\u001b[0m\n\u001b[1;32m   1893\u001b[0m \u001b[0;34m\u001b[0m\u001b[0m\n",
      "\u001b[0;32mpandas/_libs/parsers.pyx\u001b[0m in \u001b[0;36mpandas._libs.parsers.TextReader.__cinit__\u001b[0;34m()\u001b[0m\n",
      "\u001b[0;32mpandas/_libs/parsers.pyx\u001b[0m in \u001b[0;36mpandas._libs.parsers.TextReader._setup_parser_source\u001b[0;34m()\u001b[0m\n",
      "\u001b[0;31mFileNotFoundError\u001b[0m: [Errno 2] File Data/annual_working_hours.csv does not exist: 'Data/annual_working_hours.csv'"
     ]
    }
   ],
   "source": []
  },
  {
   "cell_type": "code",
   "execution_count": null,
   "metadata": {},
   "outputs": [],
   "source": []
  },
  {
   "cell_type": "code",
   "execution_count": null,
   "metadata": {},
   "outputs": [],
   "source": []
  },
  {
   "cell_type": "code",
   "execution_count": null,
   "metadata": {},
   "outputs": [],
   "source": []
  },
  {
   "cell_type": "code",
   "execution_count": null,
   "metadata": {},
   "outputs": [],
   "source": []
  },
  {
   "cell_type": "code",
   "execution_count": null,
   "metadata": {},
   "outputs": [],
   "source": []
  },
  {
   "cell_type": "code",
   "execution_count": null,
   "metadata": {},
   "outputs": [],
   "source": []
  },
  {
   "cell_type": "code",
   "execution_count": 6,
   "metadata": {
    "ExecuteTime": {
     "end_time": "2020-04-10T00:04:58.690473Z",
     "start_time": "2020-04-10T00:04:58.667365Z"
    }
   },
   "outputs": [
    {
     "data": {
      "text/html": [
       "<div>\n",
       "<style scoped>\n",
       "    .dataframe tbody tr th:only-of-type {\n",
       "        vertical-align: middle;\n",
       "    }\n",
       "\n",
       "    .dataframe tbody tr th {\n",
       "        vertical-align: top;\n",
       "    }\n",
       "\n",
       "    .dataframe thead th {\n",
       "        text-align: right;\n",
       "    }\n",
       "</style>\n",
       "<table border=\"1\" class=\"dataframe\">\n",
       "  <thead>\n",
       "    <tr style=\"text-align: right;\">\n",
       "      <th></th>\n",
       "      <th>Country_Region</th>\n",
       "      <th>Province_State</th>\n",
       "      <th>World_Bank_Name</th>\n",
       "      <th>Health_exp_pct_GDP_2016</th>\n",
       "      <th>Health_exp_public_pct_2016</th>\n",
       "      <th>Health_exp_out_of_pocket_pct_2016</th>\n",
       "      <th>Health_exp_per_capita_USD_2016</th>\n",
       "      <th>per_capita_exp_PPP_2016</th>\n",
       "      <th>External_health_exp_pct_2016</th>\n",
       "      <th>Physicians_per_1000_2009-18</th>\n",
       "      <th>Nurse_midwife_per_1000_2009-18</th>\n",
       "      <th>Specialist_surgical_per_1000_2008-18</th>\n",
       "      <th>Completeness_of_birth_reg_2009-18</th>\n",
       "      <th>Completeness_of_death_reg_2008-16</th>\n",
       "    </tr>\n",
       "  </thead>\n",
       "  <tbody>\n",
       "    <tr>\n",
       "      <th>0</th>\n",
       "      <td>Afghanistan</td>\n",
       "      <td>NaN</td>\n",
       "      <td>Afghanistan</td>\n",
       "      <td>10.2</td>\n",
       "      <td>5.1</td>\n",
       "      <td>77.4</td>\n",
       "      <td>57.2</td>\n",
       "      <td>162.8</td>\n",
       "      <td>17.5</td>\n",
       "      <td>0.3</td>\n",
       "      <td>0.3</td>\n",
       "      <td>0.0</td>\n",
       "      <td>42.3</td>\n",
       "      <td>NaN</td>\n",
       "    </tr>\n",
       "    <tr>\n",
       "      <th>1</th>\n",
       "      <td>Albania</td>\n",
       "      <td>NaN</td>\n",
       "      <td>Albania</td>\n",
       "      <td>6.7</td>\n",
       "      <td>41.4</td>\n",
       "      <td>58.0</td>\n",
       "      <td>271.5</td>\n",
       "      <td>759.7</td>\n",
       "      <td>0.7</td>\n",
       "      <td>1.2</td>\n",
       "      <td>3.6</td>\n",
       "      <td>11.6</td>\n",
       "      <td>98.4</td>\n",
       "      <td>53.0</td>\n",
       "    </tr>\n",
       "    <tr>\n",
       "      <th>2</th>\n",
       "      <td>Algeria</td>\n",
       "      <td>NaN</td>\n",
       "      <td>Algeria</td>\n",
       "      <td>6.6</td>\n",
       "      <td>67.7</td>\n",
       "      <td>30.9</td>\n",
       "      <td>260.4</td>\n",
       "      <td>998.2</td>\n",
       "      <td>0.0</td>\n",
       "      <td>1.8</td>\n",
       "      <td>2.2</td>\n",
       "      <td>12.1</td>\n",
       "      <td>100.0</td>\n",
       "      <td>NaN</td>\n",
       "    </tr>\n",
       "    <tr>\n",
       "      <th>3</th>\n",
       "      <td>Andorra</td>\n",
       "      <td>NaN</td>\n",
       "      <td>Andorra</td>\n",
       "      <td>10.4</td>\n",
       "      <td>49.1</td>\n",
       "      <td>41.7</td>\n",
       "      <td>3834.7</td>\n",
       "      <td>4978.7</td>\n",
       "      <td>NaN</td>\n",
       "      <td>3.3</td>\n",
       "      <td>4.0</td>\n",
       "      <td>83.1</td>\n",
       "      <td>100.0</td>\n",
       "      <td>80.0</td>\n",
       "    </tr>\n",
       "    <tr>\n",
       "      <th>4</th>\n",
       "      <td>Angola</td>\n",
       "      <td>NaN</td>\n",
       "      <td>Angola</td>\n",
       "      <td>2.9</td>\n",
       "      <td>44.1</td>\n",
       "      <td>35.2</td>\n",
       "      <td>95.2</td>\n",
       "      <td>185.8</td>\n",
       "      <td>3.6</td>\n",
       "      <td>0.2</td>\n",
       "      <td>1.3</td>\n",
       "      <td>NaN</td>\n",
       "      <td>25.0</td>\n",
       "      <td>NaN</td>\n",
       "    </tr>\n",
       "    <tr>\n",
       "      <th>...</th>\n",
       "      <td>...</td>\n",
       "      <td>...</td>\n",
       "      <td>...</td>\n",
       "      <td>...</td>\n",
       "      <td>...</td>\n",
       "      <td>...</td>\n",
       "      <td>...</td>\n",
       "      <td>...</td>\n",
       "      <td>...</td>\n",
       "      <td>...</td>\n",
       "      <td>...</td>\n",
       "      <td>...</td>\n",
       "      <td>...</td>\n",
       "      <td>...</td>\n",
       "    </tr>\n",
       "    <tr>\n",
       "      <th>205</th>\n",
       "      <td>US</td>\n",
       "      <td>Virgin Islands</td>\n",
       "      <td>Virgin Islands (U.S.)</td>\n",
       "      <td>NaN</td>\n",
       "      <td>NaN</td>\n",
       "      <td>NaN</td>\n",
       "      <td>NaN</td>\n",
       "      <td>NaN</td>\n",
       "      <td>NaN</td>\n",
       "      <td>NaN</td>\n",
       "      <td>NaN</td>\n",
       "      <td>NaN</td>\n",
       "      <td>NaN</td>\n",
       "      <td>NaN</td>\n",
       "    </tr>\n",
       "    <tr>\n",
       "      <th>206</th>\n",
       "      <td>NaN</td>\n",
       "      <td>NaN</td>\n",
       "      <td>West Bank and Gaza</td>\n",
       "      <td>NaN</td>\n",
       "      <td>NaN</td>\n",
       "      <td>NaN</td>\n",
       "      <td>NaN</td>\n",
       "      <td>NaN</td>\n",
       "      <td>NaN</td>\n",
       "      <td>NaN</td>\n",
       "      <td>NaN</td>\n",
       "      <td>NaN</td>\n",
       "      <td>96.0</td>\n",
       "      <td>NaN</td>\n",
       "    </tr>\n",
       "    <tr>\n",
       "      <th>207</th>\n",
       "      <td>NaN</td>\n",
       "      <td>NaN</td>\n",
       "      <td>Yemen, Rep.</td>\n",
       "      <td>5.6</td>\n",
       "      <td>10.2</td>\n",
       "      <td>81.0</td>\n",
       "      <td>72.0</td>\n",
       "      <td>144.5</td>\n",
       "      <td>7.8</td>\n",
       "      <td>0.3</td>\n",
       "      <td>0.7</td>\n",
       "      <td>0.8</td>\n",
       "      <td>30.7</td>\n",
       "      <td>NaN</td>\n",
       "    </tr>\n",
       "    <tr>\n",
       "      <th>208</th>\n",
       "      <td>Zambia</td>\n",
       "      <td>NaN</td>\n",
       "      <td>Zambia</td>\n",
       "      <td>4.5</td>\n",
       "      <td>38.3</td>\n",
       "      <td>12.1</td>\n",
       "      <td>56.5</td>\n",
       "      <td>175.2</td>\n",
       "      <td>42.5</td>\n",
       "      <td>0.1</td>\n",
       "      <td>0.9</td>\n",
       "      <td>1.5</td>\n",
       "      <td>11.3</td>\n",
       "      <td>NaN</td>\n",
       "    </tr>\n",
       "    <tr>\n",
       "      <th>209</th>\n",
       "      <td>Zimbabwe</td>\n",
       "      <td>NaN</td>\n",
       "      <td>Zimbabwe</td>\n",
       "      <td>9.4</td>\n",
       "      <td>46.5</td>\n",
       "      <td>21.2</td>\n",
       "      <td>93.9</td>\n",
       "      <td>185.0</td>\n",
       "      <td>25.4</td>\n",
       "      <td>0.1</td>\n",
       "      <td>1.2</td>\n",
       "      <td>1.6</td>\n",
       "      <td>38.0</td>\n",
       "      <td>NaN</td>\n",
       "    </tr>\n",
       "  </tbody>\n",
       "</table>\n",
       "<p>210 rows × 14 columns</p>\n",
       "</div>"
      ],
      "text/plain": [
       "    Country_Region  Province_State        World_Bank_Name  \\\n",
       "0      Afghanistan             NaN            Afghanistan   \n",
       "1          Albania             NaN                Albania   \n",
       "2          Algeria             NaN                Algeria   \n",
       "3          Andorra             NaN                Andorra   \n",
       "4           Angola             NaN                 Angola   \n",
       "..             ...             ...                    ...   \n",
       "205             US  Virgin Islands  Virgin Islands (U.S.)   \n",
       "206            NaN             NaN     West Bank and Gaza   \n",
       "207            NaN             NaN            Yemen, Rep.   \n",
       "208         Zambia             NaN                 Zambia   \n",
       "209       Zimbabwe             NaN               Zimbabwe   \n",
       "\n",
       "     Health_exp_pct_GDP_2016  Health_exp_public_pct_2016  \\\n",
       "0                       10.2                         5.1   \n",
       "1                        6.7                        41.4   \n",
       "2                        6.6                        67.7   \n",
       "3                       10.4                        49.1   \n",
       "4                        2.9                        44.1   \n",
       "..                       ...                         ...   \n",
       "205                      NaN                         NaN   \n",
       "206                      NaN                         NaN   \n",
       "207                      5.6                        10.2   \n",
       "208                      4.5                        38.3   \n",
       "209                      9.4                        46.5   \n",
       "\n",
       "     Health_exp_out_of_pocket_pct_2016  Health_exp_per_capita_USD_2016  \\\n",
       "0                                 77.4                            57.2   \n",
       "1                                 58.0                           271.5   \n",
       "2                                 30.9                           260.4   \n",
       "3                                 41.7                          3834.7   \n",
       "4                                 35.2                            95.2   \n",
       "..                                 ...                             ...   \n",
       "205                                NaN                             NaN   \n",
       "206                                NaN                             NaN   \n",
       "207                               81.0                            72.0   \n",
       "208                               12.1                            56.5   \n",
       "209                               21.2                            93.9   \n",
       "\n",
       "     per_capita_exp_PPP_2016  External_health_exp_pct_2016  \\\n",
       "0                      162.8                          17.5   \n",
       "1                      759.7                           0.7   \n",
       "2                      998.2                           0.0   \n",
       "3                     4978.7                           NaN   \n",
       "4                      185.8                           3.6   \n",
       "..                       ...                           ...   \n",
       "205                      NaN                           NaN   \n",
       "206                      NaN                           NaN   \n",
       "207                    144.5                           7.8   \n",
       "208                    175.2                          42.5   \n",
       "209                    185.0                          25.4   \n",
       "\n",
       "     Physicians_per_1000_2009-18  Nurse_midwife_per_1000_2009-18  \\\n",
       "0                            0.3                             0.3   \n",
       "1                            1.2                             3.6   \n",
       "2                            1.8                             2.2   \n",
       "3                            3.3                             4.0   \n",
       "4                            0.2                             1.3   \n",
       "..                           ...                             ...   \n",
       "205                          NaN                             NaN   \n",
       "206                          NaN                             NaN   \n",
       "207                          0.3                             0.7   \n",
       "208                          0.1                             0.9   \n",
       "209                          0.1                             1.2   \n",
       "\n",
       "     Specialist_surgical_per_1000_2008-18  Completeness_of_birth_reg_2009-18  \\\n",
       "0                                     0.0                               42.3   \n",
       "1                                    11.6                               98.4   \n",
       "2                                    12.1                              100.0   \n",
       "3                                    83.1                              100.0   \n",
       "4                                     NaN                               25.0   \n",
       "..                                    ...                                ...   \n",
       "205                                   NaN                                NaN   \n",
       "206                                   NaN                               96.0   \n",
       "207                                   0.8                               30.7   \n",
       "208                                   1.5                               11.3   \n",
       "209                                   1.6                               38.0   \n",
       "\n",
       "     Completeness_of_death_reg_2008-16  \n",
       "0                                  NaN  \n",
       "1                                 53.0  \n",
       "2                                  NaN  \n",
       "3                                 80.0  \n",
       "4                                  NaN  \n",
       "..                                 ...  \n",
       "205                                NaN  \n",
       "206                                NaN  \n",
       "207                                NaN  \n",
       "208                                NaN  \n",
       "209                                NaN  \n",
       "\n",
       "[210 rows x 14 columns]"
      ]
     },
     "execution_count": 6,
     "metadata": {},
     "output_type": "execute_result"
    }
   ],
   "source": [
    "# Viewing World Bank Health Systems \n",
    "filepath = os.path.join(\"Data\",\"Health_systems\",\"World_Bank_health_systems.csv\")\n",
    "data_df = pd.read_csv(filepath)\n",
    "data_df"
   ]
  },
  {
   "cell_type": "code",
   "execution_count": 62,
   "metadata": {
    "ExecuteTime": {
     "end_time": "2020-04-10T00:45:32.794512Z",
     "start_time": "2020-04-10T00:45:32.599635Z"
    }
   },
   "outputs": [
    {
     "data": {
      "image/png": "[encoded data removed]",
      "text/plain": [
       "<Figure size 1296x360 with 1 Axes>"
      ]
     },
     "metadata": {
      "needs_background": "light"
     },
     "output_type": "display_data"
    }
   ],
   "source": [
    "#Obtaining and visualizing Cantril Happiness score average per chosen country\n",
    "filepath = os.path.join(\"Data\",\"Life_satisfcation_and_happiness\",\"happiness_cantril_ladder.csv\")\n",
    "data_df = pd.read_csv(filepath)\n",
    "data_df = data_df.rename(columns={\"World Happiness Report 2016 (Cantril Ladder (0=worst; 10=best))\":\"Cantril Ladder(0=worst,10=best)\"})\n",
    "data_df = data_df.groupby(\"Entity\").mean().reset_index()\n",
    "data_df = data_df[data_df.Entity.isin(countries_list)]\n",
    "data_df.count()\n",
    "\n",
    "\n",
    "xlocation = [value for value in data_df[\"Entity\"]]\n",
    "f, ax = plt.subplots(figsize=(18,5))\n",
    "plt.bar(data_df[\"Entity\"],data_df[\"Cantril Ladder(0=worst,10=best)\"])\n",
    "plt.xticks(xlocation,data_df[\"Entity\"],rotation=90)\n",
    "plt.xlabel(\"Country\")\n",
    "plt.ylabel(\"Cantril ladder (0=worst, 10=best)\")\n",
    "plt.title(\"Cantril Ladder\")\n",
    "plt.xlim(-.5,len(data_df.Entity)-.5)\n",
    "plt.show()\n"
   ]
  },
  {
   "cell_type": "code",
   "execution_count": 16,
   "metadata": {
    "ExecuteTime": {
     "end_time": "2020-04-10T01:38:12.247631Z",
     "start_time": "2020-04-10T01:38:12.070817Z"
    }
   },
   "outputs": [
    {
     "data": {
      "image/png": "[encoded data removed]",
      "text/plain": [
       "<Figure size 432x288 with 1 Axes>"
      ]
     },
     "metadata": {
      "needs_background": "light"
     },
     "output_type": "display_data"
    }
   ],
   "source": [
    "# Obtaining and visualizing Cantril Happiness score over time per chosen country\n",
    "filepath = os.path.join(\"Data\",\"Life_satisfcation_and_happiness\",\"happiness_cantril_ladder.csv\")\n",
    "data_df = pd.read_csv(filepath)\n",
    "\n",
    "data_df = data_df.rename(columns={\"World Happiness Report 2016 (Cantril Ladder (0=worst; 10=best))\":\"Cantril Ladder(0=worst,10=best)\"})\n",
    "# data_df = data_df.groupby(\"Entity\").mean().reset_index()\n",
    "data_df = data_df[data_df.Entity.isin(countries_list)]\n",
    "countries_list = [name for name in data_df.Entity.unique()]\n",
    "years = data_df.Year\n",
    "US_data = data_df.loc[data_df.Entity == \"United States\"]\n",
    "Mexico_data = data_df.loc[data_df.Entity == \"Mexico\"]\n",
    "Mexico_data = data_df.loc[data_df.Entity == \"Mexico\"]\n",
    "\n",
    "US_line, = plt.plot(US_data.Year, US_data[\"Cantril Ladder(0=worst,10=best)\"], color=\"blue\", label=\"United States\" )\n",
    "Mexico_line, = plt.plot(Mexico_data.Year, Mexico_data[\"Cantril Ladder(0=worst,10=best)\"], color=\"red\", label=\"Mexico\" )\n",
    "Venezuela_line, = plt.plot(US_data.Year, US_data[\"Cantril Ladder(0=worst,10=best)\"], color=\"blue\", label=\"United States\" ) \n",
    "# # Brazil_line, = \n",
    "# # South Africa_line, = \n",
    "# # Nigeria_line, = \n",
    "# # Poland_line, = \n",
    "# # Sweden_line, = \n",
    "# # China_line, = \n",
    "# # South Korea_line, = \n",
    "# # plt.plot(data_df.Year,data_df[\"Cantril Ladder(0=worst,10=best)\"],label=countries_list)\n",
    "# # plt.legend(labels=countries_list)\n",
    "\n",
    "plt.legend(handles=[US_line,Mexico_line], loc=\"best\")\n",
    "\n",
    "plt.show()\n"
   ]
  },
  {
   "cell_type": "code",
   "execution_count": 74,
   "metadata": {
    "ExecuteTime": {
     "end_time": "2020-04-10T00:55:24.984565Z",
     "start_time": "2020-04-10T00:55:24.980202Z"
    }
   },
   "outputs": [],
   "source": [
    "plt.plot?"
   ]
  },
  {
   "cell_type": "code",
   "execution_count": 82,
   "metadata": {
    "ExecuteTime": {
     "end_time": "2020-04-10T00:58:13.732147Z",
     "start_time": "2020-04-10T00:58:13.699964Z"
    }
   },
   "outputs": [],
   "source": [
    "import bokeh"
   ]
  },
  {
   "cell_type": "code",
   "execution_count": null,
   "metadata": {},
   "outputs": [],
   "source": []
  }
 ],
 "metadata": {
  "kernelspec": {
   "display_name": "Python 3",
   "language": "python",
   "name": "python3"
  },
  "language_info": {
   "codemirror_mode": {
    "name": "ipython",
    "version": 3
   },
   "file_extension": ".py",
   "mimetype": "text/x-python",
   "name": "python",
   "nbconvert_exporter": "python",
   "pygments_lexer": "ipython3",
   "version": "3.6.10"
  }
 },
 "nbformat": 4,
 "nbformat_minor": 4
}
