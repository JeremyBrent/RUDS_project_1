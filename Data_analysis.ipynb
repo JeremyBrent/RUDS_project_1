{
 "cells": [
  {
   "cell_type": "code",
   "execution_count": 43,
   "metadata": {
    "ExecuteTime": {
     "end_time": "2020-04-14T04:22:23.429883Z",
     "start_time": "2020-04-14T04:22:23.426616Z"
    }
   },
   "outputs": [],
   "source": [
    "import plotly.express as px\n",
    "import pandas as pd\n",
    "import os \n",
    "import matplotlib.pyplot as plt\n",
    "from scipy.stats import linregress\n",
    "import scipy.stats as stats\n",
    "import seaborn as sns"
   ]
  },
  {
   "cell_type": "markdown",
   "metadata": {},
   "source": [
    "## Countries List"
   ]
  },
  {
   "cell_type": "code",
   "execution_count": 2,
   "metadata": {
    "ExecuteTime": {
     "end_time": "2020-04-14T03:46:41.243311Z",
     "start_time": "2020-04-14T03:46:41.240906Z"
    }
   },
   "outputs": [],
   "source": [
    "# Countries we will analyze\n",
    "# We are 'randomly' picking two countries from each continent excluding Antartica. \n",
    "countries_list = [\"United States\",\"Mexico\",\"Venezuela\",\"Brazil\",\"South Africa\",\"Nigeria\",\"Poland\",\"Sweden\",\"China\",\"South Korea\",\"Russia\", \"Australia\" ]\n"
   ]
  },
  {
   "cell_type": "markdown",
   "metadata": {},
   "source": [
    "## World Happiness Report"
   ]
  },
  {
   "cell_type": "code",
   "execution_count": 3,
   "metadata": {
    "ExecuteTime": {
     "end_time": "2020-04-14T03:46:41.315370Z",
     "start_time": "2020-04-14T03:46:41.245779Z"
    },
    "scrolled": false
   },
   "outputs": [
    {
     "data": {
      "text/html": [
       "<div>\n",
       "<style scoped>\n",
       "    .dataframe tbody tr th:only-of-type {\n",
       "        vertical-align: middle;\n",
       "    }\n",
       "\n",
       "    .dataframe tbody tr th {\n",
       "        vertical-align: top;\n",
       "    }\n",
       "\n",
       "    .dataframe thead th {\n",
       "        text-align: right;\n",
       "    }\n",
       "</style>\n",
       "<table border=\"1\" class=\"dataframe\">\n",
       "  <thead>\n",
       "    <tr style=\"text-align: right;\">\n",
       "      <th></th>\n",
       "      <th>Country</th>\n",
       "      <th>2015 Happiness Score</th>\n",
       "      <th>2016 Happiness Score</th>\n",
       "      <th>2017 Happiness Score</th>\n",
       "      <th>2018 Happiness Score</th>\n",
       "      <th>2019 Happiness Score</th>\n",
       "      <th>Average Happiness</th>\n",
       "    </tr>\n",
       "  </thead>\n",
       "  <tbody>\n",
       "    <tr>\n",
       "      <th>0</th>\n",
       "      <td>Sweden</td>\n",
       "      <td>7.364</td>\n",
       "      <td>7.291</td>\n",
       "      <td>7.284</td>\n",
       "      <td>7.314</td>\n",
       "      <td>7.343</td>\n",
       "      <td>7.3192</td>\n",
       "    </tr>\n",
       "    <tr>\n",
       "      <th>1</th>\n",
       "      <td>Australia</td>\n",
       "      <td>7.284</td>\n",
       "      <td>7.313</td>\n",
       "      <td>7.284</td>\n",
       "      <td>7.272</td>\n",
       "      <td>7.228</td>\n",
       "      <td>7.2762</td>\n",
       "    </tr>\n",
       "    <tr>\n",
       "      <th>2</th>\n",
       "      <td>Mexico</td>\n",
       "      <td>7.187</td>\n",
       "      <td>6.778</td>\n",
       "      <td>6.578</td>\n",
       "      <td>6.488</td>\n",
       "      <td>6.595</td>\n",
       "      <td>6.7252</td>\n",
       "    </tr>\n",
       "    <tr>\n",
       "      <th>3</th>\n",
       "      <td>United States</td>\n",
       "      <td>7.119</td>\n",
       "      <td>7.104</td>\n",
       "      <td>6.993</td>\n",
       "      <td>6.886</td>\n",
       "      <td>6.892</td>\n",
       "      <td>6.9988</td>\n",
       "    </tr>\n",
       "    <tr>\n",
       "      <th>4</th>\n",
       "      <td>Brazil</td>\n",
       "      <td>6.983</td>\n",
       "      <td>6.952</td>\n",
       "      <td>6.635</td>\n",
       "      <td>6.419</td>\n",
       "      <td>6.300</td>\n",
       "      <td>6.6578</td>\n",
       "    </tr>\n",
       "    <tr>\n",
       "      <th>5</th>\n",
       "      <td>Venezuela</td>\n",
       "      <td>6.810</td>\n",
       "      <td>6.084</td>\n",
       "      <td>5.250</td>\n",
       "      <td>4.806</td>\n",
       "      <td>4.707</td>\n",
       "      <td>5.5314</td>\n",
       "    </tr>\n",
       "    <tr>\n",
       "      <th>6</th>\n",
       "      <td>South Korea</td>\n",
       "      <td>5.984</td>\n",
       "      <td>5.835</td>\n",
       "      <td>5.838</td>\n",
       "      <td>5.875</td>\n",
       "      <td>5.895</td>\n",
       "      <td>5.8854</td>\n",
       "    </tr>\n",
       "    <tr>\n",
       "      <th>7</th>\n",
       "      <td>Poland</td>\n",
       "      <td>5.791</td>\n",
       "      <td>5.835</td>\n",
       "      <td>5.973</td>\n",
       "      <td>6.123</td>\n",
       "      <td>6.182</td>\n",
       "      <td>5.9808</td>\n",
       "    </tr>\n",
       "    <tr>\n",
       "      <th>8</th>\n",
       "      <td>Russia</td>\n",
       "      <td>5.716</td>\n",
       "      <td>5.856</td>\n",
       "      <td>5.963</td>\n",
       "      <td>5.810</td>\n",
       "      <td>5.648</td>\n",
       "      <td>5.7986</td>\n",
       "    </tr>\n",
       "    <tr>\n",
       "      <th>9</th>\n",
       "      <td>Nigeria</td>\n",
       "      <td>5.268</td>\n",
       "      <td>4.875</td>\n",
       "      <td>5.074</td>\n",
       "      <td>5.155</td>\n",
       "      <td>5.265</td>\n",
       "      <td>5.1274</td>\n",
       "    </tr>\n",
       "    <tr>\n",
       "      <th>10</th>\n",
       "      <td>China</td>\n",
       "      <td>5.140</td>\n",
       "      <td>5.245</td>\n",
       "      <td>5.273</td>\n",
       "      <td>5.246</td>\n",
       "      <td>5.191</td>\n",
       "      <td>5.2190</td>\n",
       "    </tr>\n",
       "    <tr>\n",
       "      <th>11</th>\n",
       "      <td>South Africa</td>\n",
       "      <td>4.642</td>\n",
       "      <td>4.459</td>\n",
       "      <td>4.829</td>\n",
       "      <td>4.724</td>\n",
       "      <td>4.722</td>\n",
       "      <td>4.6752</td>\n",
       "    </tr>\n",
       "  </tbody>\n",
       "</table>\n",
       "</div>"
      ],
      "text/plain": [
       "          Country  2015 Happiness Score  2016 Happiness Score  \\\n",
       "0          Sweden                 7.364                 7.291   \n",
       "1       Australia                 7.284                 7.313   \n",
       "2          Mexico                 7.187                 6.778   \n",
       "3   United States                 7.119                 7.104   \n",
       "4          Brazil                 6.983                 6.952   \n",
       "5       Venezuela                 6.810                 6.084   \n",
       "6     South Korea                 5.984                 5.835   \n",
       "7          Poland                 5.791                 5.835   \n",
       "8          Russia                 5.716                 5.856   \n",
       "9         Nigeria                 5.268                 4.875   \n",
       "10          China                 5.140                 5.245   \n",
       "11   South Africa                 4.642                 4.459   \n",
       "\n",
       "    2017 Happiness Score  2018 Happiness Score  2019 Happiness Score  \\\n",
       "0                  7.284                 7.314                 7.343   \n",
       "1                  7.284                 7.272                 7.228   \n",
       "2                  6.578                 6.488                 6.595   \n",
       "3                  6.993                 6.886                 6.892   \n",
       "4                  6.635                 6.419                 6.300   \n",
       "5                  5.250                 4.806                 4.707   \n",
       "6                  5.838                 5.875                 5.895   \n",
       "7                  5.973                 6.123                 6.182   \n",
       "8                  5.963                 5.810                 5.648   \n",
       "9                  5.074                 5.155                 5.265   \n",
       "10                 5.273                 5.246                 5.191   \n",
       "11                 4.829                 4.724                 4.722   \n",
       "\n",
       "    Average Happiness  \n",
       "0              7.3192  \n",
       "1              7.2762  \n",
       "2              6.7252  \n",
       "3              6.9988  \n",
       "4              6.6578  \n",
       "5              5.5314  \n",
       "6              5.8854  \n",
       "7              5.9808  \n",
       "8              5.7986  \n",
       "9              5.1274  \n",
       "10             5.2190  \n",
       "11             4.6752  "
      ]
     },
     "execution_count": 3,
     "metadata": {},
     "output_type": "execute_result"
    }
   ],
   "source": [
    "#2015 World Happiness Report\n",
    "csvpath = os.path.join(\"Data/World_happiness_report/2015.csv\")\n",
    "happy_2015_df = pd.read_csv(csvpath)\n",
    "happy_2015_df\n",
    "countries15 = happy_2015_df[happy_2015_df.Country.isin(countries_list)]\n",
    "countries15 = countries15.loc[:,[\"Country\",\"Happiness Score\"]]\n",
    "countries15 = countries15.rename(columns={\"Happiness Score\": \"2015 Happiness Score\"})\n",
    "\n",
    "#2016 World Happines Report\n",
    "csvpath = os.path.join(\"Data/World_happiness_report/2016.csv\")\n",
    "happy_2016_df = pd.read_csv(csvpath)\n",
    "happy_2016_df\n",
    "countries16 = happy_2016_df[happy_2016_df.Country.isin(countries_list)]\n",
    "countries16 = countries16.loc[:,[\"Country\",\"Happiness Score\"]]\n",
    "countries16 = countries16.rename(columns={\"Happiness Score\": \"2016 Happiness Score\"})\n",
    "\n",
    "#2017 World Happines Report\n",
    "csvpath = os.path.join(\"Data/World_happiness_report/2017.csv\")\n",
    "happy_2017_df = pd.read_csv(csvpath)\n",
    "countries17 = happy_2017_df[happy_2017_df.Country.isin(countries_list)]\n",
    "countries17 = countries17.loc[:,[\"Country\",\"Happiness.Score\"]]\n",
    "countries17 = countries17.rename(columns={\"Happiness.Score\": \"2017 Happiness Score\"})\n",
    "countries17\n",
    "\n",
    "#2018 World Happines Report\n",
    "csvpath = os.path.join(\"Data/World_happiness_report/2018.csv\")\n",
    "happy_2018_df = pd.read_csv(csvpath)\n",
    "countries18 = happy_2018_df[happy_2018_df[\"Country or region\"].isin(countries_list)]\n",
    "countries18 = countries18.loc[:,[\"Country or region\",\"Score\"]]\n",
    "countries18 = countries18.rename(columns={\"Score\": \"2018 Happiness Score\",\"Country or region\":\"Country\"})\n",
    "countries18\n",
    "\n",
    "#2019 World Happines Report\n",
    "csvpath = os.path.join(\"Data/World_happiness_report/2019.csv\")\n",
    "happy_2019_df = pd.read_csv(csvpath)\n",
    "happy_2019_df\n",
    "countries19 = happy_2019_df[happy_2019_df[\"Country or region\"].isin(countries_list)]\n",
    "countries19 = countries19.loc[:,[\"Country or region\",\"Score\"]]\n",
    "countries19 = countries19.rename(columns={\"Score\": \"2019 Happiness Score\",\"Country or region\":\"Country\"})\n",
    "countries19\n",
    "\n",
    "#Merging years\n",
    "happy_2015_2016 = pd.merge(countries15,countries16,on='Country')\n",
    "happy_2015_2016_2017 = pd.merge(happy_2015_2016,countries17,on=\"Country\")\n",
    "happy_2015_2016_2017_18 = pd.merge(happy_2015_2016_2017,countries18)\n",
    "total_happy = pd.merge(happy_2015_2016_2017_18,countries19)\n",
    "total_happy[\"Average Happiness\"] = (total_happy[\"2015 Happiness Score\"] + total_happy[\"2016 Happiness Score\"] + total_happy[\"2017 Happiness Score\"] + total_happy[\"2018 Happiness Score\"] + total_happy[\"2019 Happiness Score\"]) / 5\n",
    "total_happy"
   ]
  },
  {
   "cell_type": "code",
   "execution_count": 4,
   "metadata": {
    "ExecuteTime": {
     "end_time": "2020-04-14T03:46:41.461559Z",
     "start_time": "2020-04-14T03:46:41.317476Z"
    }
   },
   "outputs": [
    {
     "data": {
      "image/png": "[encoded data removed]",
      "text/plain": [
       "<Figure size 432x288 with 1 Axes>"
      ]
     },
     "metadata": {
      "needs_background": "light"
     },
     "output_type": "display_data"
    }
   ],
   "source": [
    "plt.bar(total_happy.Country,total_happy[\"Average Happiness\"])\n",
    "plt.xticks(rotation=90)\n",
    "plt.show()"
   ]
  },
  {
   "cell_type": "markdown",
   "metadata": {},
   "source": [
    "## Productivity/Working Hours Data"
   ]
  },
  {
   "cell_type": "code",
   "execution_count": 5,
   "metadata": {
    "ExecuteTime": {
     "end_time": "2020-04-14T03:46:41.482482Z",
     "start_time": "2020-04-14T03:46:41.462953Z"
    },
    "scrolled": true
   },
   "outputs": [
    {
     "data": {
      "text/html": [
       "<div>\n",
       "<style scoped>\n",
       "    .dataframe tbody tr th:only-of-type {\n",
       "        vertical-align: middle;\n",
       "    }\n",
       "\n",
       "    .dataframe tbody tr th {\n",
       "        vertical-align: top;\n",
       "    }\n",
       "\n",
       "    .dataframe thead th {\n",
       "        text-align: right;\n",
       "    }\n",
       "</style>\n",
       "<table border=\"1\" class=\"dataframe\">\n",
       "  <thead>\n",
       "    <tr style=\"text-align: right;\">\n",
       "      <th></th>\n",
       "      <th>Entity</th>\n",
       "      <th>Code</th>\n",
       "      <th>Year</th>\n",
       "      <th>Work hours per persons engaged</th>\n",
       "      <th>Productivity</th>\n",
       "    </tr>\n",
       "  </thead>\n",
       "  <tbody>\n",
       "    <tr>\n",
       "      <th>0</th>\n",
       "      <td>Australia</td>\n",
       "      <td>AUS</td>\n",
       "      <td>1950.0</td>\n",
       "      <td>2178.2456</td>\n",
       "      <td>13.322768</td>\n",
       "    </tr>\n",
       "    <tr>\n",
       "      <th>1</th>\n",
       "      <td>Australia</td>\n",
       "      <td>AUS</td>\n",
       "      <td>1951.0</td>\n",
       "      <td>2158.1013</td>\n",
       "      <td>12.820562</td>\n",
       "    </tr>\n",
       "    <tr>\n",
       "      <th>2</th>\n",
       "      <td>Australia</td>\n",
       "      <td>AUS</td>\n",
       "      <td>1952.0</td>\n",
       "      <td>2138.1436</td>\n",
       "      <td>12.497678</td>\n",
       "    </tr>\n",
       "    <tr>\n",
       "      <th>3</th>\n",
       "      <td>Australia</td>\n",
       "      <td>AUS</td>\n",
       "      <td>1953.0</td>\n",
       "      <td>2118.3701</td>\n",
       "      <td>14.030227</td>\n",
       "    </tr>\n",
       "    <tr>\n",
       "      <th>4</th>\n",
       "      <td>Australia</td>\n",
       "      <td>AUS</td>\n",
       "      <td>1954.0</td>\n",
       "      <td>2098.7798</td>\n",
       "      <td>14.992547</td>\n",
       "    </tr>\n",
       "    <tr>\n",
       "      <th>...</th>\n",
       "      <td>...</td>\n",
       "      <td>...</td>\n",
       "      <td>...</td>\n",
       "      <td>...</td>\n",
       "      <td>...</td>\n",
       "    </tr>\n",
       "    <tr>\n",
       "      <th>822</th>\n",
       "      <td>Venezuela</td>\n",
       "      <td>VEN</td>\n",
       "      <td>2002.0</td>\n",
       "      <td>1829.0203</td>\n",
       "      <td>9.460864</td>\n",
       "    </tr>\n",
       "    <tr>\n",
       "      <th>823</th>\n",
       "      <td>Venezuela</td>\n",
       "      <td>VEN</td>\n",
       "      <td>2003.0</td>\n",
       "      <td>1801.2109</td>\n",
       "      <td>9.292365</td>\n",
       "    </tr>\n",
       "    <tr>\n",
       "      <th>824</th>\n",
       "      <td>Venezuela</td>\n",
       "      <td>VEN</td>\n",
       "      <td>2004.0</td>\n",
       "      <td>1896.6949</td>\n",
       "      <td>10.846614</td>\n",
       "    </tr>\n",
       "    <tr>\n",
       "      <th>825</th>\n",
       "      <td>Venezuela</td>\n",
       "      <td>VEN</td>\n",
       "      <td>2005.0</td>\n",
       "      <td>1922.8501</td>\n",
       "      <td>13.346090</td>\n",
       "    </tr>\n",
       "    <tr>\n",
       "      <th>826</th>\n",
       "      <td>Venezuela</td>\n",
       "      <td>VEN</td>\n",
       "      <td>2006.0</td>\n",
       "      <td>1903.8516</td>\n",
       "      <td>15.282747</td>\n",
       "    </tr>\n",
       "  </tbody>\n",
       "</table>\n",
       "<p>586 rows × 5 columns</p>\n",
       "</div>"
      ],
      "text/plain": [
       "        Entity Code    Year  Work hours per persons engaged  Productivity\n",
       "0    Australia  AUS  1950.0                       2178.2456     13.322768\n",
       "1    Australia  AUS  1951.0                       2158.1013     12.820562\n",
       "2    Australia  AUS  1952.0                       2138.1436     12.497678\n",
       "3    Australia  AUS  1953.0                       2118.3701     14.030227\n",
       "4    Australia  AUS  1954.0                       2098.7798     14.992547\n",
       "..         ...  ...     ...                             ...           ...\n",
       "822  Venezuela  VEN  2002.0                       1829.0203      9.460864\n",
       "823  Venezuela  VEN  2003.0                       1801.2109      9.292365\n",
       "824  Venezuela  VEN  2004.0                       1896.6949     10.846614\n",
       "825  Venezuela  VEN  2005.0                       1922.8501     13.346090\n",
       "826  Venezuela  VEN  2006.0                       1903.8516     15.282747\n",
       "\n",
       "[586 rows x 5 columns]"
      ]
     },
     "execution_count": 5,
     "metadata": {},
     "output_type": "execute_result"
    }
   ],
   "source": [
    "# Reading Productivity dataframe\n",
    "filepath = os.path.join(\"Output\",\"productivity.csv\")\n",
    "productivity_df = pd.read_csv(filepath)\n",
    "\n",
    "# These seem like irrelevant columns. I am deleting them. \n",
    "del productivity_df[\"Unnamed: 0\"]\n",
    "del productivity_df[\"Unnamed: 5\"]\n",
    "\n",
    "# Refining our analysis to the countries listed above. \n",
    "productivity_df = productivity_df[productivity_df.Entity.isin(countries_list)]\n",
    "\n",
    "# # Removing 0 values. There exists 254 0 values in productivity and Work Hours per persons engaged columns. \n",
    "productivity_df = productivity_df.loc[(productivity_df[[\"Work hours per persons engaged\",\"Productivity\"]]!=0.00).any(axis=1)]\n",
    "productivity_df"
   ]
  },
  {
   "cell_type": "markdown",
   "metadata": {},
   "source": [
    "## Mental Health"
   ]
  },
  {
   "cell_type": "code",
   "execution_count": 6,
   "metadata": {
    "ExecuteTime": {
     "end_time": "2020-04-14T03:46:41.505885Z",
     "start_time": "2020-04-14T03:46:41.484029Z"
    },
    "scrolled": true
   },
   "outputs": [
    {
     "data": {
      "text/html": [
       "<div>\n",
       "<style scoped>\n",
       "    .dataframe tbody tr th:only-of-type {\n",
       "        vertical-align: middle;\n",
       "    }\n",
       "\n",
       "    .dataframe tbody tr th {\n",
       "        vertical-align: top;\n",
       "    }\n",
       "\n",
       "    .dataframe thead th {\n",
       "        text-align: right;\n",
       "    }\n",
       "</style>\n",
       "<table border=\"1\" class=\"dataframe\">\n",
       "  <thead>\n",
       "    <tr style=\"text-align: right;\">\n",
       "      <th></th>\n",
       "      <th>Entity</th>\n",
       "      <th>Code</th>\n",
       "      <th>Year</th>\n",
       "      <th>Prevalence - Mental and substance use disorders - Sex: Both - Age: Age-standardized (Percent) (%)</th>\n",
       "    </tr>\n",
       "  </thead>\n",
       "  <tbody>\n",
       "    <tr>\n",
       "      <th>308</th>\n",
       "      <td>Australia</td>\n",
       "      <td>AUS</td>\n",
       "      <td>1990</td>\n",
       "      <td>18.077892</td>\n",
       "    </tr>\n",
       "    <tr>\n",
       "      <th>309</th>\n",
       "      <td>Australia</td>\n",
       "      <td>AUS</td>\n",
       "      <td>1991</td>\n",
       "      <td>18.140260</td>\n",
       "    </tr>\n",
       "    <tr>\n",
       "      <th>310</th>\n",
       "      <td>Australia</td>\n",
       "      <td>AUS</td>\n",
       "      <td>1992</td>\n",
       "      <td>18.195549</td>\n",
       "    </tr>\n",
       "    <tr>\n",
       "      <th>311</th>\n",
       "      <td>Australia</td>\n",
       "      <td>AUS</td>\n",
       "      <td>1993</td>\n",
       "      <td>18.246135</td>\n",
       "    </tr>\n",
       "    <tr>\n",
       "      <th>312</th>\n",
       "      <td>Australia</td>\n",
       "      <td>AUS</td>\n",
       "      <td>1994</td>\n",
       "      <td>18.279663</td>\n",
       "    </tr>\n",
       "    <tr>\n",
       "      <th>...</th>\n",
       "      <td>...</td>\n",
       "      <td>...</td>\n",
       "      <td>...</td>\n",
       "      <td>...</td>\n",
       "    </tr>\n",
       "    <tr>\n",
       "      <th>6239</th>\n",
       "      <td>Venezuela</td>\n",
       "      <td>VEN</td>\n",
       "      <td>2013</td>\n",
       "      <td>11.105906</td>\n",
       "    </tr>\n",
       "    <tr>\n",
       "      <th>6240</th>\n",
       "      <td>Venezuela</td>\n",
       "      <td>VEN</td>\n",
       "      <td>2014</td>\n",
       "      <td>11.108576</td>\n",
       "    </tr>\n",
       "    <tr>\n",
       "      <th>6241</th>\n",
       "      <td>Venezuela</td>\n",
       "      <td>VEN</td>\n",
       "      <td>2015</td>\n",
       "      <td>11.112369</td>\n",
       "    </tr>\n",
       "    <tr>\n",
       "      <th>6242</th>\n",
       "      <td>Venezuela</td>\n",
       "      <td>VEN</td>\n",
       "      <td>2016</td>\n",
       "      <td>11.110904</td>\n",
       "    </tr>\n",
       "    <tr>\n",
       "      <th>6243</th>\n",
       "      <td>Venezuela</td>\n",
       "      <td>VEN</td>\n",
       "      <td>2017</td>\n",
       "      <td>11.110049</td>\n",
       "    </tr>\n",
       "  </tbody>\n",
       "</table>\n",
       "<p>336 rows × 4 columns</p>\n",
       "</div>"
      ],
      "text/plain": [
       "         Entity Code  Year  \\\n",
       "308   Australia  AUS  1990   \n",
       "309   Australia  AUS  1991   \n",
       "310   Australia  AUS  1992   \n",
       "311   Australia  AUS  1993   \n",
       "312   Australia  AUS  1994   \n",
       "...         ...  ...   ...   \n",
       "6239  Venezuela  VEN  2013   \n",
       "6240  Venezuela  VEN  2014   \n",
       "6241  Venezuela  VEN  2015   \n",
       "6242  Venezuela  VEN  2016   \n",
       "6243  Venezuela  VEN  2017   \n",
       "\n",
       "      Prevalence - Mental and substance use disorders - Sex: Both - Age: Age-standardized (Percent) (%)  \n",
       "308                                           18.077892                                                  \n",
       "309                                           18.140260                                                  \n",
       "310                                           18.195549                                                  \n",
       "311                                           18.246135                                                  \n",
       "312                                           18.279663                                                  \n",
       "...                                                 ...                                                  \n",
       "6239                                          11.105906                                                  \n",
       "6240                                          11.108576                                                  \n",
       "6241                                          11.112369                                                  \n",
       "6242                                          11.110904                                                  \n",
       "6243                                          11.110049                                                  \n",
       "\n",
       "[336 rows x 4 columns]"
      ]
     },
     "execution_count": 6,
     "metadata": {},
     "output_type": "execute_result"
    }
   ],
   "source": [
    "#Creating Mental Health DF\n",
    "filepath = os.path.join(\"Data\",\"Mental_health\",\"share_with_mental_and_substance_disorders.csv\")\n",
    "mental_health_df = pd.read_csv(filepath)\n",
    "\n",
    "# Refining our analysis to the countries listed above.\n",
    "mental_health_df = mental_health_df[mental_health_df.Entity.isin(countries_list)]\n",
    "\n",
    "# Saving clean mental health DF to a csv file\n",
    "mental_health_df.to_csv(\"Data/Mental_health/clean_mental_health.csv\")\n",
    "\n",
    "#Displaying DF\n",
    "mental_health_df\n"
   ]
  },
  {
   "cell_type": "code",
   "execution_count": 7,
   "metadata": {
    "ExecuteTime": {
     "end_time": "2020-04-14T03:46:42.806957Z",
     "start_time": "2020-04-14T03:46:41.507559Z"
    }
   },
   "outputs": [
    {
     "data": {
      "image/png": "[encoded data removed]",
      "text/plain": [
       "<Figure size 1296x360 with 1 Axes>"
      ]
     },
     "metadata": {
      "needs_background": "light"
     },
     "output_type": "display_data"
    }
   ],
   "source": [
    "# Assigning our chart axes\n",
    "x_values = mental_health_df.Entity\n",
    "y_values = mental_health_df[\"Prevalence - Mental and substance use disorders - Sex: Both - Age: Age-standardized (Percent) (%)\"]\n",
    "\n",
    "\n",
    "# Displaying bar chart of % of mental health and substance use disorders by country\n",
    "xlocation = [value for value in x_values]\n",
    "f, ax = plt.subplots(figsize=(18,5))\n",
    "# adding a y-error interval of +/- 1 to empahsis \n",
    "plt.bar(x_values,y_values,yerr=1)\n",
    "plt.xticks(xlocation,x_values,rotation=90)\n",
    "plt.xlabel(\"Country\")\n",
    "plt.ylabel(\"Prevalence of mental and substance use disorders (%)\")\n",
    "plt.title(\"Percentage of mental health and substance use disorders by country\")\n",
    "plt.xlim(-.5,9.5)\n",
    "plt.show()\n",
    "\n"
   ]
  },
  {
   "cell_type": "markdown",
   "metadata": {},
   "source": [
    "## Chi-square test on mental health df"
   ]
  },
  {
   "cell_type": "code",
   "execution_count": 8,
   "metadata": {
    "ExecuteTime": {
     "end_time": "2020-04-14T03:46:42.817711Z",
     "start_time": "2020-04-14T03:46:42.809760Z"
    }
   },
   "outputs": [
    {
     "data": {
      "text/plain": [
       "Power_divergenceResult(statistic=0.0, pvalue=1.0)"
      ]
     },
     "execution_count": 8,
     "metadata": {},
     "output_type": "execute_result"
    }
   ],
   "source": [
    "# Not sure if I am using the chi-square test correctly. I am using it to test goodness of fit on the size of \n",
    "# the country samples. \n",
    "\n",
    "df = pd.DataFrame(mental_health_df.Entity.value_counts())\n",
    "df[\"Expected\"] = 28\n",
    "df = df.rename(columns={\"Entity\":\"Observed\"})\n",
    "\n",
    "critical_value = stats.chi2.ppf(q=.95,df=9)\n",
    "critical_value\n",
    "\n",
    "stats.chisquare(df.Observed,df.Expected)"
   ]
  },
  {
   "cell_type": "markdown",
   "metadata": {},
   "source": [
    "## World Bank Health Systems"
   ]
  },
  {
   "cell_type": "code",
   "execution_count": 9,
   "metadata": {
    "ExecuteTime": {
     "end_time": "2020-04-14T03:46:42.842597Z",
     "start_time": "2020-04-14T03:46:42.819828Z"
    }
   },
   "outputs": [
    {
     "data": {
      "text/html": [
       "<div>\n",
       "<style scoped>\n",
       "    .dataframe tbody tr th:only-of-type {\n",
       "        vertical-align: middle;\n",
       "    }\n",
       "\n",
       "    .dataframe tbody tr th {\n",
       "        vertical-align: top;\n",
       "    }\n",
       "\n",
       "    .dataframe thead th {\n",
       "        text-align: right;\n",
       "    }\n",
       "</style>\n",
       "<table border=\"1\" class=\"dataframe\">\n",
       "  <thead>\n",
       "    <tr style=\"text-align: right;\">\n",
       "      <th></th>\n",
       "      <th>Country_Region</th>\n",
       "      <th>Province_State</th>\n",
       "      <th>World_Bank_Name</th>\n",
       "      <th>Health_exp_pct_GDP_2016</th>\n",
       "      <th>Health_exp_public_pct_2016</th>\n",
       "      <th>Health_exp_out_of_pocket_pct_2016</th>\n",
       "      <th>Health_exp_per_capita_USD_2016</th>\n",
       "      <th>per_capita_exp_PPP_2016</th>\n",
       "      <th>External_health_exp_pct_2016</th>\n",
       "      <th>Physicians_per_1000_2009-18</th>\n",
       "      <th>Nurse_midwife_per_1000_2009-18</th>\n",
       "      <th>Specialist_surgical_per_1000_2008-18</th>\n",
       "      <th>Completeness_of_birth_reg_2009-18</th>\n",
       "      <th>Completeness_of_death_reg_2008-16</th>\n",
       "    </tr>\n",
       "  </thead>\n",
       "  <tbody>\n",
       "    <tr>\n",
       "      <th>0</th>\n",
       "      <td>Afghanistan</td>\n",
       "      <td>NaN</td>\n",
       "      <td>Afghanistan</td>\n",
       "      <td>10.2</td>\n",
       "      <td>5.1</td>\n",
       "      <td>77.4</td>\n",
       "      <td>57.2</td>\n",
       "      <td>162.8</td>\n",
       "      <td>17.5</td>\n",
       "      <td>0.3</td>\n",
       "      <td>0.3</td>\n",
       "      <td>0.0</td>\n",
       "      <td>42.3</td>\n",
       "      <td>NaN</td>\n",
       "    </tr>\n",
       "    <tr>\n",
       "      <th>1</th>\n",
       "      <td>Albania</td>\n",
       "      <td>NaN</td>\n",
       "      <td>Albania</td>\n",
       "      <td>6.7</td>\n",
       "      <td>41.4</td>\n",
       "      <td>58.0</td>\n",
       "      <td>271.5</td>\n",
       "      <td>759.7</td>\n",
       "      <td>0.7</td>\n",
       "      <td>1.2</td>\n",
       "      <td>3.6</td>\n",
       "      <td>11.6</td>\n",
       "      <td>98.4</td>\n",
       "      <td>53.0</td>\n",
       "    </tr>\n",
       "    <tr>\n",
       "      <th>2</th>\n",
       "      <td>Algeria</td>\n",
       "      <td>NaN</td>\n",
       "      <td>Algeria</td>\n",
       "      <td>6.6</td>\n",
       "      <td>67.7</td>\n",
       "      <td>30.9</td>\n",
       "      <td>260.4</td>\n",
       "      <td>998.2</td>\n",
       "      <td>0.0</td>\n",
       "      <td>1.8</td>\n",
       "      <td>2.2</td>\n",
       "      <td>12.1</td>\n",
       "      <td>100.0</td>\n",
       "      <td>NaN</td>\n",
       "    </tr>\n",
       "    <tr>\n",
       "      <th>3</th>\n",
       "      <td>Andorra</td>\n",
       "      <td>NaN</td>\n",
       "      <td>Andorra</td>\n",
       "      <td>10.4</td>\n",
       "      <td>49.1</td>\n",
       "      <td>41.7</td>\n",
       "      <td>3834.7</td>\n",
       "      <td>4978.7</td>\n",
       "      <td>NaN</td>\n",
       "      <td>3.3</td>\n",
       "      <td>4.0</td>\n",
       "      <td>83.1</td>\n",
       "      <td>100.0</td>\n",
       "      <td>80.0</td>\n",
       "    </tr>\n",
       "    <tr>\n",
       "      <th>4</th>\n",
       "      <td>Angola</td>\n",
       "      <td>NaN</td>\n",
       "      <td>Angola</td>\n",
       "      <td>2.9</td>\n",
       "      <td>44.1</td>\n",
       "      <td>35.2</td>\n",
       "      <td>95.2</td>\n",
       "      <td>185.8</td>\n",
       "      <td>3.6</td>\n",
       "      <td>0.2</td>\n",
       "      <td>1.3</td>\n",
       "      <td>NaN</td>\n",
       "      <td>25.0</td>\n",
       "      <td>NaN</td>\n",
       "    </tr>\n",
       "    <tr>\n",
       "      <th>...</th>\n",
       "      <td>...</td>\n",
       "      <td>...</td>\n",
       "      <td>...</td>\n",
       "      <td>...</td>\n",
       "      <td>...</td>\n",
       "      <td>...</td>\n",
       "      <td>...</td>\n",
       "      <td>...</td>\n",
       "      <td>...</td>\n",
       "      <td>...</td>\n",
       "      <td>...</td>\n",
       "      <td>...</td>\n",
       "      <td>...</td>\n",
       "      <td>...</td>\n",
       "    </tr>\n",
       "    <tr>\n",
       "      <th>205</th>\n",
       "      <td>US</td>\n",
       "      <td>Virgin Islands</td>\n",
       "      <td>Virgin Islands (U.S.)</td>\n",
       "      <td>NaN</td>\n",
       "      <td>NaN</td>\n",
       "      <td>NaN</td>\n",
       "      <td>NaN</td>\n",
       "      <td>NaN</td>\n",
       "      <td>NaN</td>\n",
       "      <td>NaN</td>\n",
       "      <td>NaN</td>\n",
       "      <td>NaN</td>\n",
       "      <td>NaN</td>\n",
       "      <td>NaN</td>\n",
       "    </tr>\n",
       "    <tr>\n",
       "      <th>206</th>\n",
       "      <td>NaN</td>\n",
       "      <td>NaN</td>\n",
       "      <td>West Bank and Gaza</td>\n",
       "      <td>NaN</td>\n",
       "      <td>NaN</td>\n",
       "      <td>NaN</td>\n",
       "      <td>NaN</td>\n",
       "      <td>NaN</td>\n",
       "      <td>NaN</td>\n",
       "      <td>NaN</td>\n",
       "      <td>NaN</td>\n",
       "      <td>NaN</td>\n",
       "      <td>96.0</td>\n",
       "      <td>NaN</td>\n",
       "    </tr>\n",
       "    <tr>\n",
       "      <th>207</th>\n",
       "      <td>NaN</td>\n",
       "      <td>NaN</td>\n",
       "      <td>Yemen, Rep.</td>\n",
       "      <td>5.6</td>\n",
       "      <td>10.2</td>\n",
       "      <td>81.0</td>\n",
       "      <td>72.0</td>\n",
       "      <td>144.5</td>\n",
       "      <td>7.8</td>\n",
       "      <td>0.3</td>\n",
       "      <td>0.7</td>\n",
       "      <td>0.8</td>\n",
       "      <td>30.7</td>\n",
       "      <td>NaN</td>\n",
       "    </tr>\n",
       "    <tr>\n",
       "      <th>208</th>\n",
       "      <td>Zambia</td>\n",
       "      <td>NaN</td>\n",
       "      <td>Zambia</td>\n",
       "      <td>4.5</td>\n",
       "      <td>38.3</td>\n",
       "      <td>12.1</td>\n",
       "      <td>56.5</td>\n",
       "      <td>175.2</td>\n",
       "      <td>42.5</td>\n",
       "      <td>0.1</td>\n",
       "      <td>0.9</td>\n",
       "      <td>1.5</td>\n",
       "      <td>11.3</td>\n",
       "      <td>NaN</td>\n",
       "    </tr>\n",
       "    <tr>\n",
       "      <th>209</th>\n",
       "      <td>Zimbabwe</td>\n",
       "      <td>NaN</td>\n",
       "      <td>Zimbabwe</td>\n",
       "      <td>9.4</td>\n",
       "      <td>46.5</td>\n",
       "      <td>21.2</td>\n",
       "      <td>93.9</td>\n",
       "      <td>185.0</td>\n",
       "      <td>25.4</td>\n",
       "      <td>0.1</td>\n",
       "      <td>1.2</td>\n",
       "      <td>1.6</td>\n",
       "      <td>38.0</td>\n",
       "      <td>NaN</td>\n",
       "    </tr>\n",
       "  </tbody>\n",
       "</table>\n",
       "<p>210 rows × 14 columns</p>\n",
       "</div>"
      ],
      "text/plain": [
       "    Country_Region  Province_State        World_Bank_Name  \\\n",
       "0      Afghanistan             NaN            Afghanistan   \n",
       "1          Albania             NaN                Albania   \n",
       "2          Algeria             NaN                Algeria   \n",
       "3          Andorra             NaN                Andorra   \n",
       "4           Angola             NaN                 Angola   \n",
       "..             ...             ...                    ...   \n",
       "205             US  Virgin Islands  Virgin Islands (U.S.)   \n",
       "206            NaN             NaN     West Bank and Gaza   \n",
       "207            NaN             NaN            Yemen, Rep.   \n",
       "208         Zambia             NaN                 Zambia   \n",
       "209       Zimbabwe             NaN               Zimbabwe   \n",
       "\n",
       "     Health_exp_pct_GDP_2016  Health_exp_public_pct_2016  \\\n",
       "0                       10.2                         5.1   \n",
       "1                        6.7                        41.4   \n",
       "2                        6.6                        67.7   \n",
       "3                       10.4                        49.1   \n",
       "4                        2.9                        44.1   \n",
       "..                       ...                         ...   \n",
       "205                      NaN                         NaN   \n",
       "206                      NaN                         NaN   \n",
       "207                      5.6                        10.2   \n",
       "208                      4.5                        38.3   \n",
       "209                      9.4                        46.5   \n",
       "\n",
       "     Health_exp_out_of_pocket_pct_2016  Health_exp_per_capita_USD_2016  \\\n",
       "0                                 77.4                            57.2   \n",
       "1                                 58.0                           271.5   \n",
       "2                                 30.9                           260.4   \n",
       "3                                 41.7                          3834.7   \n",
       "4                                 35.2                            95.2   \n",
       "..                                 ...                             ...   \n",
       "205                                NaN                             NaN   \n",
       "206                                NaN                             NaN   \n",
       "207                               81.0                            72.0   \n",
       "208                               12.1                            56.5   \n",
       "209                               21.2                            93.9   \n",
       "\n",
       "     per_capita_exp_PPP_2016  External_health_exp_pct_2016  \\\n",
       "0                      162.8                          17.5   \n",
       "1                      759.7                           0.7   \n",
       "2                      998.2                           0.0   \n",
       "3                     4978.7                           NaN   \n",
       "4                      185.8                           3.6   \n",
       "..                       ...                           ...   \n",
       "205                      NaN                           NaN   \n",
       "206                      NaN                           NaN   \n",
       "207                    144.5                           7.8   \n",
       "208                    175.2                          42.5   \n",
       "209                    185.0                          25.4   \n",
       "\n",
       "     Physicians_per_1000_2009-18  Nurse_midwife_per_1000_2009-18  \\\n",
       "0                            0.3                             0.3   \n",
       "1                            1.2                             3.6   \n",
       "2                            1.8                             2.2   \n",
       "3                            3.3                             4.0   \n",
       "4                            0.2                             1.3   \n",
       "..                           ...                             ...   \n",
       "205                          NaN                             NaN   \n",
       "206                          NaN                             NaN   \n",
       "207                          0.3                             0.7   \n",
       "208                          0.1                             0.9   \n",
       "209                          0.1                             1.2   \n",
       "\n",
       "     Specialist_surgical_per_1000_2008-18  Completeness_of_birth_reg_2009-18  \\\n",
       "0                                     0.0                               42.3   \n",
       "1                                    11.6                               98.4   \n",
       "2                                    12.1                              100.0   \n",
       "3                                    83.1                              100.0   \n",
       "4                                     NaN                               25.0   \n",
       "..                                    ...                                ...   \n",
       "205                                   NaN                                NaN   \n",
       "206                                   NaN                               96.0   \n",
       "207                                   0.8                               30.7   \n",
       "208                                   1.5                               11.3   \n",
       "209                                   1.6                               38.0   \n",
       "\n",
       "     Completeness_of_death_reg_2008-16  \n",
       "0                                  NaN  \n",
       "1                                 53.0  \n",
       "2                                  NaN  \n",
       "3                                 80.0  \n",
       "4                                  NaN  \n",
       "..                                 ...  \n",
       "205                                NaN  \n",
       "206                                NaN  \n",
       "207                                NaN  \n",
       "208                                NaN  \n",
       "209                                NaN  \n",
       "\n",
       "[210 rows x 14 columns]"
      ]
     },
     "execution_count": 9,
     "metadata": {},
     "output_type": "execute_result"
    }
   ],
   "source": [
    "# Viewing World Bank Health Systems \n",
    "filepath = os.path.join(\"Data\",\"Health_systems\",\"World_Bank_health_systems.csv\")\n",
    "data_df = pd.read_csv(filepath)\n",
    "data_df"
   ]
  },
  {
   "cell_type": "markdown",
   "metadata": {},
   "source": [
    "## Cantril Happiness"
   ]
  },
  {
   "cell_type": "code",
   "execution_count": 10,
   "metadata": {
    "ExecuteTime": {
     "end_time": "2020-04-14T03:46:42.862736Z",
     "start_time": "2020-04-14T03:46:42.844263Z"
    }
   },
   "outputs": [
    {
     "data": {
      "text/html": [
       "<div>\n",
       "<style scoped>\n",
       "    .dataframe tbody tr th:only-of-type {\n",
       "        vertical-align: middle;\n",
       "    }\n",
       "\n",
       "    .dataframe tbody tr th {\n",
       "        vertical-align: top;\n",
       "    }\n",
       "\n",
       "    .dataframe thead th {\n",
       "        text-align: right;\n",
       "    }\n",
       "</style>\n",
       "<table border=\"1\" class=\"dataframe\">\n",
       "  <thead>\n",
       "    <tr style=\"text-align: right;\">\n",
       "      <th></th>\n",
       "      <th>Entity</th>\n",
       "      <th>Code</th>\n",
       "      <th>Year</th>\n",
       "      <th>Cantril Ladder(0=worst,10=best)</th>\n",
       "    </tr>\n",
       "  </thead>\n",
       "  <tbody>\n",
       "    <tr>\n",
       "      <th>59</th>\n",
       "      <td>Australia</td>\n",
       "      <td>AUS</td>\n",
       "      <td>2005</td>\n",
       "      <td>7.340688</td>\n",
       "    </tr>\n",
       "    <tr>\n",
       "      <th>60</th>\n",
       "      <td>Australia</td>\n",
       "      <td>AUS</td>\n",
       "      <td>2007</td>\n",
       "      <td>7.285391</td>\n",
       "    </tr>\n",
       "    <tr>\n",
       "      <th>61</th>\n",
       "      <td>Australia</td>\n",
       "      <td>AUS</td>\n",
       "      <td>2008</td>\n",
       "      <td>7.253757</td>\n",
       "    </tr>\n",
       "    <tr>\n",
       "      <th>62</th>\n",
       "      <td>Australia</td>\n",
       "      <td>AUS</td>\n",
       "      <td>2010</td>\n",
       "      <td>7.450047</td>\n",
       "    </tr>\n",
       "    <tr>\n",
       "      <th>63</th>\n",
       "      <td>Australia</td>\n",
       "      <td>AUS</td>\n",
       "      <td>2011</td>\n",
       "      <td>7.405616</td>\n",
       "    </tr>\n",
       "    <tr>\n",
       "      <th>...</th>\n",
       "      <td>...</td>\n",
       "      <td>...</td>\n",
       "      <td>...</td>\n",
       "      <td>...</td>\n",
       "    </tr>\n",
       "    <tr>\n",
       "      <th>1650</th>\n",
       "      <td>Venezuela</td>\n",
       "      <td>VEN</td>\n",
       "      <td>2014</td>\n",
       "      <td>6.136096</td>\n",
       "    </tr>\n",
       "    <tr>\n",
       "      <th>1651</th>\n",
       "      <td>Venezuela</td>\n",
       "      <td>VEN</td>\n",
       "      <td>2015</td>\n",
       "      <td>5.568800</td>\n",
       "    </tr>\n",
       "    <tr>\n",
       "      <th>1652</th>\n",
       "      <td>Venezuela</td>\n",
       "      <td>VEN</td>\n",
       "      <td>2016</td>\n",
       "      <td>4.041115</td>\n",
       "    </tr>\n",
       "    <tr>\n",
       "      <th>1653</th>\n",
       "      <td>Venezuela</td>\n",
       "      <td>VEN</td>\n",
       "      <td>2017</td>\n",
       "      <td>5.070751</td>\n",
       "    </tr>\n",
       "    <tr>\n",
       "      <th>1654</th>\n",
       "      <td>Venezuela</td>\n",
       "      <td>VEN</td>\n",
       "      <td>2018</td>\n",
       "      <td>5.005663</td>\n",
       "    </tr>\n",
       "  </tbody>\n",
       "</table>\n",
       "<p>151 rows × 4 columns</p>\n",
       "</div>"
      ],
      "text/plain": [
       "         Entity Code  Year  Cantril Ladder(0=worst,10=best)\n",
       "59    Australia  AUS  2005                         7.340688\n",
       "60    Australia  AUS  2007                         7.285391\n",
       "61    Australia  AUS  2008                         7.253757\n",
       "62    Australia  AUS  2010                         7.450047\n",
       "63    Australia  AUS  2011                         7.405616\n",
       "...         ...  ...   ...                              ...\n",
       "1650  Venezuela  VEN  2014                         6.136096\n",
       "1651  Venezuela  VEN  2015                         5.568800\n",
       "1652  Venezuela  VEN  2016                         4.041115\n",
       "1653  Venezuela  VEN  2017                         5.070751\n",
       "1654  Venezuela  VEN  2018                         5.005663\n",
       "\n",
       "[151 rows x 4 columns]"
      ]
     },
     "execution_count": 10,
     "metadata": {},
     "output_type": "execute_result"
    }
   ],
   "source": [
    "#Obtaining and visualizing Cantril Happiness score average per chosen country\n",
    "filepath = os.path.join(\"Data\",\"Life_satisfcation_and_happiness\",\"happiness_cantril_ladder.csv\")\n",
    "Cantril_hap = pd.read_csv(filepath)\n",
    "\n",
    "#Renaming columns\n",
    "Cantril_hap  = Cantril_hap.rename(columns={\"World Happiness Report 2016 (Cantril Ladder (0=worst; 10=best))\":\"Cantril Ladder(0=worst,10=best)\"})\n",
    "\n",
    "# Refining our analysis to the countries listed above. \n",
    "Cantril_hap = Cantril_hap[Cantril_hap.Entity.isin(countries_list)]\n",
    "Cantril_hap\n"
   ]
  },
  {
   "cell_type": "code",
   "execution_count": 11,
   "metadata": {
    "ExecuteTime": {
     "end_time": "2020-04-14T03:46:42.877587Z",
     "start_time": "2020-04-14T03:46:42.864852Z"
    }
   },
   "outputs": [
    {
     "data": {
      "text/html": [
       "<div>\n",
       "<style scoped>\n",
       "    .dataframe tbody tr th:only-of-type {\n",
       "        vertical-align: middle;\n",
       "    }\n",
       "\n",
       "    .dataframe tbody tr th {\n",
       "        vertical-align: top;\n",
       "    }\n",
       "\n",
       "    .dataframe thead th {\n",
       "        text-align: right;\n",
       "    }\n",
       "</style>\n",
       "<table border=\"1\" class=\"dataframe\">\n",
       "  <thead>\n",
       "    <tr style=\"text-align: right;\">\n",
       "      <th></th>\n",
       "      <th>Entity</th>\n",
       "      <th>Cantril Ladder(0=worst,10=best)</th>\n",
       "    </tr>\n",
       "  </thead>\n",
       "  <tbody>\n",
       "    <tr>\n",
       "      <th>0</th>\n",
       "      <td>Australia</td>\n",
       "      <td>7.298081</td>\n",
       "    </tr>\n",
       "    <tr>\n",
       "      <th>1</th>\n",
       "      <td>Brazil</td>\n",
       "      <td>6.673208</td>\n",
       "    </tr>\n",
       "    <tr>\n",
       "      <th>2</th>\n",
       "      <td>China</td>\n",
       "      <td>4.984993</td>\n",
       "    </tr>\n",
       "    <tr>\n",
       "      <th>3</th>\n",
       "      <td>Mexico</td>\n",
       "      <td>6.774823</td>\n",
       "    </tr>\n",
       "    <tr>\n",
       "      <th>4</th>\n",
       "      <td>Nigeria</td>\n",
       "      <td>5.028795</td>\n",
       "    </tr>\n",
       "    <tr>\n",
       "      <th>5</th>\n",
       "      <td>Poland</td>\n",
       "      <td>5.865575</td>\n",
       "    </tr>\n",
       "    <tr>\n",
       "      <th>6</th>\n",
       "      <td>Russia</td>\n",
       "      <td>5.528827</td>\n",
       "    </tr>\n",
       "    <tr>\n",
       "      <th>7</th>\n",
       "      <td>South Africa</td>\n",
       "      <td>4.854910</td>\n",
       "    </tr>\n",
       "    <tr>\n",
       "      <th>8</th>\n",
       "      <td>South Korea</td>\n",
       "      <td>5.879054</td>\n",
       "    </tr>\n",
       "    <tr>\n",
       "      <th>9</th>\n",
       "      <td>Sweden</td>\n",
       "      <td>7.371575</td>\n",
       "    </tr>\n",
       "    <tr>\n",
       "      <th>10</th>\n",
       "      <td>United States</td>\n",
       "      <td>7.106175</td>\n",
       "    </tr>\n",
       "    <tr>\n",
       "      <th>11</th>\n",
       "      <td>Venezuela</td>\n",
       "      <td>6.203183</td>\n",
       "    </tr>\n",
       "  </tbody>\n",
       "</table>\n",
       "</div>"
      ],
      "text/plain": [
       "           Entity  Cantril Ladder(0=worst,10=best)\n",
       "0       Australia                         7.298081\n",
       "1          Brazil                         6.673208\n",
       "2           China                         4.984993\n",
       "3          Mexico                         6.774823\n",
       "4         Nigeria                         5.028795\n",
       "5          Poland                         5.865575\n",
       "6          Russia                         5.528827\n",
       "7    South Africa                         4.854910\n",
       "8     South Korea                         5.879054\n",
       "9          Sweden                         7.371575\n",
       "10  United States                         7.106175\n",
       "11      Venezuela                         6.203183"
      ]
     },
     "execution_count": 11,
     "metadata": {},
     "output_type": "execute_result"
    }
   ],
   "source": [
    "# Grouping by country and finding the average Cantril Ladder Score\n",
    "Cantril_hap_group = Cantril_hap.groupby(\"Entity\").mean().reset_index()\n",
    "del Cantril_hap_group[\"Year\"]\n",
    "Cantril_hap_group"
   ]
  },
  {
   "cell_type": "code",
   "execution_count": 12,
   "metadata": {
    "ExecuteTime": {
     "end_time": "2020-04-14T03:46:43.069752Z",
     "start_time": "2020-04-14T03:46:42.879044Z"
    }
   },
   "outputs": [
    {
     "data": {
      "image/png": "[encoded data removed]",
      "text/plain": [
       "<Figure size 1296x360 with 1 Axes>"
      ]
     },
     "metadata": {
      "needs_background": "light"
     },
     "output_type": "display_data"
    }
   ],
   "source": [
    "#Graphically displaying Average Cantril Happiness Score by country\n",
    "xlocation = [value for value in Cantril_hap_group[\"Entity\"]]\n",
    "f, ax = plt.subplots(figsize=(18,5))\n",
    "plt.bar(Cantril_hap_group[\"Entity\"],Cantril_hap_group[\"Cantril Ladder(0=worst,10=best)\"],yerr=.25)\n",
    "plt.xticks(xlocation,Cantril_hap_group[\"Entity\"],rotation=90)\n",
    "plt.xlabel(\"Country\")\n",
    "plt.ylabel(\"Cantril ladder (0=worst, 10=best)\")\n",
    "plt.title(\"Cantril Ladder Score by Country\")\n",
    "plt.xlim(-.5,len(Cantril_hap_group.Entity)-.5)\n",
    "plt.show()"
   ]
  },
  {
   "cell_type": "code",
   "execution_count": 13,
   "metadata": {
    "ExecuteTime": {
     "end_time": "2020-04-14T03:46:43.304751Z",
     "start_time": "2020-04-14T03:46:43.071332Z"
    }
   },
   "outputs": [
    {
     "data": {
      "image/png": "[encoded data removed]",
      "text/plain": [
       "<Figure size 432x288 with 1 Axes>"
      ]
     },
     "metadata": {
      "needs_background": "light"
     },
     "output_type": "display_data"
    }
   ],
   "source": [
    "# Obtaining and visualizing Cantril Happiness score over time per chosen country\n",
    "Cantril_hap\n",
    "\n",
    "countries_list = [name for name in Cantril_hap.Entity.unique()]\n",
    "years = [value for value in Cantril_hap.Year.unique()]\n",
    "years\n",
    "# Country data\n",
    "US_data = Cantril_hap.loc[Cantril_hap.Entity == \"United States\"]\n",
    "Mexico_data = Cantril_hap.loc[Cantril_hap.Entity == \"Mexico\"]\n",
    "Venezuela_data = Cantril_hap.loc[Cantril_hap.Entity == \"Venezuela\"]\n",
    "Brazil_data = Cantril_hap.loc[Cantril_hap.Entity == \"Brazil\"]\n",
    "South_Africa_data = Cantril_hap.loc[Cantril_hap.Entity == \"South Africa\"]\n",
    "Nigeria_data = Cantril_hap.loc[Cantril_hap.Entity == \"Nigeria\"]\n",
    "Poland_data = Cantril_hap.loc[Cantril_hap.Entity == \"Poland\"]\n",
    "Sweden_data = Cantril_hap.loc[Cantril_hap.Entity == \"Sweden\"]\n",
    "China_data = Cantril_hap.loc[Cantril_hap.Entity == \"China\"]\n",
    "South_Korea_data = Cantril_hap.loc[Cantril_hap.Entity == \"South Korea\"]\n",
    "Australia_data = Cantril_hap.loc[Cantril_hap.Entity == \"Australia\"]\n",
    "Russia_data = Cantril_hap.loc[Cantril_hap.Entity == \"Russia\"]\n",
    "\n",
    "# Country lines\n",
    "US_line, = plt.plot(US_data.Year, US_data[\"Cantril Ladder(0=worst,10=best)\"], color=\"blue\", label=\"United States\")\n",
    "Mexico_line, = plt.plot(Mexico_data.Year, Mexico_data[\"Cantril Ladder(0=worst,10=best)\"], color=\"red\", label=\"Mexico\")\n",
    "Venezuela_line, = plt.plot(Venezuela_data.Year, Venezuela_data[\"Cantril Ladder(0=worst,10=best)\"], color=\"green\", label=\"Venezula\") \n",
    "Brazil_line, = plt.plot(Brazil_data.Year, Brazil_data[\"Cantril Ladder(0=worst,10=best)\"], color=\"gold\", label=\"Brazil\") \n",
    "South_Africa_line, = plt.plot(South_Africa_data.Year, South_Africa_data[\"Cantril Ladder(0=worst,10=best)\"], color=\"fuchsia\", label=\"South Africa\") \n",
    "Nigeria_line, = plt.plot(Nigeria_data.Year, Nigeria_data[\"Cantril Ladder(0=worst,10=best)\"], color=\"yellow\", label=\"Nigeria\") \n",
    "Poland_line, = plt.plot(Poland_data.Year, Poland_data[\"Cantril Ladder(0=worst,10=best)\"], color=\"darkorange\", label=\"Poland\") \n",
    "Sweden_line, = plt.plot(Sweden_data.Year, Sweden_data[\"Cantril Ladder(0=worst,10=best)\"], color=\"darkviolet\", label=\"Sweden\") \n",
    "China_line, = plt.plot(China_data.Year, China_data[\"Cantril Ladder(0=worst,10=best)\"], color=\"lime\", label=\"China\") \n",
    "South_Korea_line, = plt.plot(South_Korea_data.Year, South_Korea_data[\"Cantril Ladder(0=worst,10=best)\"], color=\"tan\", label=\"South Korea\") \n",
    "Australia_line, = plt.plot(Australia_data.Year, Australia_data[\"Cantril Ladder(0=worst,10=best)\"], color=\"saddlebrown\", label=\"Australia\") \n",
    "Russia_line, = plt.plot(Russia_data.Year, Russia_data[\"Cantril Ladder(0=worst,10=best)\"], color=\"cyan\", label=\"Russia\") \n",
    "\n",
    "\n",
    "\n",
    "#Displaying Cantril happiness over time for the selected 10 countries mentioned above. \n",
    "plt.legend(handles=[US_line,Mexico_line,Venezuela_line,Brazil_line,South_Africa_line,Nigeria_line,Poland_line,Sweden_line,China_line,South_Korea_line,Australia_line,Russia_line], loc=\"center left\", bbox_to_anchor=(1,.5))\n",
    "plt.xlim(min(years),max(years))\n",
    "plt.title(\"Cantril Happiness over time for selected countries\")\n",
    "plt.xlabel(\"Year\")\n",
    "plt.ylabel(\"Cantril Happiness Score\")\n",
    "plt.grid()\n",
    "plt.show()\n"
   ]
  },
  {
   "cell_type": "code",
   "execution_count": 53,
   "metadata": {
    "ExecuteTime": {
     "end_time": "2020-04-14T04:25:58.971589Z",
     "start_time": "2020-04-14T04:25:58.964066Z"
    }
   },
   "outputs": [],
   "source": [
    "px.line?"
   ]
  },
  {
   "cell_type": "code",
   "execution_count": 52,
   "metadata": {
    "ExecuteTime": {
     "end_time": "2020-04-14T04:25:49.807599Z",
     "start_time": "2020-04-14T04:25:49.488791Z"
    }
   },
   "outputs": [
    {
     "data": {
      "application/vnd.plotly.v1+json": {
       "config": {
        "plotlyServerURL": "https://plot.ly"
       },
       "data": [
        {
         "hovertemplate": "<b>%{hovertext}</b><br><br>Entity=Australia<br>Year=%{x}<br>Cantril Ladder(0=worst,10=best)=%{y}<extra></extra>",
         "hovertext": [
          "Australia",
          "Australia",
          "Australia",
          "Australia",
          "Australia",
          "Australia",
          "Australia",
          "Australia",
          "Australia",
          "Australia",
          "Australia",
          "Australia"
         ],
         "legendgroup": "Australia",
         "line": {
          "color": "#636efa",
          "dash": "solid"
         },
         "mode": "lines",
         "name": "Australia",
         "showlegend": true,
         "type": "scatter",
         "x": [
          2005,
          2007,
          2008,
          2010,
          2011,
          2012,
          2013,
          2014,
          2015,
          2016,
          2017,
          2018
         ],
         "xaxis": "x",
         "y": [
          7.3406882289999995,
          7.285390854,
          7.253757477000001,
          7.450047016,
          7.405616283,
          7.195585727999999,
          7.364169121000001,
          7.288550377000001,
          7.309060574,
          7.250080109,
          7.25703764,
          7.17699337
         ],
         "yaxis": "y"
        },
        {
         "hovertemplate": "<b>%{hovertext}</b><br><br>Entity=Brazil<br>Year=%{x}<br>Cantril Ladder(0=worst,10=best)=%{y}<extra></extra>",
         "hovertext": [
          "Brazil",
          "Brazil",
          "Brazil",
          "Brazil",
          "Brazil",
          "Brazil",
          "Brazil",
          "Brazil",
          "Brazil",
          "Brazil",
          "Brazil",
          "Brazil",
          "Brazil"
         ],
         "legendgroup": "Brazil",
         "line": {
          "color": "#EF553B",
          "dash": "solid"
         },
         "mode": "lines",
         "name": "Brazil",
         "showlegend": true,
         "type": "scatter",
         "x": [
          2005,
          2007,
          2008,
          2009,
          2010,
          2011,
          2012,
          2013,
          2014,
          2015,
          2016,
          2017,
          2018
         ],
         "xaxis": "x",
         "y": [
          6.636771202,
          6.320672989,
          6.691424847,
          7.000831604,
          6.837331295,
          7.037816525,
          6.660003662,
          7.140282631,
          6.980998992999999,
          6.546896935,
          6.374817371000001,
          6.332929134,
          6.190921782999999
         ],
         "yaxis": "y"
        },
        {
         "hovertemplate": "<b>%{hovertext}</b><br><br>Entity=China<br>Year=%{x}<br>Cantril Ladder(0=worst,10=best)=%{y}<extra></extra>",
         "hovertext": [
          "China",
          "China",
          "China",
          "China",
          "China",
          "China",
          "China",
          "China",
          "China",
          "China",
          "China",
          "China",
          "China"
         ],
         "legendgroup": "China",
         "line": {
          "color": "#00cc96",
          "dash": "solid"
         },
         "mode": "lines",
         "name": "China",
         "showlegend": true,
         "type": "scatter",
         "x": [
          2006,
          2007,
          2008,
          2009,
          2010,
          2011,
          2012,
          2013,
          2014,
          2015,
          2016,
          2017,
          2018
         ],
         "xaxis": "x",
         "y": [
          4.560495377,
          4.86286211,
          4.84629488,
          4.454360962,
          4.652736664,
          5.037207603,
          5.094917297,
          5.2410902980000005,
          5.1956191060000005,
          5.303877831,
          5.32495594,
          5.0990614889999994,
          5.131433964
         ],
         "yaxis": "y"
        },
        {
         "hovertemplate": "<b>%{hovertext}</b><br><br>Entity=Mexico<br>Year=%{x}<br>Cantril Ladder(0=worst,10=best)=%{y}<extra></extra>",
         "hovertext": [
          "Mexico",
          "Mexico",
          "Mexico",
          "Mexico",
          "Mexico",
          "Mexico",
          "Mexico",
          "Mexico",
          "Mexico",
          "Mexico",
          "Mexico",
          "Mexico",
          "Mexico"
         ],
         "legendgroup": "Mexico",
         "line": {
          "color": "#ab63fa",
          "dash": "solid"
         },
         "mode": "lines",
         "name": "Mexico",
         "showlegend": true,
         "type": "scatter",
         "x": [
          2005,
          2007,
          2008,
          2009,
          2010,
          2011,
          2012,
          2013,
          2014,
          2015,
          2016,
          2017,
          2018
         ],
         "xaxis": "x",
         "y": [
          6.580657959,
          6.525378227000001,
          6.829036236,
          6.962819099,
          6.802388668,
          6.909515381,
          7.320185184,
          7.4425463679999995,
          6.679831028,
          6.236287117000001,
          6.824172974,
          6.410299301,
          6.5495786670000005
         ],
         "yaxis": "y"
        },
        {
         "hovertemplate": "<b>%{hovertext}</b><br><br>Entity=Nigeria<br>Year=%{x}<br>Cantril Ladder(0=worst,10=best)=%{y}<extra></extra>",
         "hovertext": [
          "Nigeria",
          "Nigeria",
          "Nigeria",
          "Nigeria",
          "Nigeria",
          "Nigeria",
          "Nigeria",
          "Nigeria",
          "Nigeria",
          "Nigeria",
          "Nigeria"
         ],
         "legendgroup": "Nigeria",
         "line": {
          "color": "#FFA15A",
          "dash": "solid"
         },
         "mode": "lines",
         "name": "Nigeria",
         "showlegend": true,
         "type": "scatter",
         "x": [
          2006,
          2007,
          2008,
          2009,
          2010,
          2012,
          2013,
          2015,
          2016,
          2017,
          2018
         ],
         "xaxis": "x",
         "y": [
          4.709745884,
          4.8904194830000005,
          4.938560486,
          4.980220318,
          4.760275841,
          5.492954254,
          4.81786871,
          4.932914734,
          5.219567776,
          5.321928024,
          5.252288342
         ],
         "yaxis": "y"
        },
        {
         "hovertemplate": "<b>%{hovertext}</b><br><br>Entity=Poland<br>Year=%{x}<br>Cantril Ladder(0=worst,10=best)=%{y}<extra></extra>",
         "hovertext": [
          "Poland",
          "Poland",
          "Poland",
          "Poland",
          "Poland",
          "Poland",
          "Poland",
          "Poland",
          "Poland",
          "Poland",
          "Poland"
         ],
         "legendgroup": "Poland",
         "line": {
          "color": "#19d3f3",
          "dash": "solid"
         },
         "mode": "lines",
         "name": "Poland",
         "showlegend": true,
         "type": "scatter",
         "x": [
          2005,
          2007,
          2009,
          2010,
          2011,
          2012,
          2013,
          2014,
          2015,
          2016,
          2017
         ],
         "xaxis": "x",
         "y": [
          5.587209225,
          5.886137486,
          5.7720274929999995,
          5.8870296479999995,
          5.646204947999999,
          5.87593174,
          5.746131897000001,
          5.750282287999999,
          6.007021904,
          6.162076473,
          6.201268196
         ],
         "yaxis": "y"
        },
        {
         "hovertemplate": "<b>%{hovertext}</b><br><br>Entity=Russia<br>Year=%{x}<br>Cantril Ladder(0=worst,10=best)=%{y}<extra></extra>",
         "hovertext": [
          "Russia",
          "Russia",
          "Russia",
          "Russia",
          "Russia",
          "Russia",
          "Russia",
          "Russia",
          "Russia",
          "Russia",
          "Russia",
          "Russia",
          "Russia"
         ],
         "legendgroup": "Russia",
         "line": {
          "color": "#FF6692",
          "dash": "solid"
         },
         "mode": "lines",
         "name": "Russia",
         "showlegend": true,
         "type": "scatter",
         "x": [
          2006,
          2007,
          2008,
          2009,
          2010,
          2011,
          2012,
          2013,
          2014,
          2015,
          2016,
          2017,
          2018
         ],
         "xaxis": "x",
         "y": [
          4.963742733,
          5.2228674889999995,
          5.61875391,
          5.158227921,
          5.384773254,
          5.388766288999999,
          5.620735645,
          5.537177562999999,
          6.036976814,
          5.995538712,
          5.85494566,
          5.578742981,
          5.513500214
         ],
         "yaxis": "y"
        },
        {
         "hovertemplate": "<b>%{hovertext}</b><br><br>Entity=South Africa<br>Year=%{x}<br>Cantril Ladder(0=worst,10=best)=%{y}<extra></extra>",
         "hovertext": [
          "South Africa",
          "South Africa",
          "South Africa",
          "South Africa",
          "South Africa",
          "South Africa",
          "South Africa",
          "South Africa",
          "South Africa",
          "South Africa",
          "South Africa",
          "South Africa",
          "South Africa"
         ],
         "legendgroup": "South Africa",
         "line": {
          "color": "#B6E880",
          "dash": "solid"
         },
         "mode": "lines",
         "name": "South Africa",
         "showlegend": true,
         "type": "scatter",
         "x": [
          2006,
          2007,
          2008,
          2009,
          2010,
          2011,
          2012,
          2013,
          2014,
          2015,
          2016,
          2017,
          2018
         ],
         "xaxis": "x",
         "y": [
          5.083986759,
          5.2044544219999995,
          5.346306801,
          5.218430996,
          4.652428627,
          4.930511475,
          5.133887768,
          3.660727262,
          4.828456402,
          4.887325764,
          4.769739628,
          4.513655186,
          4.8839220999999995
         ],
         "yaxis": "y"
        },
        {
         "hovertemplate": "<b>%{hovertext}</b><br><br>Entity=South Korea<br>Year=%{x}<br>Cantril Ladder(0=worst,10=best)=%{y}<extra></extra>",
         "hovertext": [
          "South Korea",
          "South Korea",
          "South Korea",
          "South Korea",
          "South Korea",
          "South Korea",
          "South Korea",
          "South Korea",
          "South Korea",
          "South Korea",
          "South Korea",
          "South Korea",
          "South Korea"
         ],
         "legendgroup": "South Korea",
         "line": {
          "color": "#FF97FF",
          "dash": "solid"
         },
         "mode": "lines",
         "name": "South Korea",
         "showlegend": true,
         "type": "scatter",
         "x": [
          2006,
          2007,
          2008,
          2009,
          2010,
          2011,
          2012,
          2013,
          2014,
          2015,
          2016,
          2017,
          2018
         ],
         "xaxis": "x",
         "y": [
          5.332177639,
          5.76727581,
          5.389624596,
          5.647689819,
          6.1160244939999995,
          6.9465990070000005,
          6.003286838999999,
          5.958809852999999,
          5.801325321,
          5.780211448999999,
          5.970564365,
          5.8738870620000005,
          5.840231419
         ],
         "yaxis": "y"
        },
        {
         "hovertemplate": "<b>%{hovertext}</b><br><br>Entity=Sweden<br>Year=%{x}<br>Cantril Ladder(0=worst,10=best)=%{y}<extra></extra>",
         "hovertext": [
          "Sweden",
          "Sweden",
          "Sweden",
          "Sweden",
          "Sweden",
          "Sweden",
          "Sweden",
          "Sweden",
          "Sweden",
          "Sweden",
          "Sweden",
          "Sweden",
          "Sweden"
         ],
         "legendgroup": "Sweden",
         "line": {
          "color": "#FECB52",
          "dash": "solid"
         },
         "mode": "lines",
         "name": "Sweden",
         "showlegend": true,
         "type": "scatter",
         "x": [
          2005,
          2007,
          2008,
          2009,
          2010,
          2011,
          2012,
          2013,
          2014,
          2015,
          2016,
          2017,
          2018
         ],
         "xaxis": "x",
         "y": [
          7.376315593999999,
          7.241362572000001,
          7.51599741,
          7.265977382999999,
          7.496018887000001,
          7.382232189,
          7.560147762000001,
          7.434010506,
          7.239147663,
          7.28892231,
          7.368744372999999,
          7.286804676,
          7.3747920989999995
         ],
         "yaxis": "y"
        },
        {
         "hovertemplate": "<b>%{hovertext}</b><br><br>Entity=United States<br>Year=%{x}<br>Cantril Ladder(0=worst,10=best)=%{y}<extra></extra>",
         "hovertext": [
          "United States",
          "United States",
          "United States",
          "United States",
          "United States",
          "United States",
          "United States",
          "United States",
          "United States",
          "United States",
          "United States",
          "United States",
          "United States"
         ],
         "legendgroup": "United States",
         "line": {
          "color": "#636efa",
          "dash": "solid"
         },
         "mode": "lines",
         "name": "United States",
         "showlegend": true,
         "type": "scatter",
         "x": [
          2006,
          2007,
          2008,
          2009,
          2010,
          2011,
          2012,
          2013,
          2014,
          2015,
          2016,
          2017,
          2018
         ],
         "xaxis": "x",
         "y": [
          7.18179369,
          7.512687682999999,
          7.280385971,
          7.158032417,
          7.16361618,
          7.115138531,
          7.026226997,
          7.249285221,
          7.151114464,
          6.863946915,
          6.803599834,
          6.991759299999999,
          6.882684707999999
         ],
         "yaxis": "y"
        },
        {
         "hovertemplate": "<b>%{hovertext}</b><br><br>Entity=Venezuela<br>Year=%{x}<br>Cantril Ladder(0=worst,10=best)=%{y}<extra></extra>",
         "hovertext": [
          "Venezuela",
          "Venezuela",
          "Venezuela",
          "Venezuela",
          "Venezuela",
          "Venezuela",
          "Venezuela",
          "Venezuela",
          "Venezuela",
          "Venezuela",
          "Venezuela",
          "Venezuela",
          "Venezuela"
         ],
         "legendgroup": "Venezuela",
         "line": {
          "color": "#EF553B",
          "dash": "solid"
         },
         "mode": "lines",
         "name": "Venezuela",
         "showlegend": true,
         "type": "scatter",
         "x": [
          2005,
          2006,
          2008,
          2009,
          2010,
          2011,
          2012,
          2013,
          2014,
          2015,
          2016,
          2017,
          2018
         ],
         "xaxis": "x",
         "y": [
          7.169620991,
          6.525146007999999,
          6.257771492000001,
          7.188803196,
          7.47845459,
          6.579789162000001,
          7.066577435,
          6.552796364,
          6.136096478,
          5.568800448999999,
          4.041114807,
          5.070750713,
          5.005663395
         ],
         "yaxis": "y"
        }
       ],
       "layout": {
        "legend": {
         "title": {
          "text": "Entity"
         },
         "tracegroupgap": 0
        },
        "template": {
         "data": {
          "bar": [
           {
            "error_x": {
             "color": "#2a3f5f"
            },
            "error_y": {
             "color": "#2a3f5f"
            },
            "marker": {
             "line": {
              "color": "#E5ECF6",
              "width": 0.5
             }
            },
            "type": "bar"
           }
          ],
          "barpolar": [
           {
            "marker": {
             "line": {
              "color": "#E5ECF6",
              "width": 0.5
             }
            },
            "type": "barpolar"
           }
          ],
          "carpet": [
           {
            "aaxis": {
             "endlinecolor": "#2a3f5f",
             "gridcolor": "white",
             "linecolor": "white",
             "minorgridcolor": "white",
             "startlinecolor": "#2a3f5f"
            },
            "baxis": {
             "endlinecolor": "#2a3f5f",
             "gridcolor": "white",
             "linecolor": "white",
             "minorgridcolor": "white",
             "startlinecolor": "#2a3f5f"
            },
            "type": "carpet"
           }
          ],
          "choropleth": [
           {
            "colorbar": {
             "outlinewidth": 0,
             "ticks": ""
            },
            "type": "choropleth"
           }
          ],
          "contour": [
           {
            "colorbar": {
             "outlinewidth": 0,
             "ticks": ""
            },
            "colorscale": [
             [
              0,
              "#0d0887"
             ],
             [
              0.1111111111111111,
              "#46039f"
             ],
             [
              0.2222222222222222,
              "#7201a8"
             ],
             [
              0.3333333333333333,
              "#9c179e"
             ],
             [
              0.4444444444444444,
              "#bd3786"
             ],
             [
              0.5555555555555556,
              "#d8576b"
             ],
             [
              0.6666666666666666,
              "#ed7953"
             ],
             [
              0.7777777777777778,
              "#fb9f3a"
             ],
             [
              0.8888888888888888,
              "#fdca26"
             ],
             [
              1,
              "#f0f921"
             ]
            ],
            "type": "contour"
           }
          ],
          "contourcarpet": [
           {
            "colorbar": {
             "outlinewidth": 0,
             "ticks": ""
            },
            "type": "contourcarpet"
           }
          ],
          "heatmap": [
           {
            "colorbar": {
             "outlinewidth": 0,
             "ticks": ""
            },
            "colorscale": [
             [
              0,
              "#0d0887"
             ],
             [
              0.1111111111111111,
              "#46039f"
             ],
             [
              0.2222222222222222,
              "#7201a8"
             ],
             [
              0.3333333333333333,
              "#9c179e"
             ],
             [
              0.4444444444444444,
              "#bd3786"
             ],
             [
              0.5555555555555556,
              "#d8576b"
             ],
             [
              0.6666666666666666,
              "#ed7953"
             ],
             [
              0.7777777777777778,
              "#fb9f3a"
             ],
             [
              0.8888888888888888,
              "#fdca26"
             ],
             [
              1,
              "#f0f921"
             ]
            ],
            "type": "heatmap"
           }
          ],
          "heatmapgl": [
           {
            "colorbar": {
             "outlinewidth": 0,
             "ticks": ""
            },
            "colorscale": [
             [
              0,
              "#0d0887"
             ],
             [
              0.1111111111111111,
              "#46039f"
             ],
             [
              0.2222222222222222,
              "#7201a8"
             ],
             [
              0.3333333333333333,
              "#9c179e"
             ],
             [
              0.4444444444444444,
              "#bd3786"
             ],
             [
              0.5555555555555556,
              "#d8576b"
             ],
             [
              0.6666666666666666,
              "#ed7953"
             ],
             [
              0.7777777777777778,
              "#fb9f3a"
             ],
             [
              0.8888888888888888,
              "#fdca26"
             ],
             [
              1,
              "#f0f921"
             ]
            ],
            "type": "heatmapgl"
           }
          ],
          "histogram": [
           {
            "marker": {
             "colorbar": {
              "outlinewidth": 0,
              "ticks": ""
             }
            },
            "type": "histogram"
           }
          ],
          "histogram2d": [
           {
            "colorbar": {
             "outlinewidth": 0,
             "ticks": ""
            },
            "colorscale": [
             [
              0,
              "#0d0887"
             ],
             [
              0.1111111111111111,
              "#46039f"
             ],
             [
              0.2222222222222222,
              "#7201a8"
             ],
             [
              0.3333333333333333,
              "#9c179e"
             ],
             [
              0.4444444444444444,
              "#bd3786"
             ],
             [
              0.5555555555555556,
              "#d8576b"
             ],
             [
              0.6666666666666666,
              "#ed7953"
             ],
             [
              0.7777777777777778,
              "#fb9f3a"
             ],
             [
              0.8888888888888888,
              "#fdca26"
             ],
             [
              1,
              "#f0f921"
             ]
            ],
            "type": "histogram2d"
           }
          ],
          "histogram2dcontour": [
           {
            "colorbar": {
             "outlinewidth": 0,
             "ticks": ""
            },
            "colorscale": [
             [
              0,
              "#0d0887"
             ],
             [
              0.1111111111111111,
              "#46039f"
             ],
             [
              0.2222222222222222,
              "#7201a8"
             ],
             [
              0.3333333333333333,
              "#9c179e"
             ],
             [
              0.4444444444444444,
              "#bd3786"
             ],
             [
              0.5555555555555556,
              "#d8576b"
             ],
             [
              0.6666666666666666,
              "#ed7953"
             ],
             [
              0.7777777777777778,
              "#fb9f3a"
             ],
             [
              0.8888888888888888,
              "#fdca26"
             ],
             [
              1,
              "#f0f921"
             ]
            ],
            "type": "histogram2dcontour"
           }
          ],
          "mesh3d": [
           {
            "colorbar": {
             "outlinewidth": 0,
             "ticks": ""
            },
            "type": "mesh3d"
           }
          ],
          "parcoords": [
           {
            "line": {
             "colorbar": {
              "outlinewidth": 0,
              "ticks": ""
             }
            },
            "type": "parcoords"
           }
          ],
          "pie": [
           {
            "automargin": true,
            "type": "pie"
           }
          ],
          "scatter": [
           {
            "marker": {
             "colorbar": {
              "outlinewidth": 0,
              "ticks": ""
             }
            },
            "type": "scatter"
           }
          ],
          "scatter3d": [
           {
            "line": {
             "colorbar": {
              "outlinewidth": 0,
              "ticks": ""
             }
            },
            "marker": {
             "colorbar": {
              "outlinewidth": 0,
              "ticks": ""
             }
            },
            "type": "scatter3d"
           }
          ],
          "scattercarpet": [
           {
            "marker": {
             "colorbar": {
              "outlinewidth": 0,
              "ticks": ""
             }
            },
            "type": "scattercarpet"
           }
          ],
          "scattergeo": [
           {
            "marker": {
             "colorbar": {
              "outlinewidth": 0,
              "ticks": ""
             }
            },
            "type": "scattergeo"
           }
          ],
          "scattergl": [
           {
            "marker": {
             "colorbar": {
              "outlinewidth": 0,
              "ticks": ""
             }
            },
            "type": "scattergl"
           }
          ],
          "scattermapbox": [
           {
            "marker": {
             "colorbar": {
              "outlinewidth": 0,
              "ticks": ""
             }
            },
            "type": "scattermapbox"
           }
          ],
          "scatterpolar": [
           {
            "marker": {
             "colorbar": {
              "outlinewidth": 0,
              "ticks": ""
             }
            },
            "type": "scatterpolar"
           }
          ],
          "scatterpolargl": [
           {
            "marker": {
             "colorbar": {
              "outlinewidth": 0,
              "ticks": ""
             }
            },
            "type": "scatterpolargl"
           }
          ],
          "scatterternary": [
           {
            "marker": {
             "colorbar": {
              "outlinewidth": 0,
              "ticks": ""
             }
            },
            "type": "scatterternary"
           }
          ],
          "surface": [
           {
            "colorbar": {
             "outlinewidth": 0,
             "ticks": ""
            },
            "colorscale": [
             [
              0,
              "#0d0887"
             ],
             [
              0.1111111111111111,
              "#46039f"
             ],
             [
              0.2222222222222222,
              "#7201a8"
             ],
             [
              0.3333333333333333,
              "#9c179e"
             ],
             [
              0.4444444444444444,
              "#bd3786"
             ],
             [
              0.5555555555555556,
              "#d8576b"
             ],
             [
              0.6666666666666666,
              "#ed7953"
             ],
             [
              0.7777777777777778,
              "#fb9f3a"
             ],
             [
              0.8888888888888888,
              "#fdca26"
             ],
             [
              1,
              "#f0f921"
             ]
            ],
            "type": "surface"
           }
          ],
          "table": [
           {
            "cells": {
             "fill": {
              "color": "#EBF0F8"
             },
             "line": {
              "color": "white"
             }
            },
            "header": {
             "fill": {
              "color": "#C8D4E3"
             },
             "line": {
              "color": "white"
             }
            },
            "type": "table"
           }
          ]
         },
         "layout": {
          "annotationdefaults": {
           "arrowcolor": "#2a3f5f",
           "arrowhead": 0,
           "arrowwidth": 1
          },
          "coloraxis": {
           "colorbar": {
            "outlinewidth": 0,
            "ticks": ""
           }
          },
          "colorscale": {
           "diverging": [
            [
             0,
             "#8e0152"
            ],
            [
             0.1,
             "#c51b7d"
            ],
            [
             0.2,
             "#de77ae"
            ],
            [
             0.3,
             "#f1b6da"
            ],
            [
             0.4,
             "#fde0ef"
            ],
            [
             0.5,
             "#f7f7f7"
            ],
            [
             0.6,
             "#e6f5d0"
            ],
            [
             0.7,
             "#b8e186"
            ],
            [
             0.8,
             "#7fbc41"
            ],
            [
             0.9,
             "#4d9221"
            ],
            [
             1,
             "#276419"
            ]
           ],
           "sequential": [
            [
             0,
             "#0d0887"
            ],
            [
             0.1111111111111111,
             "#46039f"
            ],
            [
             0.2222222222222222,
             "#7201a8"
            ],
            [
             0.3333333333333333,
             "#9c179e"
            ],
            [
             0.4444444444444444,
             "#bd3786"
            ],
            [
             0.5555555555555556,
             "#d8576b"
            ],
            [
             0.6666666666666666,
             "#ed7953"
            ],
            [
             0.7777777777777778,
             "#fb9f3a"
            ],
            [
             0.8888888888888888,
             "#fdca26"
            ],
            [
             1,
             "#f0f921"
            ]
           ],
           "sequentialminus": [
            [
             0,
             "#0d0887"
            ],
            [
             0.1111111111111111,
             "#46039f"
            ],
            [
             0.2222222222222222,
             "#7201a8"
            ],
            [
             0.3333333333333333,
             "#9c179e"
            ],
            [
             0.4444444444444444,
             "#bd3786"
            ],
            [
             0.5555555555555556,
             "#d8576b"
            ],
            [
             0.6666666666666666,
             "#ed7953"
            ],
            [
             0.7777777777777778,
             "#fb9f3a"
            ],
            [
             0.8888888888888888,
             "#fdca26"
            ],
            [
             1,
             "#f0f921"
            ]
           ]
          },
          "colorway": [
           "#636efa",
           "#EF553B",
           "#00cc96",
           "#ab63fa",
           "#FFA15A",
           "#19d3f3",
           "#FF6692",
           "#B6E880",
           "#FF97FF",
           "#FECB52"
          ],
          "font": {
           "color": "#2a3f5f"
          },
          "geo": {
           "bgcolor": "white",
           "lakecolor": "white",
           "landcolor": "#E5ECF6",
           "showlakes": true,
           "showland": true,
           "subunitcolor": "white"
          },
          "hoverlabel": {
           "align": "left"
          },
          "hovermode": "closest",
          "mapbox": {
           "style": "light"
          },
          "paper_bgcolor": "white",
          "plot_bgcolor": "#E5ECF6",
          "polar": {
           "angularaxis": {
            "gridcolor": "white",
            "linecolor": "white",
            "ticks": ""
           },
           "bgcolor": "#E5ECF6",
           "radialaxis": {
            "gridcolor": "white",
            "linecolor": "white",
            "ticks": ""
           }
          },
          "scene": {
           "xaxis": {
            "backgroundcolor": "#E5ECF6",
            "gridcolor": "white",
            "gridwidth": 2,
            "linecolor": "white",
            "showbackground": true,
            "ticks": "",
            "zerolinecolor": "white"
           },
           "yaxis": {
            "backgroundcolor": "#E5ECF6",
            "gridcolor": "white",
            "gridwidth": 2,
            "linecolor": "white",
            "showbackground": true,
            "ticks": "",
            "zerolinecolor": "white"
           },
           "zaxis": {
            "backgroundcolor": "#E5ECF6",
            "gridcolor": "white",
            "gridwidth": 2,
            "linecolor": "white",
            "showbackground": true,
            "ticks": "",
            "zerolinecolor": "white"
           }
          },
          "shapedefaults": {
           "line": {
            "color": "#2a3f5f"
           }
          },
          "ternary": {
           "aaxis": {
            "gridcolor": "white",
            "linecolor": "white",
            "ticks": ""
           },
           "baxis": {
            "gridcolor": "white",
            "linecolor": "white",
            "ticks": ""
           },
           "bgcolor": "#E5ECF6",
           "caxis": {
            "gridcolor": "white",
            "linecolor": "white",
            "ticks": ""
           }
          },
          "title": {
           "x": 0.05
          },
          "xaxis": {
           "automargin": true,
           "gridcolor": "white",
           "linecolor": "white",
           "ticks": "",
           "title": {
            "standoff": 15
           },
           "zerolinecolor": "white",
           "zerolinewidth": 2
          },
          "yaxis": {
           "automargin": true,
           "gridcolor": "white",
           "linecolor": "white",
           "ticks": "",
           "title": {
            "standoff": 15
           },
           "zerolinecolor": "white",
           "zerolinewidth": 2
          }
         }
        },
        "title": {
         "text": "Cantril Happiness over time for selected countries"
        },
        "xaxis": {
         "anchor": "y",
         "domain": [
          0,
          1
         ],
         "title": {
          "text": "Year"
         }
        },
        "yaxis": {
         "anchor": "x",
         "domain": [
          0,
          1
         ],
         "title": {
          "text": "Cantril Ladder(0=worst,10=best)"
         }
        }
       }
      },
      "text/html": [
       "<div>\n",
       "        \n",
       "        \n",
       "            <div id=\"06379bbc-6047-4376-badd-ac7eeea444f4\" class=\"plotly-graph-div\" style=\"height:525px; width:100%;\"></div>\n",
       "            <script type=\"text/javascript\">\n",
       "                require([\"plotly\"], function(Plotly) {\n",
       "                    window.PLOTLYENV=window.PLOTLYENV || {};\n",
       "                    \n",
       "                if (document.getElementById(\"06379bbc-6047-4376-badd-ac7eeea444f4\")) {\n",
       "                    Plotly.newPlot(\n",
       "                        '06379bbc-6047-4376-badd-ac7eeea444f4',\n",
       "                        [{\"hovertemplate\": \"<b>%{hovertext}</b><br><br>Entity=Australia<br>Year=%{x}<br>Cantril Ladder(0=worst,10=best)=%{y}<extra></extra>\", \"hovertext\": [\"Australia\", \"Australia\", \"Australia\", \"Australia\", \"Australia\", \"Australia\", \"Australia\", \"Australia\", \"Australia\", \"Australia\", \"Australia\", \"Australia\"], \"legendgroup\": \"Australia\", \"line\": {\"color\": \"#636efa\", \"dash\": \"solid\"}, \"mode\": \"lines\", \"name\": \"Australia\", \"showlegend\": true, \"type\": \"scatter\", \"x\": [2005, 2007, 2008, 2010, 2011, 2012, 2013, 2014, 2015, 2016, 2017, 2018], \"xaxis\": \"x\", \"y\": [7.3406882289999995, 7.285390854, 7.253757477000001, 7.450047016, 7.405616283, 7.195585727999999, 7.364169121000001, 7.288550377000001, 7.309060574, 7.250080109, 7.25703764, 7.17699337], \"yaxis\": \"y\"}, {\"hovertemplate\": \"<b>%{hovertext}</b><br><br>Entity=Brazil<br>Year=%{x}<br>Cantril Ladder(0=worst,10=best)=%{y}<extra></extra>\", \"hovertext\": [\"Brazil\", \"Brazil\", \"Brazil\", \"Brazil\", \"Brazil\", \"Brazil\", \"Brazil\", \"Brazil\", \"Brazil\", \"Brazil\", \"Brazil\", \"Brazil\", \"Brazil\"], \"legendgroup\": \"Brazil\", \"line\": {\"color\": \"#EF553B\", \"dash\": \"solid\"}, \"mode\": \"lines\", \"name\": \"Brazil\", \"showlegend\": true, \"type\": \"scatter\", \"x\": [2005, 2007, 2008, 2009, 2010, 2011, 2012, 2013, 2014, 2015, 2016, 2017, 2018], \"xaxis\": \"x\", \"y\": [6.636771202, 6.320672989, 6.691424847, 7.000831604, 6.837331295, 7.037816525, 6.660003662, 7.140282631, 6.980998992999999, 6.546896935, 6.374817371000001, 6.332929134, 6.190921782999999], \"yaxis\": \"y\"}, {\"hovertemplate\": \"<b>%{hovertext}</b><br><br>Entity=China<br>Year=%{x}<br>Cantril Ladder(0=worst,10=best)=%{y}<extra></extra>\", \"hovertext\": [\"China\", \"China\", \"China\", \"China\", \"China\", \"China\", \"China\", \"China\", \"China\", \"China\", \"China\", \"China\", \"China\"], \"legendgroup\": \"China\", \"line\": {\"color\": \"#00cc96\", \"dash\": \"solid\"}, \"mode\": \"lines\", \"name\": \"China\", \"showlegend\": true, \"type\": \"scatter\", \"x\": [2006, 2007, 2008, 2009, 2010, 2011, 2012, 2013, 2014, 2015, 2016, 2017, 2018], \"xaxis\": \"x\", \"y\": [4.560495377, 4.86286211, 4.84629488, 4.454360962, 4.652736664, 5.037207603, 5.094917297, 5.2410902980000005, 5.1956191060000005, 5.303877831, 5.32495594, 5.0990614889999994, 5.131433964], \"yaxis\": \"y\"}, {\"hovertemplate\": \"<b>%{hovertext}</b><br><br>Entity=Mexico<br>Year=%{x}<br>Cantril Ladder(0=worst,10=best)=%{y}<extra></extra>\", \"hovertext\": [\"Mexico\", \"Mexico\", \"Mexico\", \"Mexico\", \"Mexico\", \"Mexico\", \"Mexico\", \"Mexico\", \"Mexico\", \"Mexico\", \"Mexico\", \"Mexico\", \"Mexico\"], \"legendgroup\": \"Mexico\", \"line\": {\"color\": \"#ab63fa\", \"dash\": \"solid\"}, \"mode\": \"lines\", \"name\": \"Mexico\", \"showlegend\": true, \"type\": \"scatter\", \"x\": [2005, 2007, 2008, 2009, 2010, 2011, 2012, 2013, 2014, 2015, 2016, 2017, 2018], \"xaxis\": \"x\", \"y\": [6.580657959, 6.525378227000001, 6.829036236, 6.962819099, 6.802388668, 6.909515381, 7.320185184, 7.4425463679999995, 6.679831028, 6.236287117000001, 6.824172974, 6.410299301, 6.5495786670000005], \"yaxis\": \"y\"}, {\"hovertemplate\": \"<b>%{hovertext}</b><br><br>Entity=Nigeria<br>Year=%{x}<br>Cantril Ladder(0=worst,10=best)=%{y}<extra></extra>\", \"hovertext\": [\"Nigeria\", \"Nigeria\", \"Nigeria\", \"Nigeria\", \"Nigeria\", \"Nigeria\", \"Nigeria\", \"Nigeria\", \"Nigeria\", \"Nigeria\", \"Nigeria\"], \"legendgroup\": \"Nigeria\", \"line\": {\"color\": \"#FFA15A\", \"dash\": \"solid\"}, \"mode\": \"lines\", \"name\": \"Nigeria\", \"showlegend\": true, \"type\": \"scatter\", \"x\": [2006, 2007, 2008, 2009, 2010, 2012, 2013, 2015, 2016, 2017, 2018], \"xaxis\": \"x\", \"y\": [4.709745884, 4.8904194830000005, 4.938560486, 4.980220318, 4.760275841, 5.492954254, 4.81786871, 4.932914734, 5.219567776, 5.321928024, 5.252288342], \"yaxis\": \"y\"}, {\"hovertemplate\": \"<b>%{hovertext}</b><br><br>Entity=Poland<br>Year=%{x}<br>Cantril Ladder(0=worst,10=best)=%{y}<extra></extra>\", \"hovertext\": [\"Poland\", \"Poland\", \"Poland\", \"Poland\", \"Poland\", \"Poland\", \"Poland\", \"Poland\", \"Poland\", \"Poland\", \"Poland\"], \"legendgroup\": \"Poland\", \"line\": {\"color\": \"#19d3f3\", \"dash\": \"solid\"}, \"mode\": \"lines\", \"name\": \"Poland\", \"showlegend\": true, \"type\": \"scatter\", \"x\": [2005, 2007, 2009, 2010, 2011, 2012, 2013, 2014, 2015, 2016, 2017], \"xaxis\": \"x\", \"y\": [5.587209225, 5.886137486, 5.7720274929999995, 5.8870296479999995, 5.646204947999999, 5.87593174, 5.746131897000001, 5.750282287999999, 6.007021904, 6.162076473, 6.201268196], \"yaxis\": \"y\"}, {\"hovertemplate\": \"<b>%{hovertext}</b><br><br>Entity=Russia<br>Year=%{x}<br>Cantril Ladder(0=worst,10=best)=%{y}<extra></extra>\", \"hovertext\": [\"Russia\", \"Russia\", \"Russia\", \"Russia\", \"Russia\", \"Russia\", \"Russia\", \"Russia\", \"Russia\", \"Russia\", \"Russia\", \"Russia\", \"Russia\"], \"legendgroup\": \"Russia\", \"line\": {\"color\": \"#FF6692\", \"dash\": \"solid\"}, \"mode\": \"lines\", \"name\": \"Russia\", \"showlegend\": true, \"type\": \"scatter\", \"x\": [2006, 2007, 2008, 2009, 2010, 2011, 2012, 2013, 2014, 2015, 2016, 2017, 2018], \"xaxis\": \"x\", \"y\": [4.963742733, 5.2228674889999995, 5.61875391, 5.158227921, 5.384773254, 5.388766288999999, 5.620735645, 5.537177562999999, 6.036976814, 5.995538712, 5.85494566, 5.578742981, 5.513500214], \"yaxis\": \"y\"}, {\"hovertemplate\": \"<b>%{hovertext}</b><br><br>Entity=South Africa<br>Year=%{x}<br>Cantril Ladder(0=worst,10=best)=%{y}<extra></extra>\", \"hovertext\": [\"South Africa\", \"South Africa\", \"South Africa\", \"South Africa\", \"South Africa\", \"South Africa\", \"South Africa\", \"South Africa\", \"South Africa\", \"South Africa\", \"South Africa\", \"South Africa\", \"South Africa\"], \"legendgroup\": \"South Africa\", \"line\": {\"color\": \"#B6E880\", \"dash\": \"solid\"}, \"mode\": \"lines\", \"name\": \"South Africa\", \"showlegend\": true, \"type\": \"scatter\", \"x\": [2006, 2007, 2008, 2009, 2010, 2011, 2012, 2013, 2014, 2015, 2016, 2017, 2018], \"xaxis\": \"x\", \"y\": [5.083986759, 5.2044544219999995, 5.346306801, 5.218430996, 4.652428627, 4.930511475, 5.133887768, 3.660727262, 4.828456402, 4.887325764, 4.769739628, 4.513655186, 4.8839220999999995], \"yaxis\": \"y\"}, {\"hovertemplate\": \"<b>%{hovertext}</b><br><br>Entity=South Korea<br>Year=%{x}<br>Cantril Ladder(0=worst,10=best)=%{y}<extra></extra>\", \"hovertext\": [\"South Korea\", \"South Korea\", \"South Korea\", \"South Korea\", \"South Korea\", \"South Korea\", \"South Korea\", \"South Korea\", \"South Korea\", \"South Korea\", \"South Korea\", \"South Korea\", \"South Korea\"], \"legendgroup\": \"South Korea\", \"line\": {\"color\": \"#FF97FF\", \"dash\": \"solid\"}, \"mode\": \"lines\", \"name\": \"South Korea\", \"showlegend\": true, \"type\": \"scatter\", \"x\": [2006, 2007, 2008, 2009, 2010, 2011, 2012, 2013, 2014, 2015, 2016, 2017, 2018], \"xaxis\": \"x\", \"y\": [5.332177639, 5.76727581, 5.389624596, 5.647689819, 6.1160244939999995, 6.9465990070000005, 6.003286838999999, 5.958809852999999, 5.801325321, 5.780211448999999, 5.970564365, 5.8738870620000005, 5.840231419], \"yaxis\": \"y\"}, {\"hovertemplate\": \"<b>%{hovertext}</b><br><br>Entity=Sweden<br>Year=%{x}<br>Cantril Ladder(0=worst,10=best)=%{y}<extra></extra>\", \"hovertext\": [\"Sweden\", \"Sweden\", \"Sweden\", \"Sweden\", \"Sweden\", \"Sweden\", \"Sweden\", \"Sweden\", \"Sweden\", \"Sweden\", \"Sweden\", \"Sweden\", \"Sweden\"], \"legendgroup\": \"Sweden\", \"line\": {\"color\": \"#FECB52\", \"dash\": \"solid\"}, \"mode\": \"lines\", \"name\": \"Sweden\", \"showlegend\": true, \"type\": \"scatter\", \"x\": [2005, 2007, 2008, 2009, 2010, 2011, 2012, 2013, 2014, 2015, 2016, 2017, 2018], \"xaxis\": \"x\", \"y\": [7.376315593999999, 7.241362572000001, 7.51599741, 7.265977382999999, 7.496018887000001, 7.382232189, 7.560147762000001, 7.434010506, 7.239147663, 7.28892231, 7.368744372999999, 7.286804676, 7.3747920989999995], \"yaxis\": \"y\"}, {\"hovertemplate\": \"<b>%{hovertext}</b><br><br>Entity=United States<br>Year=%{x}<br>Cantril Ladder(0=worst,10=best)=%{y}<extra></extra>\", \"hovertext\": [\"United States\", \"United States\", \"United States\", \"United States\", \"United States\", \"United States\", \"United States\", \"United States\", \"United States\", \"United States\", \"United States\", \"United States\", \"United States\"], \"legendgroup\": \"United States\", \"line\": {\"color\": \"#636efa\", \"dash\": \"solid\"}, \"mode\": \"lines\", \"name\": \"United States\", \"showlegend\": true, \"type\": \"scatter\", \"x\": [2006, 2007, 2008, 2009, 2010, 2011, 2012, 2013, 2014, 2015, 2016, 2017, 2018], \"xaxis\": \"x\", \"y\": [7.18179369, 7.512687682999999, 7.280385971, 7.158032417, 7.16361618, 7.115138531, 7.026226997, 7.249285221, 7.151114464, 6.863946915, 6.803599834, 6.991759299999999, 6.882684707999999], \"yaxis\": \"y\"}, {\"hovertemplate\": \"<b>%{hovertext}</b><br><br>Entity=Venezuela<br>Year=%{x}<br>Cantril Ladder(0=worst,10=best)=%{y}<extra></extra>\", \"hovertext\": [\"Venezuela\", \"Venezuela\", \"Venezuela\", \"Venezuela\", \"Venezuela\", \"Venezuela\", \"Venezuela\", \"Venezuela\", \"Venezuela\", \"Venezuela\", \"Venezuela\", \"Venezuela\", \"Venezuela\"], \"legendgroup\": \"Venezuela\", \"line\": {\"color\": \"#EF553B\", \"dash\": \"solid\"}, \"mode\": \"lines\", \"name\": \"Venezuela\", \"showlegend\": true, \"type\": \"scatter\", \"x\": [2005, 2006, 2008, 2009, 2010, 2011, 2012, 2013, 2014, 2015, 2016, 2017, 2018], \"xaxis\": \"x\", \"y\": [7.169620991, 6.525146007999999, 6.257771492000001, 7.188803196, 7.47845459, 6.579789162000001, 7.066577435, 6.552796364, 6.136096478, 5.568800448999999, 4.041114807, 5.070750713, 5.005663395], \"yaxis\": \"y\"}],\n",
       "                        {\"legend\": {\"title\": {\"text\": \"Entity\"}, \"tracegroupgap\": 0}, \"template\": {\"data\": {\"bar\": [{\"error_x\": {\"color\": \"#2a3f5f\"}, \"error_y\": {\"color\": \"#2a3f5f\"}, \"marker\": {\"line\": {\"color\": \"#E5ECF6\", \"width\": 0.5}}, \"type\": \"bar\"}], \"barpolar\": [{\"marker\": {\"line\": {\"color\": \"#E5ECF6\", \"width\": 0.5}}, \"type\": \"barpolar\"}], \"carpet\": [{\"aaxis\": {\"endlinecolor\": \"#2a3f5f\", \"gridcolor\": \"white\", \"linecolor\": \"white\", \"minorgridcolor\": \"white\", \"startlinecolor\": \"#2a3f5f\"}, \"baxis\": {\"endlinecolor\": \"#2a3f5f\", \"gridcolor\": \"white\", \"linecolor\": \"white\", \"minorgridcolor\": \"white\", \"startlinecolor\": \"#2a3f5f\"}, \"type\": \"carpet\"}], \"choropleth\": [{\"colorbar\": {\"outlinewidth\": 0, \"ticks\": \"\"}, \"type\": \"choropleth\"}], \"contour\": [{\"colorbar\": {\"outlinewidth\": 0, \"ticks\": \"\"}, \"colorscale\": [[0.0, \"#0d0887\"], [0.1111111111111111, \"#46039f\"], [0.2222222222222222, \"#7201a8\"], [0.3333333333333333, \"#9c179e\"], [0.4444444444444444, \"#bd3786\"], [0.5555555555555556, \"#d8576b\"], [0.6666666666666666, \"#ed7953\"], [0.7777777777777778, \"#fb9f3a\"], [0.8888888888888888, \"#fdca26\"], [1.0, \"#f0f921\"]], \"type\": \"contour\"}], \"contourcarpet\": [{\"colorbar\": {\"outlinewidth\": 0, \"ticks\": \"\"}, \"type\": \"contourcarpet\"}], \"heatmap\": [{\"colorbar\": {\"outlinewidth\": 0, \"ticks\": \"\"}, \"colorscale\": [[0.0, \"#0d0887\"], [0.1111111111111111, \"#46039f\"], [0.2222222222222222, \"#7201a8\"], [0.3333333333333333, \"#9c179e\"], [0.4444444444444444, \"#bd3786\"], [0.5555555555555556, \"#d8576b\"], [0.6666666666666666, \"#ed7953\"], [0.7777777777777778, \"#fb9f3a\"], [0.8888888888888888, \"#fdca26\"], [1.0, \"#f0f921\"]], \"type\": \"heatmap\"}], \"heatmapgl\": [{\"colorbar\": {\"outlinewidth\": 0, \"ticks\": \"\"}, \"colorscale\": [[0.0, \"#0d0887\"], [0.1111111111111111, \"#46039f\"], [0.2222222222222222, \"#7201a8\"], [0.3333333333333333, \"#9c179e\"], [0.4444444444444444, \"#bd3786\"], [0.5555555555555556, \"#d8576b\"], [0.6666666666666666, \"#ed7953\"], [0.7777777777777778, \"#fb9f3a\"], [0.8888888888888888, \"#fdca26\"], [1.0, \"#f0f921\"]], \"type\": \"heatmapgl\"}], \"histogram\": [{\"marker\": {\"colorbar\": {\"outlinewidth\": 0, \"ticks\": \"\"}}, \"type\": \"histogram\"}], \"histogram2d\": [{\"colorbar\": {\"outlinewidth\": 0, \"ticks\": \"\"}, \"colorscale\": [[0.0, \"#0d0887\"], [0.1111111111111111, \"#46039f\"], [0.2222222222222222, \"#7201a8\"], [0.3333333333333333, \"#9c179e\"], [0.4444444444444444, \"#bd3786\"], [0.5555555555555556, \"#d8576b\"], [0.6666666666666666, \"#ed7953\"], [0.7777777777777778, \"#fb9f3a\"], [0.8888888888888888, \"#fdca26\"], [1.0, \"#f0f921\"]], \"type\": \"histogram2d\"}], \"histogram2dcontour\": [{\"colorbar\": {\"outlinewidth\": 0, \"ticks\": \"\"}, \"colorscale\": [[0.0, \"#0d0887\"], [0.1111111111111111, \"#46039f\"], [0.2222222222222222, \"#7201a8\"], [0.3333333333333333, \"#9c179e\"], [0.4444444444444444, \"#bd3786\"], [0.5555555555555556, \"#d8576b\"], [0.6666666666666666, \"#ed7953\"], [0.7777777777777778, \"#fb9f3a\"], [0.8888888888888888, \"#fdca26\"], [1.0, \"#f0f921\"]], \"type\": \"histogram2dcontour\"}], \"mesh3d\": [{\"colorbar\": {\"outlinewidth\": 0, \"ticks\": \"\"}, \"type\": \"mesh3d\"}], \"parcoords\": [{\"line\": {\"colorbar\": {\"outlinewidth\": 0, \"ticks\": \"\"}}, \"type\": \"parcoords\"}], \"pie\": [{\"automargin\": true, \"type\": \"pie\"}], \"scatter\": [{\"marker\": {\"colorbar\": {\"outlinewidth\": 0, \"ticks\": \"\"}}, \"type\": \"scatter\"}], \"scatter3d\": [{\"line\": {\"colorbar\": {\"outlinewidth\": 0, \"ticks\": \"\"}}, \"marker\": {\"colorbar\": {\"outlinewidth\": 0, \"ticks\": \"\"}}, \"type\": \"scatter3d\"}], \"scattercarpet\": [{\"marker\": {\"colorbar\": {\"outlinewidth\": 0, \"ticks\": \"\"}}, \"type\": \"scattercarpet\"}], \"scattergeo\": [{\"marker\": {\"colorbar\": {\"outlinewidth\": 0, \"ticks\": \"\"}}, \"type\": \"scattergeo\"}], \"scattergl\": [{\"marker\": {\"colorbar\": {\"outlinewidth\": 0, \"ticks\": \"\"}}, \"type\": \"scattergl\"}], \"scattermapbox\": [{\"marker\": {\"colorbar\": {\"outlinewidth\": 0, \"ticks\": \"\"}}, \"type\": \"scattermapbox\"}], \"scatterpolar\": [{\"marker\": {\"colorbar\": {\"outlinewidth\": 0, \"ticks\": \"\"}}, \"type\": \"scatterpolar\"}], \"scatterpolargl\": [{\"marker\": {\"colorbar\": {\"outlinewidth\": 0, \"ticks\": \"\"}}, \"type\": \"scatterpolargl\"}], \"scatterternary\": [{\"marker\": {\"colorbar\": {\"outlinewidth\": 0, \"ticks\": \"\"}}, \"type\": \"scatterternary\"}], \"surface\": [{\"colorbar\": {\"outlinewidth\": 0, \"ticks\": \"\"}, \"colorscale\": [[0.0, \"#0d0887\"], [0.1111111111111111, \"#46039f\"], [0.2222222222222222, \"#7201a8\"], [0.3333333333333333, \"#9c179e\"], [0.4444444444444444, \"#bd3786\"], [0.5555555555555556, \"#d8576b\"], [0.6666666666666666, \"#ed7953\"], [0.7777777777777778, \"#fb9f3a\"], [0.8888888888888888, \"#fdca26\"], [1.0, \"#f0f921\"]], \"type\": \"surface\"}], \"table\": [{\"cells\": {\"fill\": {\"color\": \"#EBF0F8\"}, \"line\": {\"color\": \"white\"}}, \"header\": {\"fill\": {\"color\": \"#C8D4E3\"}, \"line\": {\"color\": \"white\"}}, \"type\": \"table\"}]}, \"layout\": {\"annotationdefaults\": {\"arrowcolor\": \"#2a3f5f\", \"arrowhead\": 0, \"arrowwidth\": 1}, \"coloraxis\": {\"colorbar\": {\"outlinewidth\": 0, \"ticks\": \"\"}}, \"colorscale\": {\"diverging\": [[0, \"#8e0152\"], [0.1, \"#c51b7d\"], [0.2, \"#de77ae\"], [0.3, \"#f1b6da\"], [0.4, \"#fde0ef\"], [0.5, \"#f7f7f7\"], [0.6, \"#e6f5d0\"], [0.7, \"#b8e186\"], [0.8, \"#7fbc41\"], [0.9, \"#4d9221\"], [1, \"#276419\"]], \"sequential\": [[0.0, \"#0d0887\"], [0.1111111111111111, \"#46039f\"], [0.2222222222222222, \"#7201a8\"], [0.3333333333333333, \"#9c179e\"], [0.4444444444444444, \"#bd3786\"], [0.5555555555555556, \"#d8576b\"], [0.6666666666666666, \"#ed7953\"], [0.7777777777777778, \"#fb9f3a\"], [0.8888888888888888, \"#fdca26\"], [1.0, \"#f0f921\"]], \"sequentialminus\": [[0.0, \"#0d0887\"], [0.1111111111111111, \"#46039f\"], [0.2222222222222222, \"#7201a8\"], [0.3333333333333333, \"#9c179e\"], [0.4444444444444444, \"#bd3786\"], [0.5555555555555556, \"#d8576b\"], [0.6666666666666666, \"#ed7953\"], [0.7777777777777778, \"#fb9f3a\"], [0.8888888888888888, \"#fdca26\"], [1.0, \"#f0f921\"]]}, \"colorway\": [\"#636efa\", \"#EF553B\", \"#00cc96\", \"#ab63fa\", \"#FFA15A\", \"#19d3f3\", \"#FF6692\", \"#B6E880\", \"#FF97FF\", \"#FECB52\"], \"font\": {\"color\": \"#2a3f5f\"}, \"geo\": {\"bgcolor\": \"white\", \"lakecolor\": \"white\", \"landcolor\": \"#E5ECF6\", \"showlakes\": true, \"showland\": true, \"subunitcolor\": \"white\"}, \"hoverlabel\": {\"align\": \"left\"}, \"hovermode\": \"closest\", \"mapbox\": {\"style\": \"light\"}, \"paper_bgcolor\": \"white\", \"plot_bgcolor\": \"#E5ECF6\", \"polar\": {\"angularaxis\": {\"gridcolor\": \"white\", \"linecolor\": \"white\", \"ticks\": \"\"}, \"bgcolor\": \"#E5ECF6\", \"radialaxis\": {\"gridcolor\": \"white\", \"linecolor\": \"white\", \"ticks\": \"\"}}, \"scene\": {\"xaxis\": {\"backgroundcolor\": \"#E5ECF6\", \"gridcolor\": \"white\", \"gridwidth\": 2, \"linecolor\": \"white\", \"showbackground\": true, \"ticks\": \"\", \"zerolinecolor\": \"white\"}, \"yaxis\": {\"backgroundcolor\": \"#E5ECF6\", \"gridcolor\": \"white\", \"gridwidth\": 2, \"linecolor\": \"white\", \"showbackground\": true, \"ticks\": \"\", \"zerolinecolor\": \"white\"}, \"zaxis\": {\"backgroundcolor\": \"#E5ECF6\", \"gridcolor\": \"white\", \"gridwidth\": 2, \"linecolor\": \"white\", \"showbackground\": true, \"ticks\": \"\", \"zerolinecolor\": \"white\"}}, \"shapedefaults\": {\"line\": {\"color\": \"#2a3f5f\"}}, \"ternary\": {\"aaxis\": {\"gridcolor\": \"white\", \"linecolor\": \"white\", \"ticks\": \"\"}, \"baxis\": {\"gridcolor\": \"white\", \"linecolor\": \"white\", \"ticks\": \"\"}, \"bgcolor\": \"#E5ECF6\", \"caxis\": {\"gridcolor\": \"white\", \"linecolor\": \"white\", \"ticks\": \"\"}}, \"title\": {\"x\": 0.05}, \"xaxis\": {\"automargin\": true, \"gridcolor\": \"white\", \"linecolor\": \"white\", \"ticks\": \"\", \"title\": {\"standoff\": 15}, \"zerolinecolor\": \"white\", \"zerolinewidth\": 2}, \"yaxis\": {\"automargin\": true, \"gridcolor\": \"white\", \"linecolor\": \"white\", \"ticks\": \"\", \"title\": {\"standoff\": 15}, \"zerolinecolor\": \"white\", \"zerolinewidth\": 2}}}, \"title\": {\"text\": \"Cantril Happiness over time for selected countries\"}, \"xaxis\": {\"anchor\": \"y\", \"domain\": [0.0, 1.0], \"title\": {\"text\": \"Year\"}}, \"yaxis\": {\"anchor\": \"x\", \"domain\": [0.0, 1.0], \"title\": {\"text\": \"Cantril Ladder(0=worst,10=best)\"}}},\n",
       "                        {\"responsive\": true}\n",
       "                    ).then(function(){\n",
       "                            \n",
       "var gd = document.getElementById('06379bbc-6047-4376-badd-ac7eeea444f4');\n",
       "var x = new MutationObserver(function (mutations, observer) {{\n",
       "        var display = window.getComputedStyle(gd).display;\n",
       "        if (!display || display === 'none') {{\n",
       "            console.log([gd, 'removed!']);\n",
       "            Plotly.purge(gd);\n",
       "            observer.disconnect();\n",
       "        }}\n",
       "}});\n",
       "\n",
       "// Listen for the removal of the full notebook cells\n",
       "var notebookContainer = gd.closest('#notebook-container');\n",
       "if (notebookContainer) {{\n",
       "    x.observe(notebookContainer, {childList: true});\n",
       "}}\n",
       "\n",
       "// Listen for the clearing of the current output cell\n",
       "var outputEl = gd.closest('.output');\n",
       "if (outputEl) {{\n",
       "    x.observe(outputEl, {childList: true});\n",
       "}}\n",
       "\n",
       "                        })\n",
       "                };\n",
       "                });\n",
       "            </script>\n",
       "        </div>"
      ]
     },
     "metadata": {},
     "output_type": "display_data"
    }
   ],
   "source": [
    "df = px.data.gapminder() # remove Asia for visibility\n",
    "fig = px.line(Cantril_hap, x=\"Year\", y=\"Cantril Ladder(0=worst,10=best)\", color=\"Entity\",\n",
    "              line_group=\"Entity\", hover_name=\"Entity\",title=\"Cantril Happiness over time for selected countries\")\n",
    "\n",
    "fig.show()"
   ]
  },
  {
   "cell_type": "markdown",
   "metadata": {},
   "source": [
    "## Linear regression function"
   ]
  },
  {
   "cell_type": "code",
   "execution_count": 24,
   "metadata": {
    "ExecuteTime": {
     "end_time": "2020-04-14T03:48:34.305970Z",
     "start_time": "2020-04-14T03:48:34.300227Z"
    }
   },
   "outputs": [],
   "source": [
    "# OPTIONAL: Create a function to create Linear Regression plots\n",
    "def linearregression(x_values,y_values,x_label,y_label,x_annotate,y_annotate):\n",
    "    (slope, intercept, rvalue, pvalue, stderr) = linregress(x_values, y_values)\n",
    "    regress_values = x_values * slope + intercept\n",
    "    line_eq = f\"y = {round(slope,3)}x + {round(intercept,3)}\"\n",
    "    plt.scatter(x_values,y_values)\n",
    "    plt.plot(x_values,regress_values,\"r-\")\n",
    "    plt.annotate(line_eq,(x_annotate,y_annotate),fontsize=15,color=\"red\")\n",
    "    plt.xlabel(x_label)\n",
    "    plt.ylabel(y_label)\n",
    "    plt.xlim(min(x_values)-2,max(x_values)+2)\n",
    "    plt.ylim(min(y_values)-2,max(y_values)+2)\n",
    "#     plt.title(f'{x_label} vs. {y_label}')\n",
    "    print(f\"The r-squared is: {round(rvalue**2,2)}\")\n",
    "    print(line_eq)\n",
    "    plt.show()"
   ]
  },
  {
   "cell_type": "markdown",
   "metadata": {},
   "source": [
    "## Linear Regression of Cantril Happiness and Working Hours "
   ]
  },
  {
   "cell_type": "code",
   "execution_count": 25,
   "metadata": {
    "ExecuteTime": {
     "end_time": "2020-04-14T03:48:34.734234Z",
     "start_time": "2020-04-14T03:48:34.715814Z"
    },
    "scrolled": true
   },
   "outputs": [
    {
     "data": {
      "text/html": [
       "<div>\n",
       "<style scoped>\n",
       "    .dataframe tbody tr th:only-of-type {\n",
       "        vertical-align: middle;\n",
       "    }\n",
       "\n",
       "    .dataframe tbody tr th {\n",
       "        vertical-align: top;\n",
       "    }\n",
       "\n",
       "    .dataframe thead th {\n",
       "        text-align: right;\n",
       "    }\n",
       "</style>\n",
       "<table border=\"1\" class=\"dataframe\">\n",
       "  <thead>\n",
       "    <tr style=\"text-align: right;\">\n",
       "      <th></th>\n",
       "      <th>Entity</th>\n",
       "      <th>Code</th>\n",
       "      <th>Year</th>\n",
       "      <th>Cantril Ladder(0=worst,10=best)</th>\n",
       "      <th>Work hours per persons engaged</th>\n",
       "    </tr>\n",
       "  </thead>\n",
       "  <tbody>\n",
       "    <tr>\n",
       "      <th>0</th>\n",
       "      <td>Australia</td>\n",
       "      <td>AUS</td>\n",
       "      <td>2005</td>\n",
       "      <td>7.340688</td>\n",
       "      <td>1803.0101</td>\n",
       "    </tr>\n",
       "    <tr>\n",
       "      <th>1</th>\n",
       "      <td>Australia</td>\n",
       "      <td>AUS</td>\n",
       "      <td>2007</td>\n",
       "      <td>7.285391</td>\n",
       "      <td>1792.6515</td>\n",
       "    </tr>\n",
       "    <tr>\n",
       "      <th>2</th>\n",
       "      <td>Australia</td>\n",
       "      <td>AUS</td>\n",
       "      <td>2008</td>\n",
       "      <td>7.253757</td>\n",
       "      <td>1790.5400</td>\n",
       "    </tr>\n",
       "    <tr>\n",
       "      <th>3</th>\n",
       "      <td>Australia</td>\n",
       "      <td>AUS</td>\n",
       "      <td>2010</td>\n",
       "      <td>7.450047</td>\n",
       "      <td>1769.3094</td>\n",
       "    </tr>\n",
       "    <tr>\n",
       "      <th>4</th>\n",
       "      <td>Australia</td>\n",
       "      <td>AUS</td>\n",
       "      <td>2011</td>\n",
       "      <td>7.405616</td>\n",
       "      <td>1768.6494</td>\n",
       "    </tr>\n",
       "    <tr>\n",
       "      <th>...</th>\n",
       "      <td>...</td>\n",
       "      <td>...</td>\n",
       "      <td>...</td>\n",
       "      <td>...</td>\n",
       "      <td>...</td>\n",
       "    </tr>\n",
       "    <tr>\n",
       "      <th>121</th>\n",
       "      <td>United States</td>\n",
       "      <td>USA</td>\n",
       "      <td>2015</td>\n",
       "      <td>6.863947</td>\n",
       "      <td>1765.1826</td>\n",
       "    </tr>\n",
       "    <tr>\n",
       "      <th>122</th>\n",
       "      <td>United States</td>\n",
       "      <td>USA</td>\n",
       "      <td>2016</td>\n",
       "      <td>6.803600</td>\n",
       "      <td>1760.7960</td>\n",
       "    </tr>\n",
       "    <tr>\n",
       "      <th>123</th>\n",
       "      <td>United States</td>\n",
       "      <td>USA</td>\n",
       "      <td>2017</td>\n",
       "      <td>6.991759</td>\n",
       "      <td>1757.2255</td>\n",
       "    </tr>\n",
       "    <tr>\n",
       "      <th>124</th>\n",
       "      <td>Venezuela</td>\n",
       "      <td>VEN</td>\n",
       "      <td>2005</td>\n",
       "      <td>7.169621</td>\n",
       "      <td>1922.8501</td>\n",
       "    </tr>\n",
       "    <tr>\n",
       "      <th>125</th>\n",
       "      <td>Venezuela</td>\n",
       "      <td>VEN</td>\n",
       "      <td>2006</td>\n",
       "      <td>6.525146</td>\n",
       "      <td>1903.8516</td>\n",
       "    </tr>\n",
       "  </tbody>\n",
       "</table>\n",
       "<p>126 rows × 5 columns</p>\n",
       "</div>"
      ],
      "text/plain": [
       "            Entity Code  Year  Cantril Ladder(0=worst,10=best)  \\\n",
       "0        Australia  AUS  2005                         7.340688   \n",
       "1        Australia  AUS  2007                         7.285391   \n",
       "2        Australia  AUS  2008                         7.253757   \n",
       "3        Australia  AUS  2010                         7.450047   \n",
       "4        Australia  AUS  2011                         7.405616   \n",
       "..             ...  ...   ...                              ...   \n",
       "121  United States  USA  2015                         6.863947   \n",
       "122  United States  USA  2016                         6.803600   \n",
       "123  United States  USA  2017                         6.991759   \n",
       "124      Venezuela  VEN  2005                         7.169621   \n",
       "125      Venezuela  VEN  2006                         6.525146   \n",
       "\n",
       "     Work hours per persons engaged  \n",
       "0                         1803.0101  \n",
       "1                         1792.6515  \n",
       "2                         1790.5400  \n",
       "3                         1769.3094  \n",
       "4                         1768.6494  \n",
       "..                              ...  \n",
       "121                       1765.1826  \n",
       "122                       1760.7960  \n",
       "123                       1757.2255  \n",
       "124                       1922.8501  \n",
       "125                       1903.8516  \n",
       "\n",
       "[126 rows x 5 columns]"
      ]
     },
     "execution_count": 25,
     "metadata": {},
     "output_type": "execute_result"
    }
   ],
   "source": [
    "merged_df = pd.merge(Cantril_hap,productivity_df)\n",
    "del merged_df[\"Productivity\"]\n",
    "merged_df"
   ]
  },
  {
   "cell_type": "code",
   "execution_count": 31,
   "metadata": {
    "ExecuteTime": {
     "end_time": "2020-04-14T03:48:54.410931Z",
     "start_time": "2020-04-14T03:48:54.261098Z"
    }
   },
   "outputs": [
    {
     "name": "stdout",
     "output_type": "stream",
     "text": [
      "The r-squared is: 0.41\n",
      "y = -0.003x + 11.617\n"
     ]
    },
    {
     "data": {
      "image/png": "[encoded data removed]",
      "text/plain": [
       "<Figure size 432x288 with 1 Axes>"
      ]
     },
     "metadata": {
      "needs_background": "light"
     },
     "output_type": "display_data"
    }
   ],
   "source": [
    "#Assigning axis data and labels\n",
    "x_data = merged_df[\"Work hours per persons engaged\"]\n",
    "y_data = merged_df[\"Cantril Ladder(0=worst,10=best)\"]\n",
    "x_label = \"Work hours per persons engaged\"\n",
    "y_label = \"Cantril Ladder(0=worst,10=best)\"\n",
    "\n",
    "plt.title(\"Working hours vs Cantril Ladder Happiness\")\n",
    "\n",
    "#Using the linear regression function defined above\n",
    "linearregression(x_data,y_data,x_label,y_label,1700,2)\n",
    "\n"
   ]
  },
  {
   "cell_type": "code",
   "execution_count": 27,
   "metadata": {
    "ExecuteTime": {
     "end_time": "2020-04-14T03:48:35.456489Z",
     "start_time": "2020-04-14T03:48:35.225346Z"
    }
   },
   "outputs": [
    {
     "data": {
      "image/png": "[encoded data removed]",
      "text/plain": [
       "<Figure size 432x288 with 1 Axes>"
      ]
     },
     "metadata": {
      "needs_background": "light"
     },
     "output_type": "display_data"
    }
   ],
   "source": [
    "sns.scatterplot(data=merged_df, x='Work hours per persons engaged', y='Cantril Ladder(0=worst,10=best)', hue='Code',legend='full')\n",
    "\n",
    "plt.title(\"Working hours vs Cantril Ladder Happiness\")\n",
    "plt.legend(loc=\"center left\", bbox_to_anchor=(1,.5))\n",
    "plt.show()\n"
   ]
  },
  {
   "cell_type": "markdown",
   "metadata": {},
   "source": [
    "##  Linear Regression of Mental Health and Working Hours"
   ]
  },
  {
   "cell_type": "code",
   "execution_count": 28,
   "metadata": {
    "ExecuteTime": {
     "end_time": "2020-04-14T03:48:35.660606Z",
     "start_time": "2020-04-14T03:48:35.641377Z"
    }
   },
   "outputs": [
    {
     "data": {
      "text/html": [
       "<div>\n",
       "<style scoped>\n",
       "    .dataframe tbody tr th:only-of-type {\n",
       "        vertical-align: middle;\n",
       "    }\n",
       "\n",
       "    .dataframe tbody tr th {\n",
       "        vertical-align: top;\n",
       "    }\n",
       "\n",
       "    .dataframe thead th {\n",
       "        text-align: right;\n",
       "    }\n",
       "</style>\n",
       "<table border=\"1\" class=\"dataframe\">\n",
       "  <thead>\n",
       "    <tr style=\"text-align: right;\">\n",
       "      <th></th>\n",
       "      <th>Entity</th>\n",
       "      <th>Code</th>\n",
       "      <th>Year</th>\n",
       "      <th>Prevalence - Mental and substance use disorders - Sex: Both - Age: Age-standardized (Percent) (%)</th>\n",
       "      <th>Work hours per persons engaged</th>\n",
       "      <th>Productivity</th>\n",
       "    </tr>\n",
       "  </thead>\n",
       "  <tbody>\n",
       "    <tr>\n",
       "      <th>0</th>\n",
       "      <td>Australia</td>\n",
       "      <td>AUS</td>\n",
       "      <td>1990</td>\n",
       "      <td>18.077892</td>\n",
       "      <td>1867.9515</td>\n",
       "      <td>31.074718</td>\n",
       "    </tr>\n",
       "    <tr>\n",
       "      <th>1</th>\n",
       "      <td>Australia</td>\n",
       "      <td>AUS</td>\n",
       "      <td>1991</td>\n",
       "      <td>18.140260</td>\n",
       "      <td>1853.8984</td>\n",
       "      <td>31.922300</td>\n",
       "    </tr>\n",
       "    <tr>\n",
       "      <th>2</th>\n",
       "      <td>Australia</td>\n",
       "      <td>AUS</td>\n",
       "      <td>1992</td>\n",
       "      <td>18.195549</td>\n",
       "      <td>1851.8408</td>\n",
       "      <td>33.419811</td>\n",
       "    </tr>\n",
       "    <tr>\n",
       "      <th>3</th>\n",
       "      <td>Australia</td>\n",
       "      <td>AUS</td>\n",
       "      <td>1993</td>\n",
       "      <td>18.246135</td>\n",
       "      <td>1869.6207</td>\n",
       "      <td>34.155190</td>\n",
       "    </tr>\n",
       "    <tr>\n",
       "      <th>4</th>\n",
       "      <td>Australia</td>\n",
       "      <td>AUS</td>\n",
       "      <td>1994</td>\n",
       "      <td>18.279663</td>\n",
       "      <td>1877.7278</td>\n",
       "      <td>34.381001</td>\n",
       "    </tr>\n",
       "    <tr>\n",
       "      <th>...</th>\n",
       "      <td>...</td>\n",
       "      <td>...</td>\n",
       "      <td>...</td>\n",
       "      <td>...</td>\n",
       "      <td>...</td>\n",
       "      <td>...</td>\n",
       "    </tr>\n",
       "    <tr>\n",
       "      <th>284</th>\n",
       "      <td>Venezuela</td>\n",
       "      <td>VEN</td>\n",
       "      <td>2002</td>\n",
       "      <td>11.032860</td>\n",
       "      <td>1829.0203</td>\n",
       "      <td>9.460864</td>\n",
       "    </tr>\n",
       "    <tr>\n",
       "      <th>285</th>\n",
       "      <td>Venezuela</td>\n",
       "      <td>VEN</td>\n",
       "      <td>2003</td>\n",
       "      <td>11.024864</td>\n",
       "      <td>1801.2109</td>\n",
       "      <td>9.292365</td>\n",
       "    </tr>\n",
       "    <tr>\n",
       "      <th>286</th>\n",
       "      <td>Venezuela</td>\n",
       "      <td>VEN</td>\n",
       "      <td>2004</td>\n",
       "      <td>11.025445</td>\n",
       "      <td>1896.6949</td>\n",
       "      <td>10.846614</td>\n",
       "    </tr>\n",
       "    <tr>\n",
       "      <th>287</th>\n",
       "      <td>Venezuela</td>\n",
       "      <td>VEN</td>\n",
       "      <td>2005</td>\n",
       "      <td>11.025877</td>\n",
       "      <td>1922.8501</td>\n",
       "      <td>13.346090</td>\n",
       "    </tr>\n",
       "    <tr>\n",
       "      <th>288</th>\n",
       "      <td>Venezuela</td>\n",
       "      <td>VEN</td>\n",
       "      <td>2006</td>\n",
       "      <td>11.032028</td>\n",
       "      <td>1903.8516</td>\n",
       "      <td>15.282747</td>\n",
       "    </tr>\n",
       "  </tbody>\n",
       "</table>\n",
       "<p>289 rows × 6 columns</p>\n",
       "</div>"
      ],
      "text/plain": [
       "        Entity Code  Year  \\\n",
       "0    Australia  AUS  1990   \n",
       "1    Australia  AUS  1991   \n",
       "2    Australia  AUS  1992   \n",
       "3    Australia  AUS  1993   \n",
       "4    Australia  AUS  1994   \n",
       "..         ...  ...   ...   \n",
       "284  Venezuela  VEN  2002   \n",
       "285  Venezuela  VEN  2003   \n",
       "286  Venezuela  VEN  2004   \n",
       "287  Venezuela  VEN  2005   \n",
       "288  Venezuela  VEN  2006   \n",
       "\n",
       "     Prevalence - Mental and substance use disorders - Sex: Both - Age: Age-standardized (Percent) (%)  \\\n",
       "0                                            18.077892                                                   \n",
       "1                                            18.140260                                                   \n",
       "2                                            18.195549                                                   \n",
       "3                                            18.246135                                                   \n",
       "4                                            18.279663                                                   \n",
       "..                                                 ...                                                   \n",
       "284                                          11.032860                                                   \n",
       "285                                          11.024864                                                   \n",
       "286                                          11.025445                                                   \n",
       "287                                          11.025877                                                   \n",
       "288                                          11.032028                                                   \n",
       "\n",
       "     Work hours per persons engaged  Productivity  \n",
       "0                         1867.9515     31.074718  \n",
       "1                         1853.8984     31.922300  \n",
       "2                         1851.8408     33.419811  \n",
       "3                         1869.6207     34.155190  \n",
       "4                         1877.7278     34.381001  \n",
       "..                              ...           ...  \n",
       "284                       1829.0203      9.460864  \n",
       "285                       1801.2109      9.292365  \n",
       "286                       1896.6949     10.846614  \n",
       "287                       1922.8501     13.346090  \n",
       "288                       1903.8516     15.282747  \n",
       "\n",
       "[289 rows x 6 columns]"
      ]
     },
     "execution_count": 28,
     "metadata": {},
     "output_type": "execute_result"
    }
   ],
   "source": [
    "mental_product_merged_df = pd.merge(mental_health_df,productivity_df)\n",
    "mental_product_merged_df"
   ]
  },
  {
   "cell_type": "code",
   "execution_count": 29,
   "metadata": {
    "ExecuteTime": {
     "end_time": "2020-04-14T03:48:35.968818Z",
     "start_time": "2020-04-14T03:48:35.821877Z"
    }
   },
   "outputs": [
    {
     "name": "stdout",
     "output_type": "stream",
     "text": [
      "The r-squared is: 0.46\n",
      "y = -0.007x + 28.062\n"
     ]
    },
    {
     "data": {
      "image/png": "[encoded data removed]",
      "text/plain": [
       "<Figure size 432x288 with 1 Axes>"
      ]
     },
     "metadata": {
      "needs_background": "light"
     },
     "output_type": "display_data"
    }
   ],
   "source": [
    "#Assigning axis data and labels\n",
    "x_data = mental_product_merged_df[\"Work hours per persons engaged\"]\n",
    "y_data = mental_product_merged_df[\"Prevalence - Mental and substance use disorders - Sex: Both - Age: Age-standardized (Percent) (%)\"]\n",
    "x_label = \"Working hours per persons engaged\"\n",
    "y_label = \"Mental and Substance Use Disorders (%)\"\n",
    "plt.title(\"Working hours vs Mental and substance use disorders\")\n",
    "\n",
    "#Using the linear regression function defined above\n",
    "linearregression(x_data,y_data,x_label,y_label,2100,18)"
   ]
  },
  {
   "cell_type": "code",
   "execution_count": 30,
   "metadata": {
    "ExecuteTime": {
     "end_time": "2020-04-14T03:48:36.243493Z",
     "start_time": "2020-04-14T03:48:36.015903Z"
    }
   },
   "outputs": [
    {
     "data": {
      "image/png": "[encoded data removed]",
      "text/plain": [
       "<Figure size 432x288 with 1 Axes>"
      ]
     },
     "metadata": {
      "needs_background": "light"
     },
     "output_type": "display_data"
    }
   ],
   "source": [
    "sns.scatterplot(data=mental_product_merged_df, x='Work hours per persons engaged', y='Prevalence - Mental and substance use disorders - Sex: Both - Age: Age-standardized (Percent) (%)', hue='Code',legend='full')\n",
    "\n",
    "plt.title(\"Working hours vs Mental and substance use disorders\")\n",
    "plt.ylabel(\"Mental and substance use disorder (%)\")\n",
    "plt.legend(loc=\"center left\", bbox_to_anchor=(1,.5))\n",
    "plt.show()\n"
   ]
  },
  {
   "cell_type": "code",
   "execution_count": null,
   "metadata": {},
   "outputs": [],
   "source": []
  }
 ],
 "metadata": {
  "kernelspec": {
   "display_name": "Python 3",
   "language": "python",
   "name": "python3"
  },
  "language_info": {
   "codemirror_mode": {
    "name": "ipython",
    "version": 3
   },
   "file_extension": ".py",
   "mimetype": "text/x-python",
   "name": "python",
   "nbconvert_exporter": "python",
   "pygments_lexer": "ipython3",
   "version": "3.6.10"
  }
 },
 "nbformat": 4,
 "nbformat_minor": 4
}
