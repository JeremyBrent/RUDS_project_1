{
 "cells": [
  {
   "cell_type": "code",
   "execution_count": 1,
   "metadata": {},
   "outputs": [],
   "source": [
    "import pandas as pd\n",
    "import matplotlib.pyplot as plt\n",
    "import numpy as np\n",
    "%matplotlib notebook"
   ]
  },
  {
   "cell_type": "code",
   "execution_count": null,
   "metadata": {},
   "outputs": [],
   "source": []
  },
  {
   "cell_type": "code",
   "execution_count": 2,
   "metadata": {},
   "outputs": [],
   "source": [
    "#Read CSV file\n",
    "gdp_vs_happy = pd.read_csv(\"Data/GDP_v_satisfaction/gdp_vs_happiness.csv\")\n",
    "working_hrs = pd.read_csv('Data/Working_hours/annual_working_hours.csv')\n"
   ]
  },
  {
   "cell_type": "code",
   "execution_count": 3,
   "metadata": {},
   "outputs": [],
   "source": [
    "gdp_vs_happy[\"Year\"] = pd.to_numeric(gdp_vs_happy['Year'],errors='coerce')\n",
    "# replaces all NaNs with zeros to be filtered out\n",
    "gdp_vs_happy = gdp_vs_happy.replace(np.nan,0,regex=True)"
   ]
  },
  {
   "cell_type": "code",
   "execution_count": 4,
   "metadata": {},
   "outputs": [],
   "source": [
    "gdp_vs_happy['Year']= gdp_vs_happy['Year'].astype(int)\n",
    "working_hrs['Year']= working_hrs['Year'].astype(int)\n"
   ]
  },
  {
   "cell_type": "code",
   "execution_count": 5,
   "metadata": {},
   "outputs": [
    {
     "data": {
      "text/html": [
       "<div>\n",
       "<style scoped>\n",
       "    .dataframe tbody tr th:only-of-type {\n",
       "        vertical-align: middle;\n",
       "    }\n",
       "\n",
       "    .dataframe tbody tr th {\n",
       "        vertical-align: top;\n",
       "    }\n",
       "\n",
       "    .dataframe thead th {\n",
       "        text-align: right;\n",
       "    }\n",
       "</style>\n",
       "<table border=\"1\" class=\"dataframe\">\n",
       "  <thead>\n",
       "    <tr style=\"text-align: right;\">\n",
       "      <th></th>\n",
       "      <th>Entity</th>\n",
       "      <th>Code_x</th>\n",
       "      <th>Year</th>\n",
       "      <th>GDP per capita (constant 2011 international $)</th>\n",
       "      <th>Life satisfaction (country average; 0-10) (Cantril Ladder (0=worst; 10=best))</th>\n",
       "      <th>Unnamed: 5</th>\n",
       "      <th>Code_y</th>\n",
       "      <th>Average annual hours worked by persons engaged (hours per person engaged)</th>\n",
       "    </tr>\n",
       "  </thead>\n",
       "  <tbody>\n",
       "    <tr>\n",
       "      <td>0</td>\n",
       "      <td>Argentina</td>\n",
       "      <td>ARG</td>\n",
       "      <td>1950</td>\n",
       "      <td>0.000000</td>\n",
       "      <td>0.000000</td>\n",
       "      <td>17038000.0</td>\n",
       "      <td>ARG</td>\n",
       "      <td>2034.0000</td>\n",
       "    </tr>\n",
       "    <tr>\n",
       "      <td>1</td>\n",
       "      <td>Argentina</td>\n",
       "      <td>ARG</td>\n",
       "      <td>1951</td>\n",
       "      <td>0.000000</td>\n",
       "      <td>0.000000</td>\n",
       "      <td>17390000.0</td>\n",
       "      <td>ARG</td>\n",
       "      <td>2037.8667</td>\n",
       "    </tr>\n",
       "    <tr>\n",
       "      <td>2</td>\n",
       "      <td>Argentina</td>\n",
       "      <td>ARG</td>\n",
       "      <td>1952</td>\n",
       "      <td>0.000000</td>\n",
       "      <td>0.000000</td>\n",
       "      <td>17743000.0</td>\n",
       "      <td>ARG</td>\n",
       "      <td>2041.7408</td>\n",
       "    </tr>\n",
       "    <tr>\n",
       "      <td>3</td>\n",
       "      <td>Argentina</td>\n",
       "      <td>ARG</td>\n",
       "      <td>1953</td>\n",
       "      <td>0.000000</td>\n",
       "      <td>0.000000</td>\n",
       "      <td>18094000.0</td>\n",
       "      <td>ARG</td>\n",
       "      <td>2045.6223</td>\n",
       "    </tr>\n",
       "    <tr>\n",
       "      <td>4</td>\n",
       "      <td>Argentina</td>\n",
       "      <td>ARG</td>\n",
       "      <td>1954</td>\n",
       "      <td>0.000000</td>\n",
       "      <td>0.000000</td>\n",
       "      <td>18443000.0</td>\n",
       "      <td>ARG</td>\n",
       "      <td>2049.5112</td>\n",
       "    </tr>\n",
       "    <tr>\n",
       "      <td>...</td>\n",
       "      <td>...</td>\n",
       "      <td>...</td>\n",
       "      <td>...</td>\n",
       "      <td>...</td>\n",
       "      <td>...</td>\n",
       "      <td>...</td>\n",
       "      <td>...</td>\n",
       "      <td>...</td>\n",
       "    </tr>\n",
       "    <tr>\n",
       "      <td>3368</td>\n",
       "      <td>Vietnam</td>\n",
       "      <td>VNM</td>\n",
       "      <td>2013</td>\n",
       "      <td>5024.438902</td>\n",
       "      <td>5.022699</td>\n",
       "      <td>90753000.0</td>\n",
       "      <td>VNM</td>\n",
       "      <td>2267.4883</td>\n",
       "    </tr>\n",
       "    <tr>\n",
       "      <td>3369</td>\n",
       "      <td>Vietnam</td>\n",
       "      <td>VNM</td>\n",
       "      <td>2014</td>\n",
       "      <td>5264.828100</td>\n",
       "      <td>5.084923</td>\n",
       "      <td>91714000.0</td>\n",
       "      <td>VNM</td>\n",
       "      <td>2150.6357</td>\n",
       "    </tr>\n",
       "    <tr>\n",
       "      <td>3370</td>\n",
       "      <td>Vietnam</td>\n",
       "      <td>VNM</td>\n",
       "      <td>2015</td>\n",
       "      <td>5554.858056</td>\n",
       "      <td>5.076315</td>\n",
       "      <td>92677000.0</td>\n",
       "      <td>VNM</td>\n",
       "      <td>2169.5916</td>\n",
       "    </tr>\n",
       "    <tr>\n",
       "      <td>3371</td>\n",
       "      <td>Vietnam</td>\n",
       "      <td>VNM</td>\n",
       "      <td>2016</td>\n",
       "      <td>5837.628704</td>\n",
       "      <td>5.062267</td>\n",
       "      <td>93640000.0</td>\n",
       "      <td>VNM</td>\n",
       "      <td>2169.5916</td>\n",
       "    </tr>\n",
       "    <tr>\n",
       "      <td>3372</td>\n",
       "      <td>Vietnam</td>\n",
       "      <td>VNM</td>\n",
       "      <td>2017</td>\n",
       "      <td>6171.884192</td>\n",
       "      <td>5.175279</td>\n",
       "      <td>94601000.0</td>\n",
       "      <td>VNM</td>\n",
       "      <td>2169.5916</td>\n",
       "    </tr>\n",
       "  </tbody>\n",
       "</table>\n",
       "<p>3373 rows × 8 columns</p>\n",
       "</div>"
      ],
      "text/plain": [
       "         Entity Code_x  Year  GDP per capita (constant 2011 international $)  \\\n",
       "0     Argentina    ARG  1950                                        0.000000   \n",
       "1     Argentina    ARG  1951                                        0.000000   \n",
       "2     Argentina    ARG  1952                                        0.000000   \n",
       "3     Argentina    ARG  1953                                        0.000000   \n",
       "4     Argentina    ARG  1954                                        0.000000   \n",
       "...         ...    ...   ...                                             ...   \n",
       "3368    Vietnam    VNM  2013                                     5024.438902   \n",
       "3369    Vietnam    VNM  2014                                     5264.828100   \n",
       "3370    Vietnam    VNM  2015                                     5554.858056   \n",
       "3371    Vietnam    VNM  2016                                     5837.628704   \n",
       "3372    Vietnam    VNM  2017                                     6171.884192   \n",
       "\n",
       "       Life satisfaction (country average; 0-10) (Cantril Ladder (0=worst; 10=best))  \\\n",
       "0                                              0.000000                                \n",
       "1                                              0.000000                                \n",
       "2                                              0.000000                                \n",
       "3                                              0.000000                                \n",
       "4                                              0.000000                                \n",
       "...                                                 ...                                \n",
       "3368                                           5.022699                                \n",
       "3369                                           5.084923                                \n",
       "3370                                           5.076315                                \n",
       "3371                                           5.062267                                \n",
       "3372                                           5.175279                                \n",
       "\n",
       "      Unnamed: 5 Code_y  \\\n",
       "0     17038000.0    ARG   \n",
       "1     17390000.0    ARG   \n",
       "2     17743000.0    ARG   \n",
       "3     18094000.0    ARG   \n",
       "4     18443000.0    ARG   \n",
       "...          ...    ...   \n",
       "3368  90753000.0    VNM   \n",
       "3369  91714000.0    VNM   \n",
       "3370  92677000.0    VNM   \n",
       "3371  93640000.0    VNM   \n",
       "3372  94601000.0    VNM   \n",
       "\n",
       "      Average annual hours worked by persons engaged (hours per person engaged)  \n",
       "0                                             2034.0000                          \n",
       "1                                             2037.8667                          \n",
       "2                                             2041.7408                          \n",
       "3                                             2045.6223                          \n",
       "4                                             2049.5112                          \n",
       "...                                                 ...                          \n",
       "3368                                          2267.4883                          \n",
       "3369                                          2150.6357                          \n",
       "3370                                          2169.5916                          \n",
       "3371                                          2169.5916                          \n",
       "3372                                          2169.5916                          \n",
       "\n",
       "[3373 rows x 8 columns]"
      ]
     },
     "execution_count": 5,
     "metadata": {},
     "output_type": "execute_result"
    }
   ],
   "source": [
    "combined_df = pd.merge(gdp_vs_happy, working_hrs, on=[\"Entity\",\"Year\"])\n",
    "combined_df"
   ]
  },
  {
   "cell_type": "code",
   "execution_count": 7,
   "metadata": {},
   "outputs": [
    {
     "data": {
      "text/html": [
       "<div>\n",
       "<style scoped>\n",
       "    .dataframe tbody tr th:only-of-type {\n",
       "        vertical-align: middle;\n",
       "    }\n",
       "\n",
       "    .dataframe tbody tr th {\n",
       "        vertical-align: top;\n",
       "    }\n",
       "\n",
       "    .dataframe thead th {\n",
       "        text-align: right;\n",
       "    }\n",
       "</style>\n",
       "<table border=\"1\" class=\"dataframe\">\n",
       "  <thead>\n",
       "    <tr style=\"text-align: right;\">\n",
       "      <th></th>\n",
       "      <th>Country</th>\n",
       "      <th>Year</th>\n",
       "      <th>GDP Per Capita</th>\n",
       "      <th>Life Satisfaction 0-10</th>\n",
       "      <th>Population</th>\n",
       "      <th>Hours Worked</th>\n",
       "    </tr>\n",
       "  </thead>\n",
       "  <tbody>\n",
       "    <tr>\n",
       "      <td>0</td>\n",
       "      <td>Argentina</td>\n",
       "      <td>1950</td>\n",
       "      <td>0.000000</td>\n",
       "      <td>0.000000</td>\n",
       "      <td>17038000.0</td>\n",
       "      <td>2034.0000</td>\n",
       "    </tr>\n",
       "    <tr>\n",
       "      <td>1</td>\n",
       "      <td>Argentina</td>\n",
       "      <td>1951</td>\n",
       "      <td>0.000000</td>\n",
       "      <td>0.000000</td>\n",
       "      <td>17390000.0</td>\n",
       "      <td>2037.8667</td>\n",
       "    </tr>\n",
       "    <tr>\n",
       "      <td>2</td>\n",
       "      <td>Argentina</td>\n",
       "      <td>1952</td>\n",
       "      <td>0.000000</td>\n",
       "      <td>0.000000</td>\n",
       "      <td>17743000.0</td>\n",
       "      <td>2041.7408</td>\n",
       "    </tr>\n",
       "    <tr>\n",
       "      <td>3</td>\n",
       "      <td>Argentina</td>\n",
       "      <td>1953</td>\n",
       "      <td>0.000000</td>\n",
       "      <td>0.000000</td>\n",
       "      <td>18094000.0</td>\n",
       "      <td>2045.6223</td>\n",
       "    </tr>\n",
       "    <tr>\n",
       "      <td>4</td>\n",
       "      <td>Argentina</td>\n",
       "      <td>1954</td>\n",
       "      <td>0.000000</td>\n",
       "      <td>0.000000</td>\n",
       "      <td>18443000.0</td>\n",
       "      <td>2049.5112</td>\n",
       "    </tr>\n",
       "    <tr>\n",
       "      <td>...</td>\n",
       "      <td>...</td>\n",
       "      <td>...</td>\n",
       "      <td>...</td>\n",
       "      <td>...</td>\n",
       "      <td>...</td>\n",
       "      <td>...</td>\n",
       "    </tr>\n",
       "    <tr>\n",
       "      <td>3368</td>\n",
       "      <td>Vietnam</td>\n",
       "      <td>2013</td>\n",
       "      <td>5024.438902</td>\n",
       "      <td>5.022699</td>\n",
       "      <td>90753000.0</td>\n",
       "      <td>2267.4883</td>\n",
       "    </tr>\n",
       "    <tr>\n",
       "      <td>3369</td>\n",
       "      <td>Vietnam</td>\n",
       "      <td>2014</td>\n",
       "      <td>5264.828100</td>\n",
       "      <td>5.084923</td>\n",
       "      <td>91714000.0</td>\n",
       "      <td>2150.6357</td>\n",
       "    </tr>\n",
       "    <tr>\n",
       "      <td>3370</td>\n",
       "      <td>Vietnam</td>\n",
       "      <td>2015</td>\n",
       "      <td>5554.858056</td>\n",
       "      <td>5.076315</td>\n",
       "      <td>92677000.0</td>\n",
       "      <td>2169.5916</td>\n",
       "    </tr>\n",
       "    <tr>\n",
       "      <td>3371</td>\n",
       "      <td>Vietnam</td>\n",
       "      <td>2016</td>\n",
       "      <td>5837.628704</td>\n",
       "      <td>5.062267</td>\n",
       "      <td>93640000.0</td>\n",
       "      <td>2169.5916</td>\n",
       "    </tr>\n",
       "    <tr>\n",
       "      <td>3372</td>\n",
       "      <td>Vietnam</td>\n",
       "      <td>2017</td>\n",
       "      <td>6171.884192</td>\n",
       "      <td>5.175279</td>\n",
       "      <td>94601000.0</td>\n",
       "      <td>2169.5916</td>\n",
       "    </tr>\n",
       "  </tbody>\n",
       "</table>\n",
       "<p>3373 rows × 6 columns</p>\n",
       "</div>"
      ],
      "text/plain": [
       "        Country  Year  GDP Per Capita  Life Satisfaction 0-10  Population  \\\n",
       "0     Argentina  1950        0.000000                0.000000  17038000.0   \n",
       "1     Argentina  1951        0.000000                0.000000  17390000.0   \n",
       "2     Argentina  1952        0.000000                0.000000  17743000.0   \n",
       "3     Argentina  1953        0.000000                0.000000  18094000.0   \n",
       "4     Argentina  1954        0.000000                0.000000  18443000.0   \n",
       "...         ...   ...             ...                     ...         ...   \n",
       "3368    Vietnam  2013     5024.438902                5.022699  90753000.0   \n",
       "3369    Vietnam  2014     5264.828100                5.084923  91714000.0   \n",
       "3370    Vietnam  2015     5554.858056                5.076315  92677000.0   \n",
       "3371    Vietnam  2016     5837.628704                5.062267  93640000.0   \n",
       "3372    Vietnam  2017     6171.884192                5.175279  94601000.0   \n",
       "\n",
       "      Hours Worked  \n",
       "0        2034.0000  \n",
       "1        2037.8667  \n",
       "2        2041.7408  \n",
       "3        2045.6223  \n",
       "4        2049.5112  \n",
       "...            ...  \n",
       "3368     2267.4883  \n",
       "3369     2150.6357  \n",
       "3370     2169.5916  \n",
       "3371     2169.5916  \n",
       "3372     2169.5916  \n",
       "\n",
       "[3373 rows x 6 columns]"
      ]
     },
     "execution_count": 7,
     "metadata": {},
     "output_type": "execute_result"
    }
   ],
   "source": [
    "#Rename colums to make shorter\n",
    "gdp_df = combined_df.rename(columns={'Entity': 'Country','GDP per capita (constant 2011 international $)': 'GDP Per Capita',' Life satisfaction (country average; 0-10) (Cantril Ladder (0=worst; 10=best))': 'Life Satisfaction 0-10', 'Year_x': 'Year', 'Average annual hours worked by persons engaged (hours per person engaged)' : 'Hours Worked', 'Unnamed: 5': 'Population'})\n",
    "del gdp_df['Code_y']\n",
    "del gdp_df['Code_x']\n",
    "#del combined_df['GDP Per Capita']\n",
    "gdp_df"
   ]
  },
  {
   "cell_type": "code",
   "execution_count": 8,
   "metadata": {},
   "outputs": [
    {
     "data": {
      "text/html": [
       "<div>\n",
       "<style scoped>\n",
       "    .dataframe tbody tr th:only-of-type {\n",
       "        vertical-align: middle;\n",
       "    }\n",
       "\n",
       "    .dataframe tbody tr th {\n",
       "        vertical-align: top;\n",
       "    }\n",
       "\n",
       "    .dataframe thead th {\n",
       "        text-align: right;\n",
       "    }\n",
       "</style>\n",
       "<table border=\"1\" class=\"dataframe\">\n",
       "  <thead>\n",
       "    <tr style=\"text-align: right;\">\n",
       "      <th></th>\n",
       "      <th>Country</th>\n",
       "      <th>Year</th>\n",
       "      <th>GDP Per Capita</th>\n",
       "      <th>Life Satisfaction 0-10</th>\n",
       "      <th>Population</th>\n",
       "      <th>Hours Worked</th>\n",
       "    </tr>\n",
       "  </thead>\n",
       "  <tbody>\n",
       "    <tr>\n",
       "      <td>68</td>\n",
       "      <td>Australia</td>\n",
       "      <td>1950</td>\n",
       "      <td>0.0</td>\n",
       "      <td>0.0</td>\n",
       "      <td>8177000.0</td>\n",
       "      <td>2178.2456</td>\n",
       "    </tr>\n",
       "    <tr>\n",
       "      <td>69</td>\n",
       "      <td>Australia</td>\n",
       "      <td>1951</td>\n",
       "      <td>0.0</td>\n",
       "      <td>0.0</td>\n",
       "      <td>8398000.0</td>\n",
       "      <td>2158.1013</td>\n",
       "    </tr>\n",
       "    <tr>\n",
       "      <td>70</td>\n",
       "      <td>Australia</td>\n",
       "      <td>1952</td>\n",
       "      <td>0.0</td>\n",
       "      <td>0.0</td>\n",
       "      <td>8595000.0</td>\n",
       "      <td>2138.1436</td>\n",
       "    </tr>\n",
       "    <tr>\n",
       "      <td>71</td>\n",
       "      <td>Australia</td>\n",
       "      <td>1953</td>\n",
       "      <td>0.0</td>\n",
       "      <td>0.0</td>\n",
       "      <td>8782000.0</td>\n",
       "      <td>2118.3701</td>\n",
       "    </tr>\n",
       "    <tr>\n",
       "      <td>72</td>\n",
       "      <td>Australia</td>\n",
       "      <td>1954</td>\n",
       "      <td>0.0</td>\n",
       "      <td>0.0</td>\n",
       "      <td>8970000.0</td>\n",
       "      <td>2098.7798</td>\n",
       "    </tr>\n",
       "    <tr>\n",
       "      <td>...</td>\n",
       "      <td>...</td>\n",
       "      <td>...</td>\n",
       "      <td>...</td>\n",
       "      <td>...</td>\n",
       "      <td>...</td>\n",
       "      <td>...</td>\n",
       "    </tr>\n",
       "    <tr>\n",
       "      <td>358</td>\n",
       "      <td>Brazil</td>\n",
       "      <td>1977</td>\n",
       "      <td>0.0</td>\n",
       "      <td>0.0</td>\n",
       "      <td>112425000.0</td>\n",
       "      <td>2031.8329</td>\n",
       "    </tr>\n",
       "    <tr>\n",
       "      <td>359</td>\n",
       "      <td>Brazil</td>\n",
       "      <td>1978</td>\n",
       "      <td>0.0</td>\n",
       "      <td>0.0</td>\n",
       "      <td>115121000.0</td>\n",
       "      <td>2016.1005</td>\n",
       "    </tr>\n",
       "    <tr>\n",
       "      <td>360</td>\n",
       "      <td>Brazil</td>\n",
       "      <td>1979</td>\n",
       "      <td>0.0</td>\n",
       "      <td>0.0</td>\n",
       "      <td>117878000.0</td>\n",
       "      <td>2000.4897</td>\n",
       "    </tr>\n",
       "    <tr>\n",
       "      <td>361</td>\n",
       "      <td>Brazil</td>\n",
       "      <td>1980</td>\n",
       "      <td>0.0</td>\n",
       "      <td>0.0</td>\n",
       "      <td>120694000.0</td>\n",
       "      <td>1985.0000</td>\n",
       "    </tr>\n",
       "    <tr>\n",
       "      <td>362</td>\n",
       "      <td>Brazil</td>\n",
       "      <td>1981</td>\n",
       "      <td>0.0</td>\n",
       "      <td>0.0</td>\n",
       "      <td>123570000.0</td>\n",
       "      <td>1974.0968</td>\n",
       "    </tr>\n",
       "  </tbody>\n",
       "</table>\n",
       "<p>100 rows × 6 columns</p>\n",
       "</div>"
      ],
      "text/plain": [
       "       Country  Year  GDP Per Capita  Life Satisfaction 0-10   Population  \\\n",
       "68   Australia  1950             0.0                     0.0    8177000.0   \n",
       "69   Australia  1951             0.0                     0.0    8398000.0   \n",
       "70   Australia  1952             0.0                     0.0    8595000.0   \n",
       "71   Australia  1953             0.0                     0.0    8782000.0   \n",
       "72   Australia  1954             0.0                     0.0    8970000.0   \n",
       "..         ...   ...             ...                     ...          ...   \n",
       "358     Brazil  1977             0.0                     0.0  112425000.0   \n",
       "359     Brazil  1978             0.0                     0.0  115121000.0   \n",
       "360     Brazil  1979             0.0                     0.0  117878000.0   \n",
       "361     Brazil  1980             0.0                     0.0  120694000.0   \n",
       "362     Brazil  1981             0.0                     0.0  123570000.0   \n",
       "\n",
       "     Hours Worked  \n",
       "68      2178.2456  \n",
       "69      2158.1013  \n",
       "70      2138.1436  \n",
       "71      2118.3701  \n",
       "72      2098.7798  \n",
       "..            ...  \n",
       "358     2031.8329  \n",
       "359     2016.1005  \n",
       "360     2000.4897  \n",
       "361     1985.0000  \n",
       "362     1974.0968  \n",
       "\n",
       "[100 rows x 6 columns]"
      ]
     },
     "execution_count": 8,
     "metadata": {},
     "output_type": "execute_result"
    }
   ],
   "source": [
    "#Country list to Analyze\n",
    "country_list = [\"United States\", \"Mexico\", \"Venezuela\", \"Brazil\", \"South Africa\", \"Nigeria\", \"Poland\", \"Sweden\", \"Russia\", \"China\", \"South Korea\", \"Australia\"]\n",
    "gdp_df = gdp_df[gdp_df.Country.isin(country_list)]\n",
    "gdp_df.head(100)"
   ]
  },
  {
   "cell_type": "code",
   "execution_count": null,
   "metadata": {},
   "outputs": [],
   "source": [
    "#Get data after 1950\n",
    "gdp_df = gdp_df[gdp_df['Year'].values >= '1990']\n",
    "\n",
    "\n",
    "gdp_df.fillna(0, inplace = True)\n",
    "gdp_df"
   ]
  },
  {
   "cell_type": "code",
   "execution_count": 9,
   "metadata": {},
   "outputs": [
    {
     "data": {
      "image/png": "[encoded data removed]",
      "text/plain": [
       "<Figure size 2160x720 with 1 Axes>"
      ]
     },
     "metadata": {
      "needs_background": "light"
     },
     "output_type": "display_data"
    }
   ],
   "source": [
    "gdp_df.groupby('Country')[['GDP Per Capita','Hours Worked']].mean().plot(kind='bar', figsize=(30,10))\n",
    "#gdp_df.groupby('Country')['Population'].mean().plot(kind='line', figsize=(30,10))\n",
    "plt.show()\n",
    "\n"
   ]
  },
  {
   "cell_type": "code",
   "execution_count": 40,
   "metadata": {},
   "outputs": [
    {
     "data": {
      "text/plain": [
       "Country                    object\n",
       "Year                        int64\n",
       "GDP Per Capita            float64\n",
       "Life Satisfaction 0-10    float64\n",
       "Population                float64\n",
       "Hours Worked              float64\n",
       "dtype: object"
      ]
     },
     "execution_count": 40,
     "metadata": {},
     "output_type": "execute_result"
    }
   ],
   "source": [
    "gdp_df.dtypes"
   ]
  },
  {
   "cell_type": "code",
   "execution_count": 60,
   "metadata": {},
   "outputs": [
    {
     "ename": "SyntaxError",
     "evalue": "unexpected EOF while parsing (<ipython-input-60-2a9aa836fe2a>, line 11)",
     "output_type": "error",
     "traceback": [
      "\u001b[0;36m  File \u001b[0;32m\"<ipython-input-60-2a9aa836fe2a>\"\u001b[0;36m, line \u001b[0;32m11\u001b[0m\n\u001b[0;31m    \u001b[0m\n\u001b[0m    ^\u001b[0m\n\u001b[0;31mSyntaxError\u001b[0m\u001b[0;31m:\u001b[0m unexpected EOF while parsing\n"
     ]
    }
   ],
   "source": [
    "hrs_worked_USA = gdp_df.loc[gdp_df['Country']=='United States']\n",
    "hrs_worked_MEX = gdp_df.loc[gdp_df['Country']==['Mexico']\n",
    "                            \n",
    "#hrs_worked_USA.plot(kind='line',x='Year',y='Hours Worked',figsize=(30,10))\n",
    "                            \n",
    "#plt.plot(hrs_worked_USA.Year, hrs_worked_USA[\"Hours Worked\"], color=\"blue\", label=\"United States\")                            \n",
    "#df.plot(kind='line',x='name',y='num_pets', color='red', ax=ax)\n",
    "\n",
    "\n",
    "#gdp_df.groupby('Country')['Population'].mean().plot(kind='line', figsize=(30,10))\n",
    "\n"
   ]
  },
  {
   "cell_type": "code",
   "execution_count": 57,
   "metadata": {},
   "outputs": [
    {
     "data": {
      "text/plain": [
       "<matplotlib.axes._subplots.AxesSubplot at 0x1a22ce3410>"
      ]
     },
     "execution_count": 57,
     "metadata": {},
     "output_type": "execute_result"
    },
    {
     "data": {
      "image/png": "[encoded data removed]",
      "text/plain": [
       "<Figure size 2160x720 with 1 Axes>"
      ]
     },
     "metadata": {
      "needs_background": "light"
     },
     "output_type": "display_data"
    }
   ],
   "source": [
    "gdp_swe = gdp_df.loc[gdp_df['Country']=='United States']\n",
    "#gdp_swe = gdp_swe.loc[gdp_df['Year']=='2016']\n",
    "#del gdp_swe['Hours Worked']\n",
    "gdp_swe.groupby('Year')[['Hours Worked', 'Life Satisfaction 0-10']].mean().plot(kind='line', figsize=(30,10))"
   ]
  },
  {
   "cell_type": "code",
   "execution_count": 22,
   "metadata": {},
   "outputs": [
    {
     "data": {
      "image/png": "[encoded data removed]",
      "text/plain": [
       "<Figure size 432x288 with 1 Axes>"
      ]
     },
     "metadata": {
      "needs_background": "light"
     },
     "output_type": "display_data"
    }
   ],
   "source": [
    "alcohol = gdp_df['Hours Worked']\n",
    "color_intensity = gdp_df['Country']\n",
    "plt.scatter(alcohol,color_intensity)\n",
    "plt.xlabel(\"Satisfaction\")\n",
    "plt.ylabel(\"Working Hours\")\n",
    "#plt.xticks(rotation=90)\n",
    "plt.show()"
   ]
  },
  {
   "cell_type": "code",
   "execution_count": 21,
   "metadata": {},
   "outputs": [
    {
     "ename": "ValueError",
     "evalue": "Could not interpret input 'Work hours per persons engaged'",
     "output_type": "error",
     "traceback": [
      "\u001b[0;31m---------------------------------------------------------------------------\u001b[0m",
      "\u001b[0;31mValueError\u001b[0m                                Traceback (most recent call last)",
      "\u001b[0;32m<ipython-input-21-d2d722ebfb48>\u001b[0m in \u001b[0;36m<module>\u001b[0;34m\u001b[0m\n\u001b[1;32m      1\u001b[0m \u001b[0;32mimport\u001b[0m \u001b[0mseaborn\u001b[0m \u001b[0;32mas\u001b[0m \u001b[0msns\u001b[0m\u001b[0;34m\u001b[0m\u001b[0;34m\u001b[0m\u001b[0m\n\u001b[0;32m----> 2\u001b[0;31m \u001b[0msns\u001b[0m\u001b[0;34m.\u001b[0m\u001b[0mscatterplot\u001b[0m\u001b[0;34m(\u001b[0m\u001b[0mdata\u001b[0m\u001b[0;34m=\u001b[0m\u001b[0mgdp_df\u001b[0m\u001b[0;34m,\u001b[0m \u001b[0mx\u001b[0m\u001b[0;34m=\u001b[0m\u001b[0;34m'Work hours per persons engaged'\u001b[0m\u001b[0;34m,\u001b[0m \u001b[0my\u001b[0m\u001b[0;34m=\u001b[0m\u001b[0;34m'Cantril Ladder(0=worst,10=best)'\u001b[0m\u001b[0;34m,\u001b[0m \u001b[0mhue\u001b[0m\u001b[0;34m=\u001b[0m\u001b[0;34m'Code'\u001b[0m\u001b[0;34m,\u001b[0m\u001b[0mlegend\u001b[0m\u001b[0;34m=\u001b[0m\u001b[0;34m'full'\u001b[0m\u001b[0;34m)\u001b[0m\u001b[0;34m\u001b[0m\u001b[0;34m\u001b[0m\u001b[0m\n\u001b[0m\u001b[1;32m      3\u001b[0m \u001b[0;34m\u001b[0m\u001b[0m\n\u001b[1;32m      4\u001b[0m \u001b[0mplt\u001b[0m\u001b[0;34m.\u001b[0m\u001b[0mtitle\u001b[0m\u001b[0;34m(\u001b[0m\u001b[0;34m\"Working hours vs Cantril Ladder Happiness\"\u001b[0m\u001b[0;34m)\u001b[0m\u001b[0;34m\u001b[0m\u001b[0;34m\u001b[0m\u001b[0m\n\u001b[1;32m      5\u001b[0m \u001b[0mplt\u001b[0m\u001b[0;34m.\u001b[0m\u001b[0mlegend\u001b[0m\u001b[0;34m(\u001b[0m\u001b[0mloc\u001b[0m\u001b[0;34m=\u001b[0m\u001b[0;34m\"center left\"\u001b[0m\u001b[0;34m,\u001b[0m \u001b[0mbbox_to_anchor\u001b[0m\u001b[0;34m=\u001b[0m\u001b[0;34m(\u001b[0m\u001b[0;36m1\u001b[0m\u001b[0;34m,\u001b[0m\u001b[0;36m.5\u001b[0m\u001b[0;34m)\u001b[0m\u001b[0;34m)\u001b[0m\u001b[0;34m\u001b[0m\u001b[0;34m\u001b[0m\u001b[0m\n",
      "\u001b[0;32m/opt/anaconda3/lib/python3.7/site-packages/seaborn/relational.py\u001b[0m in \u001b[0;36mscatterplot\u001b[0;34m(x, y, hue, style, size, data, palette, hue_order, hue_norm, sizes, size_order, size_norm, markers, style_order, x_bins, y_bins, units, estimator, ci, n_boot, alpha, x_jitter, y_jitter, legend, ax, **kwargs)\u001b[0m\n\u001b[1;32m   1333\u001b[0m         \u001b[0mx_bins\u001b[0m\u001b[0;34m=\u001b[0m\u001b[0mx_bins\u001b[0m\u001b[0;34m,\u001b[0m \u001b[0my_bins\u001b[0m\u001b[0;34m=\u001b[0m\u001b[0my_bins\u001b[0m\u001b[0;34m,\u001b[0m\u001b[0;34m\u001b[0m\u001b[0;34m\u001b[0m\u001b[0m\n\u001b[1;32m   1334\u001b[0m         \u001b[0mestimator\u001b[0m\u001b[0;34m=\u001b[0m\u001b[0mestimator\u001b[0m\u001b[0;34m,\u001b[0m \u001b[0mci\u001b[0m\u001b[0;34m=\u001b[0m\u001b[0mci\u001b[0m\u001b[0;34m,\u001b[0m \u001b[0mn_boot\u001b[0m\u001b[0;34m=\u001b[0m\u001b[0mn_boot\u001b[0m\u001b[0;34m,\u001b[0m\u001b[0;34m\u001b[0m\u001b[0;34m\u001b[0m\u001b[0m\n\u001b[0;32m-> 1335\u001b[0;31m         \u001b[0malpha\u001b[0m\u001b[0;34m=\u001b[0m\u001b[0malpha\u001b[0m\u001b[0;34m,\u001b[0m \u001b[0mx_jitter\u001b[0m\u001b[0;34m=\u001b[0m\u001b[0mx_jitter\u001b[0m\u001b[0;34m,\u001b[0m \u001b[0my_jitter\u001b[0m\u001b[0;34m=\u001b[0m\u001b[0my_jitter\u001b[0m\u001b[0;34m,\u001b[0m \u001b[0mlegend\u001b[0m\u001b[0;34m=\u001b[0m\u001b[0mlegend\u001b[0m\u001b[0;34m,\u001b[0m\u001b[0;34m\u001b[0m\u001b[0;34m\u001b[0m\u001b[0m\n\u001b[0m\u001b[1;32m   1336\u001b[0m     )\n\u001b[1;32m   1337\u001b[0m \u001b[0;34m\u001b[0m\u001b[0m\n",
      "\u001b[0;32m/opt/anaconda3/lib/python3.7/site-packages/seaborn/relational.py\u001b[0m in \u001b[0;36m__init__\u001b[0;34m(self, x, y, hue, size, style, data, palette, hue_order, hue_norm, sizes, size_order, size_norm, dashes, markers, style_order, x_bins, y_bins, units, estimator, ci, n_boot, alpha, x_jitter, y_jitter, legend)\u001b[0m\n\u001b[1;32m    850\u001b[0m \u001b[0;34m\u001b[0m\u001b[0m\n\u001b[1;32m    851\u001b[0m         plot_data = self.establish_variables(\n\u001b[0;32m--> 852\u001b[0;31m             \u001b[0mx\u001b[0m\u001b[0;34m,\u001b[0m \u001b[0my\u001b[0m\u001b[0;34m,\u001b[0m \u001b[0mhue\u001b[0m\u001b[0;34m,\u001b[0m \u001b[0msize\u001b[0m\u001b[0;34m,\u001b[0m \u001b[0mstyle\u001b[0m\u001b[0;34m,\u001b[0m \u001b[0munits\u001b[0m\u001b[0;34m,\u001b[0m \u001b[0mdata\u001b[0m\u001b[0;34m\u001b[0m\u001b[0;34m\u001b[0m\u001b[0m\n\u001b[0m\u001b[1;32m    853\u001b[0m         )\n\u001b[1;32m    854\u001b[0m \u001b[0;34m\u001b[0m\u001b[0m\n",
      "\u001b[0;32m/opt/anaconda3/lib/python3.7/site-packages/seaborn/relational.py\u001b[0m in \u001b[0;36mestablish_variables\u001b[0;34m(self, x, y, hue, size, style, units, data)\u001b[0m\n\u001b[1;32m    140\u001b[0m                 \u001b[0;32mif\u001b[0m \u001b[0misinstance\u001b[0m\u001b[0;34m(\u001b[0m\u001b[0mvar\u001b[0m\u001b[0;34m,\u001b[0m \u001b[0mstring_types\u001b[0m\u001b[0;34m)\u001b[0m\u001b[0;34m:\u001b[0m\u001b[0;34m\u001b[0m\u001b[0;34m\u001b[0m\u001b[0m\n\u001b[1;32m    141\u001b[0m                     \u001b[0merr\u001b[0m \u001b[0;34m=\u001b[0m \u001b[0;34m\"Could not interpret input '{}'\"\u001b[0m\u001b[0;34m.\u001b[0m\u001b[0mformat\u001b[0m\u001b[0;34m(\u001b[0m\u001b[0mvar\u001b[0m\u001b[0;34m)\u001b[0m\u001b[0;34m\u001b[0m\u001b[0;34m\u001b[0m\u001b[0m\n\u001b[0;32m--> 142\u001b[0;31m                     \u001b[0;32mraise\u001b[0m \u001b[0mValueError\u001b[0m\u001b[0;34m(\u001b[0m\u001b[0merr\u001b[0m\u001b[0;34m)\u001b[0m\u001b[0;34m\u001b[0m\u001b[0;34m\u001b[0m\u001b[0m\n\u001b[0m\u001b[1;32m    143\u001b[0m \u001b[0;34m\u001b[0m\u001b[0m\n\u001b[1;32m    144\u001b[0m             \u001b[0;31m# Extract variable names\u001b[0m\u001b[0;34m\u001b[0m\u001b[0;34m\u001b[0m\u001b[0;34m\u001b[0m\u001b[0m\n",
      "\u001b[0;31mValueError\u001b[0m: Could not interpret input 'Work hours per persons engaged'"
     ]
    }
   ],
   "source": [
    "import seaborn as sns\n",
    "sns.scatterplot(data=gdp_df, x='Work hours per persons engaged', y='Cantril Ladder(0=worst,10=best)', hue='Code',legend='full')\n",
    "\n",
    "plt.title(\"Working hours vs Cantril Ladder Happiness\")\n",
    "plt.legend(loc=\"center left\", bbox_to_anchor=(1,.5))\n",
    "plt.show()"
   ]
  },
  {
   "cell_type": "code",
   "execution_count": null,
   "metadata": {},
   "outputs": [],
   "source": [
    "gdp_swe['Year']= gdp_swe['Year'].astype(int)\n",
    "gdp_swe.dtypes\n"
   ]
  },
  {
   "cell_type": "code",
   "execution_count": null,
   "metadata": {},
   "outputs": [],
   "source": [
    "#gdp_swe.plot(figsize=(25,5));\n",
    "#gdp_swe.plot(kind='bar',x='Year',y='Hours Worked',color='red', figsize=(25,5))\n",
    "\n",
    "ax = plt.gca()\n",
    "\n",
    "#gdp_swe.plot(kind='line',x='Year',y='Hours Worked',ax=ax)\n",
    "gdp_swe.plot(kind='line',x='Year',y='Life Satisfaction 0-10', color='red', ax=ax, figsize=(30,10))\n",
    "\n",
    "plt.show()"
   ]
  },
  {
   "cell_type": "code",
   "execution_count": null,
   "metadata": {},
   "outputs": [],
   "source": [
    "gdp_swe.groupby('Year').mean()\n"
   ]
  },
  {
   "cell_type": "code",
   "execution_count": null,
   "metadata": {},
   "outputs": [],
   "source": [
    "#years = gdp_swe['Year']\n",
    "#gdp_swe.plot(figsize=(35,20));\n",
    "#plt.figure(figsize=(40,10))\n",
    "#plt.bar(years, gdp_swe['Life Satisfaction 0-10'])\n",
    "#plt.plot(years, gdp_swe['GDP Per Capita'])\n",
    "#plt.xticks(rotation=90)\n",
    "#plt.ylabel('Happiness Levels')\n",
    "\n",
    "\n",
    "#plt.tight_layout()\n",
    "#plt.show()\n",
    "\n",
    "#plt.scatter(gdp_swe.iloc[:,1],gdp_swe.iloc[:,3])\n",
    "\n",
    "#gdp_swe.plot(x='Year', y='Hours Worked')\n",
    "\n",
    "ax = plt.gca()\n",
    "\n",
    "#gdp_swe.plot(kind='line',x='Year',y='Hours Worked',ax=ax, figsize=(30,10))\n",
    "gdp_swe.plot(kind='line',x='Year',y='Life Satisfaction 0-10', color='red', ax=ax, figsize=(30,10))\n",
    "\n",
    "plt.show()"
   ]
  },
  {
   "cell_type": "code",
   "execution_count": null,
   "metadata": {},
   "outputs": [],
   "source": [
    "#combined_df = pd.merge(gdp_vs_happy, working_hrs, on=\"Entity\")\n",
    "#combined_df\n",
    "\n",
    "#Country list to Analyze\n",
    "country_list = [\"United States\", \"Mexico\", \"Venezuela\", \"Brazil\", \"South Africa\", \"Nigeria\", \"Poland\", \"Sweden\", \"Russia\", \"China\", \"South Korea\", \"Australia\"]\n",
    "countries = gdp_df[gdp_df.Country.isin(country_list)]\n",
    "countries.head(100)"
   ]
  },
  {
   "cell_type": "code",
   "execution_count": null,
   "metadata": {},
   "outputs": [],
   "source": []
  },
  {
   "cell_type": "code",
   "execution_count": null,
   "metadata": {},
   "outputs": [],
   "source": [
    "combined_df"
   ]
  },
  {
   "cell_type": "code",
   "execution_count": null,
   "metadata": {},
   "outputs": [],
   "source": [
    "mex_df = combined_df.loc[combined_df['Country'] == 'Mexico']\n",
    "#mex_df = mex_df.loc[combined_df['Year'] == '2015']\n",
    "mex_df= mex_df.set_index('Year')\n",
    "mex_df"
   ]
  },
  {
   "cell_type": "code",
   "execution_count": null,
   "metadata": {},
   "outputs": [],
   "source": [
    "combined_df.reset_index\n",
    "combined_df"
   ]
  },
  {
   "cell_type": "code",
   "execution_count": null,
   "metadata": {},
   "outputs": [],
   "source": [
    "combined_df.plot.bar()"
   ]
  },
  {
   "cell_type": "code",
   "execution_count": null,
   "metadata": {},
   "outputs": [],
   "source": [
    "mex_df.\n"
   ]
  },
  {
   "cell_type": "code",
   "execution_count": null,
   "metadata": {
    "scrolled": true
   },
   "outputs": [],
   "source": [
    "years = combined_df.Year.unique()\n",
    "years = pd.to_numeric(years)\n",
    "Mex_hrs = combined_df.loc[combined_df['Country'] == 'Mexico']['Hours Worked']\n",
    "years"
   ]
  },
  {
   "cell_type": "code",
   "execution_count": null,
   "metadata": {},
   "outputs": [],
   "source": []
  },
  {
   "cell_type": "code",
   "execution_count": null,
   "metadata": {},
   "outputs": [],
   "source": [
    "combined_df['Year'].plot.line"
   ]
  },
  {
   "cell_type": "code",
   "execution_count": null,
   "metadata": {},
   "outputs": [],
   "source": [
    "#Country list to Analyze\n",
    "#country_list = [\"United States\", \"Mexico\", \"Venezuela\", \"Brazil\", \"South Africa\", \"Nigeria\", \"Poland\", \"Sweden\", \"Russia\", \"China\", \"South Korea\", \"Australia\"]\n",
    "#countries = gdp_df[gdp_df.Country.isin(country_list)]\n",
    "#countries.head(100)"
   ]
  },
  {
   "cell_type": "code",
   "execution_count": null,
   "metadata": {},
   "outputs": [],
   "source": []
  }
 ],
 "metadata": {
  "kernelspec": {
   "display_name": "Python 3",
   "language": "python",
   "name": "python3"
  },
  "language_info": {
   "codemirror_mode": {
    "name": "ipython",
    "version": 3
   },
   "file_extension": ".py",
   "mimetype": "text/x-python",
   "name": "python",
   "nbconvert_exporter": "python",
   "pygments_lexer": "ipython3",
   "version": "3.7.4"
  }
 },
 "nbformat": 4,
 "nbformat_minor": 4
}
